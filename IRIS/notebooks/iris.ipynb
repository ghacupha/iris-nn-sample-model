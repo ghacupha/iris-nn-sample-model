{
 "cells": [
  {
   "cell_type": "code",
   "execution_count": 75,
   "metadata": {
    "pycharm": {
     "is_executing": false
    }
   },
   "outputs": [],
   "source": [
    "import pandas as pd\n",
    "import numpy as np\n",
    "from keras.utils import np_utils"
   ]
  },
  {
   "cell_type": "code",
   "execution_count": 76,
   "metadata": {
    "scrolled": true
   },
   "outputs": [
    {
     "output_type": "execute_result",
     "data": {
      "text/plain": [
       "   sepal_length  sepal_width  petal_length  petal_width species\n",
       "0           5.1          3.5           1.4          0.2  setosa\n",
       "1           4.9          3.0           1.4          0.2  setosa\n",
       "2           4.7          3.2           1.3          0.2  setosa\n",
       "3           4.6          3.1           1.5          0.2  setosa\n",
       "4           5.0          3.6           1.4          0.2  setosa"
      ],
      "text/html": "<div>\n<style scoped>\n    .dataframe tbody tr th:only-of-type {\n        vertical-align: middle;\n    }\n\n    .dataframe tbody tr th {\n        vertical-align: top;\n    }\n\n    .dataframe thead th {\n        text-align: right;\n    }\n</style>\n<table border=\"1\" class=\"dataframe\">\n  <thead>\n    <tr style=\"text-align: right;\">\n      <th></th>\n      <th>sepal_length</th>\n      <th>sepal_width</th>\n      <th>petal_length</th>\n      <th>petal_width</th>\n      <th>species</th>\n    </tr>\n  </thead>\n  <tbody>\n    <tr>\n      <th>0</th>\n      <td>5.1</td>\n      <td>3.5</td>\n      <td>1.4</td>\n      <td>0.2</td>\n      <td>setosa</td>\n    </tr>\n    <tr>\n      <th>1</th>\n      <td>4.9</td>\n      <td>3.0</td>\n      <td>1.4</td>\n      <td>0.2</td>\n      <td>setosa</td>\n    </tr>\n    <tr>\n      <th>2</th>\n      <td>4.7</td>\n      <td>3.2</td>\n      <td>1.3</td>\n      <td>0.2</td>\n      <td>setosa</td>\n    </tr>\n    <tr>\n      <th>3</th>\n      <td>4.6</td>\n      <td>3.1</td>\n      <td>1.5</td>\n      <td>0.2</td>\n      <td>setosa</td>\n    </tr>\n    <tr>\n      <th>4</th>\n      <td>5.0</td>\n      <td>3.6</td>\n      <td>1.4</td>\n      <td>0.2</td>\n      <td>setosa</td>\n    </tr>\n  </tbody>\n</table>\n</div>"
     },
     "metadata": {},
     "execution_count": 76
    }
   ],
   "source": [
    "df = pd.read_csv(\"iris.csv\")\n",
    "df.head()"
   ]
  },
  {
   "cell_type": "code",
   "execution_count": 77,
   "metadata": {},
   "outputs": [
    {
     "output_type": "execute_result",
     "data": {
      "text/plain": [
       "       sepal_length  sepal_width  petal_length  petal_width\n",
       "count    150.000000   150.000000    150.000000   150.000000\n",
       "mean       5.843333     3.054000      3.758667     1.198667\n",
       "std        0.828066     0.433594      1.764420     0.763161\n",
       "min        4.300000     2.000000      1.000000     0.100000\n",
       "25%        5.100000     2.800000      1.600000     0.300000\n",
       "50%        5.800000     3.000000      4.350000     1.300000\n",
       "75%        6.400000     3.300000      5.100000     1.800000\n",
       "max        7.900000     4.400000      6.900000     2.500000"
      ],
      "text/html": "<div>\n<style scoped>\n    .dataframe tbody tr th:only-of-type {\n        vertical-align: middle;\n    }\n\n    .dataframe tbody tr th {\n        vertical-align: top;\n    }\n\n    .dataframe thead th {\n        text-align: right;\n    }\n</style>\n<table border=\"1\" class=\"dataframe\">\n  <thead>\n    <tr style=\"text-align: right;\">\n      <th></th>\n      <th>sepal_length</th>\n      <th>sepal_width</th>\n      <th>petal_length</th>\n      <th>petal_width</th>\n    </tr>\n  </thead>\n  <tbody>\n    <tr>\n      <th>count</th>\n      <td>150.000000</td>\n      <td>150.000000</td>\n      <td>150.000000</td>\n      <td>150.000000</td>\n    </tr>\n    <tr>\n      <th>mean</th>\n      <td>5.843333</td>\n      <td>3.054000</td>\n      <td>3.758667</td>\n      <td>1.198667</td>\n    </tr>\n    <tr>\n      <th>std</th>\n      <td>0.828066</td>\n      <td>0.433594</td>\n      <td>1.764420</td>\n      <td>0.763161</td>\n    </tr>\n    <tr>\n      <th>min</th>\n      <td>4.300000</td>\n      <td>2.000000</td>\n      <td>1.000000</td>\n      <td>0.100000</td>\n    </tr>\n    <tr>\n      <th>25%</th>\n      <td>5.100000</td>\n      <td>2.800000</td>\n      <td>1.600000</td>\n      <td>0.300000</td>\n    </tr>\n    <tr>\n      <th>50%</th>\n      <td>5.800000</td>\n      <td>3.000000</td>\n      <td>4.350000</td>\n      <td>1.300000</td>\n    </tr>\n    <tr>\n      <th>75%</th>\n      <td>6.400000</td>\n      <td>3.300000</td>\n      <td>5.100000</td>\n      <td>1.800000</td>\n    </tr>\n    <tr>\n      <th>max</th>\n      <td>7.900000</td>\n      <td>4.400000</td>\n      <td>6.900000</td>\n      <td>2.500000</td>\n    </tr>\n  </tbody>\n</table>\n</div>"
     },
     "metadata": {},
     "execution_count": 77
    }
   ],
   "source": [
    "df.describe()"
   ]
  },
  {
   "cell_type": "code",
   "execution_count": 78,
   "metadata": {},
   "outputs": [
    {
     "output_type": "stream",
     "name": "stdout",
     "text": [
      "   sepal_length  sepal_width  petal_length  petal_width\n0           5.1          3.5           1.4          0.2\n1           4.9          3.0           1.4          0.2\n2           4.7          3.2           1.3          0.2\n3           4.6          3.1           1.5          0.2\n4           5.0          3.6           1.4          0.2\n"
     ]
    }
   ],
   "source": [
    "features = list(df.columns[:4])\n",
    "\n",
    "x = df[features]\n",
    "print(x.head())\n",
    "\n",
    "x = np.array(x)\n",
    "\n",
    "\n",
    "y = list(df['species'])\n",
    "\n",
    "y = np.array(y)"
   ]
  },
  {
   "source": [
    "### Label encoding\n",
    "\n",
    "The labels vector contains labels for the flowers in a single dimension. Using the LabelEncoder we convert that to 3 dimensions each  with 1 or 0 according to whether or not they fall into any of the 3 types"
   ],
   "cell_type": "markdown",
   "metadata": {}
  },
  {
   "cell_type": "code",
   "execution_count": 79,
   "metadata": {},
   "outputs": [
    {
     "output_type": "stream",
     "name": "stdout",
     "text": [
      "[[1 0 0]\n [1 0 0]\n [1 0 0]\n [1 0 0]\n [1 0 0]]\n"
     ]
    }
   ],
   "source": [
    "from sklearn.preprocessing import LabelEncoder\n",
    "\n",
    "encoder = LabelEncoder()\n",
    "y1 = encoder.fit_transform(y)\n",
    "y = pd.get_dummies(y1).values\n",
    "\n",
    "# Alternative for checking the head in ndarray\n",
    "print(y[:5])"
   ]
  },
  {
   "source": [
    "### Train/Test Split\n",
    "\n",
    "We us the train_test_split function in the model_selction module to split the data as follows:\n",
    "\n",
    " - 30% test data\n",
    " - 70% training data"
   ],
   "cell_type": "markdown",
   "metadata": {}
  },
  {
   "cell_type": "code",
   "execution_count": 80,
   "metadata": {},
   "outputs": [],
   "source": [
    "from sklearn.model_selection import train_test_split\n",
    "\n",
    "x_train, x_test, y_train, y_test = train_test_split(x,y, test_size=0.30, random_state=0)"
   ]
  },
  {
   "source": [
    "### Neural Network Architecture\n",
    "\n",
    "Below we are going to define using keras a neural network model with the following layers\n",
    "\n",
    " - Layer 1: Input layer with 4 units (feature matrix has 4 dimensions) RELU activation\n",
    " - Layer 2: Inner layer with 5 units RELU activation\n",
    " - Layer 3: Output layer with 3 units SOFTMAX activation\n",
    "\n",
    "This is Sequential model is created incrementally via the add() method. "
   ],
   "cell_type": "markdown",
   "metadata": {}
  },
  {
   "cell_type": "code",
   "execution_count": 81,
   "metadata": {
    "tags": [
     "outputPrepend"
    ]
   },
   "outputs": [
    {
     "output_type": "stream",
     "name": "stdout",
     "text": [
      "curacy: 0.6421\n",
      "Epoch 6/200\n",
      "21/21 [==============================] - 0s 650us/step - loss: 0.9270 - accuracy: 0.6332\n",
      "Epoch 7/200\n",
      "21/21 [==============================] - 0s 700us/step - loss: 0.9087 - accuracy: 0.6279\n",
      "Epoch 8/200\n",
      "21/21 [==============================] - 0s 650us/step - loss: 0.7817 - accuracy: 0.7405\n",
      "Epoch 9/200\n",
      "21/21 [==============================] - 0s 699us/step - loss: 0.7759 - accuracy: 0.7188\n",
      "Epoch 10/200\n",
      "21/21 [==============================] - 0s 600us/step - loss: 0.7329 - accuracy: 0.6773\n",
      "Epoch 11/200\n",
      "21/21 [==============================] - 0s 750us/step - loss: 0.7435 - accuracy: 0.7993\n",
      "Epoch 12/200\n",
      "21/21 [==============================] - 0s 650us/step - loss: 0.7063 - accuracy: 0.7390\n",
      "Epoch 13/200\n",
      "21/21 [==============================] - 0s 700us/step - loss: 0.6901 - accuracy: 0.7571\n",
      "Epoch 14/200\n",
      "21/21 [==============================] - 0s 650us/step - loss: 0.6965 - accuracy: 0.6990\n",
      "Epoch 15/200\n",
      "21/21 [==============================] - 0s 652us/step - loss: 0.7350 - accuracy: 0.7367\n",
      "Epoch 16/200\n",
      "21/21 [==============================] - 0s 648us/step - loss: 0.6712 - accuracy: 0.7879\n",
      "Epoch 17/200\n",
      "21/21 [==============================] - 0s 600us/step - loss: 0.6556 - accuracy: 0.8235\n",
      "Epoch 18/200\n",
      "21/21 [==============================] - 0s 650us/step - loss: 0.6680 - accuracy: 0.8938\n",
      "Epoch 19/200\n",
      "21/21 [==============================] - 0s 600us/step - loss: 0.6492 - accuracy: 0.8399\n",
      "Epoch 20/200\n",
      "21/21 [==============================] - 0s 652us/step - loss: 0.6994 - accuracy: 0.9159\n",
      "Epoch 21/200\n",
      "21/21 [==============================] - 0s 699us/step - loss: 0.6171 - accuracy: 0.9387\n",
      "Epoch 22/200\n",
      "21/21 [==============================] - 0s 650us/step - loss: 0.6345 - accuracy: 0.9633\n",
      "Epoch 23/200\n",
      "21/21 [==============================] - 0s 650us/step - loss: 0.6177 - accuracy: 0.9586\n",
      "Epoch 24/200\n",
      "21/21 [==============================] - 0s 649us/step - loss: 0.6099 - accuracy: 0.9611\n",
      "Epoch 25/200\n",
      "21/21 [==============================] - 0s 648us/step - loss: 0.5716 - accuracy: 0.9302\n",
      "Epoch 26/200\n",
      "21/21 [==============================] - 0s 702us/step - loss: 0.6240 - accuracy: 0.9507\n",
      "Epoch 27/200\n",
      "21/21 [==============================] - 0s 700us/step - loss: 0.6146 - accuracy: 0.9662\n",
      "Epoch 28/200\n",
      "21/21 [==============================] - 0s 649us/step - loss: 0.4875 - accuracy: 0.8928\n",
      "Epoch 29/200\n",
      "21/21 [==============================] - 0s 601us/step - loss: 0.5665 - accuracy: 0.9787\n",
      "Epoch 30/200\n",
      "21/21 [==============================] - 0s 701us/step - loss: 0.6283 - accuracy: 0.9581\n",
      "Epoch 31/200\n",
      "21/21 [==============================] - 0s 750us/step - loss: 0.5495 - accuracy: 0.9945\n",
      "Epoch 32/200\n",
      "21/21 [==============================] - 0s 700us/step - loss: 0.5408 - accuracy: 0.9841\n",
      "Epoch 33/200\n",
      "21/21 [==============================] - 0s 600us/step - loss: 0.5942 - accuracy: 0.9748\n",
      "Epoch 34/200\n",
      "21/21 [==============================] - 0s 650us/step - loss: 0.5049 - accuracy: 0.9648\n",
      "Epoch 35/200\n",
      "21/21 [==============================] - 0s 650us/step - loss: 0.4875 - accuracy: 0.9603\n",
      "Epoch 36/200\n",
      "21/21 [==============================] - 0s 700us/step - loss: 0.5242 - accuracy: 0.9278\n",
      "Epoch 37/200\n",
      "21/21 [==============================] - 0s 600us/step - loss: 0.4835 - accuracy: 0.9554\n",
      "Epoch 38/200\n",
      "21/21 [==============================] - 0s 598us/step - loss: 0.5144 - accuracy: 0.9556\n",
      "Epoch 39/200\n",
      "21/21 [==============================] - 0s 700us/step - loss: 0.4622 - accuracy: 0.9535\n",
      "Epoch 40/200\n",
      "21/21 [==============================] - 0s 698us/step - loss: 0.4589 - accuracy: 0.9129\n",
      "Epoch 41/200\n",
      "21/21 [==============================] - 0s 1ms/step - loss: 0.4766 - accuracy: 0.9793\n",
      "Epoch 42/200\n",
      "21/21 [==============================] - 0s 750us/step - loss: 0.4212 - accuracy: 0.9321\n",
      "Epoch 43/200\n",
      "21/21 [==============================] - 0s 900us/step - loss: 0.4242 - accuracy: 0.9421\n",
      "Epoch 44/200\n",
      "21/21 [==============================] - 0s 700us/step - loss: 0.3952 - accuracy: 0.9573\n",
      "Epoch 45/200\n",
      "21/21 [==============================] - 0s 750us/step - loss: 0.4094 - accuracy: 0.9416\n",
      "Epoch 46/200\n",
      "21/21 [==============================] - 0s 600us/step - loss: 0.3827 - accuracy: 0.9496\n",
      "Epoch 47/200\n",
      "21/21 [==============================] - 0s 600us/step - loss: 0.3669 - accuracy: 0.9591\n",
      "Epoch 48/200\n",
      "21/21 [==============================] - 0s 600us/step - loss: 0.3927 - accuracy: 0.9250\n",
      "Epoch 49/200\n",
      "21/21 [==============================] - 0s 650us/step - loss: 0.3807 - accuracy: 0.9320\n",
      "Epoch 50/200\n",
      "21/21 [==============================] - 0s 650us/step - loss: 0.3737 - accuracy: 0.9464\n",
      "Epoch 51/200\n",
      "21/21 [==============================] - 0s 650us/step - loss: 0.3950 - accuracy: 0.9179\n",
      "Epoch 52/200\n",
      "21/21 [==============================] - 0s 600us/step - loss: 0.3223 - accuracy: 0.9555\n",
      "Epoch 53/200\n",
      "21/21 [==============================] - 0s 600us/step - loss: 0.3763 - accuracy: 0.9496\n",
      "Epoch 54/200\n",
      "21/21 [==============================] - 0s 600us/step - loss: 0.3822 - accuracy: 0.9030\n",
      "Epoch 55/200\n",
      "21/21 [==============================] - 0s 650us/step - loss: 0.3410 - accuracy: 0.9511\n",
      "Epoch 56/200\n",
      "21/21 [==============================] - 0s 602us/step - loss: 0.3380 - accuracy: 0.9534\n",
      "Epoch 57/200\n",
      "21/21 [==============================] - 0s 600us/step - loss: 0.3677 - accuracy: 0.9330\n",
      "Epoch 58/200\n",
      "21/21 [==============================] - 0s 650us/step - loss: 0.3832 - accuracy: 0.9285\n",
      "Epoch 59/200\n",
      "21/21 [==============================] - 0s 650us/step - loss: 0.3528 - accuracy: 0.9602\n",
      "Epoch 60/200\n",
      "21/21 [==============================] - 0s 650us/step - loss: 0.3034 - accuracy: 0.9393\n",
      "Epoch 61/200\n",
      "21/21 [==============================] - 0s 600us/step - loss: 0.3426 - accuracy: 0.9156\n",
      "Epoch 62/200\n",
      "21/21 [==============================] - 0s 550us/step - loss: 0.3197 - accuracy: 0.9690\n",
      "Epoch 63/200\n",
      "21/21 [==============================] - 0s 550us/step - loss: 0.2973 - accuracy: 0.9729\n",
      "Epoch 64/200\n",
      "21/21 [==============================] - 0s 600us/step - loss: 0.3033 - accuracy: 0.9439\n",
      "Epoch 65/200\n",
      "21/21 [==============================] - 0s 650us/step - loss: 0.3165 - accuracy: 0.9315\n",
      "Epoch 66/200\n",
      "21/21 [==============================] - 0s 600us/step - loss: 0.3165 - accuracy: 0.9163\n",
      "Epoch 67/200\n",
      "21/21 [==============================] - 0s 600us/step - loss: 0.3216 - accuracy: 0.9502\n",
      "Epoch 68/200\n",
      "21/21 [==============================] - 0s 650us/step - loss: 0.3195 - accuracy: 0.9476\n",
      "Epoch 69/200\n",
      "21/21 [==============================] - 0s 700us/step - loss: 0.2288 - accuracy: 0.9889\n",
      "Epoch 70/200\n",
      "21/21 [==============================] - 0s 650us/step - loss: 0.2672 - accuracy: 0.9533\n",
      "Epoch 71/200\n",
      "21/21 [==============================] - 0s 650us/step - loss: 0.2824 - accuracy: 0.9718\n",
      "Epoch 72/200\n",
      "21/21 [==============================] - 0s 650us/step - loss: 0.2589 - accuracy: 0.9890\n",
      "Epoch 73/200\n",
      "21/21 [==============================] - 0s 700us/step - loss: 0.2445 - accuracy: 0.9857\n",
      "Epoch 74/200\n",
      "21/21 [==============================] - 0s 550us/step - loss: 0.2413 - accuracy: 0.9800\n",
      "Epoch 75/200\n",
      "21/21 [==============================] - 0s 550us/step - loss: 0.2910 - accuracy: 0.9769\n",
      "Epoch 76/200\n",
      "21/21 [==============================] - 0s 700us/step - loss: 0.2899 - accuracy: 0.9705\n",
      "Epoch 77/200\n",
      "21/21 [==============================] - 0s 700us/step - loss: 0.2778 - accuracy: 0.9296\n",
      "Epoch 78/200\n",
      "21/21 [==============================] - 0s 700us/step - loss: 0.2070 - accuracy: 0.9847\n",
      "Epoch 79/200\n",
      "21/21 [==============================] - 0s 650us/step - loss: 0.2462 - accuracy: 0.9612\n",
      "Epoch 80/200\n",
      "21/21 [==============================] - 0s 650us/step - loss: 0.2310 - accuracy: 0.9700\n",
      "Epoch 81/200\n",
      "21/21 [==============================] - 0s 600us/step - loss: 0.2224 - accuracy: 0.9708\n",
      "Epoch 82/200\n",
      "21/21 [==============================] - 0s 650us/step - loss: 0.2445 - accuracy: 0.9638\n",
      "Epoch 83/200\n",
      "21/21 [==============================] - 0s 650us/step - loss: 0.2217 - accuracy: 0.9742\n",
      "Epoch 84/200\n",
      "21/21 [==============================] - 0s 600us/step - loss: 0.2390 - accuracy: 0.9687\n",
      "Epoch 85/200\n",
      "21/21 [==============================] - 0s 600us/step - loss: 0.2268 - accuracy: 0.9747\n",
      "Epoch 86/200\n",
      "21/21 [==============================] - 0s 600us/step - loss: 0.2313 - accuracy: 0.9680\n",
      "Epoch 87/200\n",
      "21/21 [==============================] - 0s 600us/step - loss: 0.2267 - accuracy: 0.9813\n",
      "Epoch 88/200\n",
      "21/21 [==============================] - 0s 650us/step - loss: 0.1912 - accuracy: 0.9880\n",
      "Epoch 89/200\n",
      "21/21 [==============================] - 0s 650us/step - loss: 0.1973 - accuracy: 0.9813\n",
      "Epoch 90/200\n",
      "21/21 [==============================] - 0s 700us/step - loss: 0.2171 - accuracy: 0.9898\n",
      "Epoch 91/200\n",
      "21/21 [==============================] - 0s 700us/step - loss: 0.2305 - accuracy: 0.9603\n",
      "Epoch 92/200\n",
      "21/21 [==============================] - 0s 800us/step - loss: 0.2057 - accuracy: 0.9529\n",
      "Epoch 93/200\n",
      "21/21 [==============================] - 0s 600us/step - loss: 0.2063 - accuracy: 0.9556\n",
      "Epoch 94/200\n",
      "21/21 [==============================] - 0s 650us/step - loss: 0.2008 - accuracy: 0.9814\n",
      "Epoch 95/200\n",
      "21/21 [==============================] - 0s 600us/step - loss: 0.1747 - accuracy: 0.9872\n",
      "Epoch 96/200\n",
      "21/21 [==============================] - 0s 800us/step - loss: 0.1853 - accuracy: 0.9953\n",
      "Epoch 97/200\n",
      "21/21 [==============================] - 0s 750us/step - loss: 0.1639 - accuracy: 0.9600\n",
      "Epoch 98/200\n",
      "21/21 [==============================] - 0s 600us/step - loss: 0.1944 - accuracy: 0.9973\n",
      "Epoch 99/200\n",
      "21/21 [==============================] - 0s 650us/step - loss: 0.1719 - accuracy: 0.9808\n",
      "Epoch 100/200\n",
      "21/21 [==============================] - 0s 700us/step - loss: 0.1458 - accuracy: 0.9925\n",
      "Epoch 101/200\n",
      "21/21 [==============================] - 0s 600us/step - loss: 0.1780 - accuracy: 0.9854\n",
      "Epoch 102/200\n",
      "21/21 [==============================] - 0s 550us/step - loss: 0.1789 - accuracy: 0.9783\n",
      "Epoch 103/200\n",
      "21/21 [==============================] - 0s 650us/step - loss: 0.2180 - accuracy: 0.9835\n",
      "Epoch 104/200\n",
      "21/21 [==============================] - 0s 850us/step - loss: 0.1715 - accuracy: 0.9972\n",
      "Epoch 105/200\n",
      "21/21 [==============================] - 0s 650us/step - loss: 0.1762 - accuracy: 0.9863\n",
      "Epoch 106/200\n",
      "21/21 [==============================] - 0s 600us/step - loss: 0.1873 - accuracy: 0.9550\n",
      "Epoch 107/200\n",
      "21/21 [==============================] - 0s 600us/step - loss: 0.1454 - accuracy: 0.9612\n",
      "Epoch 108/200\n",
      "21/21 [==============================] - 0s 550us/step - loss: 0.1620 - accuracy: 0.9878\n",
      "Epoch 109/200\n",
      "21/21 [==============================] - 0s 600us/step - loss: 0.1852 - accuracy: 0.9663\n",
      "Epoch 110/200\n",
      "21/21 [==============================] - 0s 600us/step - loss: 0.1605 - accuracy: 0.9964\n",
      "Epoch 111/200\n",
      "21/21 [==============================] - 0s 600us/step - loss: 0.1450 - accuracy: 0.9506\n",
      "Epoch 112/200\n",
      "21/21 [==============================] - 0s 600us/step - loss: 0.1761 - accuracy: 0.9912\n",
      "Epoch 113/200\n",
      "21/21 [==============================] - 0s 650us/step - loss: 0.1611 - accuracy: 0.9800\n",
      "Epoch 114/200\n",
      "21/21 [==============================] - 0s 650us/step - loss: 0.1719 - accuracy: 0.9703\n",
      "Epoch 115/200\n",
      "21/21 [==============================] - 0s 650us/step - loss: 0.1544 - accuracy: 0.9783\n",
      "Epoch 116/200\n",
      "21/21 [==============================] - 0s 550us/step - loss: 0.1388 - accuracy: 0.9850\n",
      "Epoch 117/200\n",
      "21/21 [==============================] - 0s 550us/step - loss: 0.1351 - accuracy: 0.9881\n",
      "Epoch 118/200\n",
      "21/21 [==============================] - 0s 550us/step - loss: 0.1537 - accuracy: 0.9953\n",
      "Epoch 119/200\n",
      "21/21 [==============================] - 0s 700us/step - loss: 0.1202 - accuracy: 0.9940\n",
      "Epoch 120/200\n",
      "21/21 [==============================] - 0s 650us/step - loss: 0.1451 - accuracy: 0.9668\n",
      "Epoch 121/200\n",
      "21/21 [==============================] - 0s 599us/step - loss: 0.1498 - accuracy: 0.9683\n",
      "Epoch 122/200\n",
      "21/21 [==============================] - 0s 600us/step - loss: 0.1730 - accuracy: 0.9573\n",
      "Epoch 123/200\n",
      "21/21 [==============================] - 0s 700us/step - loss: 0.1533 - accuracy: 0.9699\n",
      "Epoch 124/200\n",
      "21/21 [==============================] - 0s 600us/step - loss: 0.1462 - accuracy: 0.9767\n",
      "Epoch 125/200\n",
      "21/21 [==============================] - 0s 650us/step - loss: 0.1235 - accuracy: 0.9953\n",
      "Epoch 126/200\n",
      "21/21 [==============================] - 0s 650us/step - loss: 0.1327 - accuracy: 0.9917\n",
      "Epoch 127/200\n",
      "21/21 [==============================] - 0s 600us/step - loss: 0.1343 - accuracy: 0.9921\n",
      "Epoch 128/200\n",
      "21/21 [==============================] - 0s 552us/step - loss: 0.1406 - accuracy: 0.9938\n",
      "Epoch 129/200\n",
      "21/21 [==============================] - 0s 550us/step - loss: 0.1256 - accuracy: 0.9862\n",
      "Epoch 130/200\n",
      "21/21 [==============================] - 0s 600us/step - loss: 0.1420 - accuracy: 0.9747\n",
      "Epoch 131/200\n",
      "21/21 [==============================] - 0s 900us/step - loss: 0.1135 - accuracy: 0.9873\n",
      "Epoch 132/200\n",
      "21/21 [==============================] - 0s 700us/step - loss: 0.1039 - accuracy: 0.9638\n",
      "Epoch 133/200\n",
      "21/21 [==============================] - 0s 550us/step - loss: 0.0987 - accuracy: 0.9942\n",
      "Epoch 134/200\n",
      "21/21 [==============================] - 0s 550us/step - loss: 0.1305 - accuracy: 0.9881\n",
      "Epoch 135/200\n",
      "21/21 [==============================] - 0s 600us/step - loss: 0.1381 - accuracy: 0.9938\n",
      "Epoch 136/200\n",
      "21/21 [==============================] - 0s 550us/step - loss: 0.1280 - accuracy: 0.9613\n",
      "Epoch 137/200\n",
      "21/21 [==============================] - 0s 700us/step - loss: 0.1136 - accuracy: 0.9947\n",
      "Epoch 138/200\n",
      "21/21 [==============================] - 0s 650us/step - loss: 0.1143 - accuracy: 0.9868\n",
      "Epoch 139/200\n",
      "21/21 [==============================] - 0s 650us/step - loss: 0.1130 - accuracy: 0.9902\n",
      "Epoch 140/200\n",
      "21/21 [==============================] - 0s 600us/step - loss: 0.1247 - accuracy: 0.9712\n",
      "Epoch 141/200\n",
      "21/21 [==============================] - 0s 650us/step - loss: 0.1067 - accuracy: 0.9912\n",
      "Epoch 142/200\n",
      "21/21 [==============================] - 0s 700us/step - loss: 0.0982 - accuracy: 0.9853\n",
      "Epoch 143/200\n",
      "21/21 [==============================] - 0s 600us/step - loss: 0.1042 - accuracy: 0.9946\n",
      "Epoch 144/200\n",
      "21/21 [==============================] - 0s 650us/step - loss: 0.1020 - accuracy: 0.9991\n",
      "Epoch 145/200\n",
      "21/21 [==============================] - 0s 550us/step - loss: 0.1049 - accuracy: 0.9919\n",
      "Epoch 146/200\n",
      "21/21 [==============================] - 0s 650us/step - loss: 0.1214 - accuracy: 0.9738\n",
      "Epoch 147/200\n",
      "21/21 [==============================] - 0s 650us/step - loss: 0.1084 - accuracy: 0.9783\n",
      "Epoch 148/200\n",
      "21/21 [==============================] - 0s 650us/step - loss: 0.1072 - accuracy: 0.9854\n",
      "Epoch 149/200\n",
      "21/21 [==============================] - 0s 650us/step - loss: 0.1007 - accuracy: 0.9863\n",
      "Epoch 150/200\n",
      "21/21 [==============================] - 0s 700us/step - loss: 0.1057 - accuracy: 0.9702\n",
      "Epoch 151/200\n",
      "21/21 [==============================] - 0s 650us/step - loss: 0.1374 - accuracy: 0.9755\n",
      "Epoch 152/200\n",
      "21/21 [==============================] - 0s 650us/step - loss: 0.0955 - accuracy: 0.9958\n",
      "Epoch 153/200\n",
      "21/21 [==============================] - 0s 600us/step - loss: 0.1204 - accuracy: 0.9822\n",
      "Epoch 154/200\n",
      "21/21 [==============================] - 0s 800us/step - loss: 0.1191 - accuracy: 0.9755\n",
      "Epoch 155/200\n",
      "21/21 [==============================] - 0s 750us/step - loss: 0.1139 - accuracy: 0.9772\n",
      "Epoch 156/200\n",
      "21/21 [==============================] - 0s 600us/step - loss: 0.1193 - accuracy: 0.9627\n",
      "Epoch 157/200\n",
      "21/21 [==============================] - 0s 650us/step - loss: 0.1093 - accuracy: 0.9754\n",
      "Epoch 158/200\n",
      "21/21 [==============================] - 0s 700us/step - loss: 0.0867 - accuracy: 0.9958\n",
      "Epoch 159/200\n",
      "21/21 [==============================] - 0s 550us/step - loss: 0.1235 - accuracy: 0.9701\n",
      "Epoch 160/200\n",
      "21/21 [==============================] - 0s 700us/step - loss: 0.0735 - accuracy: 0.9933\n",
      "Epoch 161/200\n",
      "21/21 [==============================] - 0s 550us/step - loss: 0.0867 - accuracy: 0.9883\n",
      "Epoch 162/200\n",
      "21/21 [==============================] - 0s 650us/step - loss: 0.0951 - accuracy: 0.9982\n",
      "Epoch 163/200\n",
      "21/21 [==============================] - 0s 750us/step - loss: 0.0930 - accuracy: 0.9866\n",
      "Epoch 164/200\n",
      "21/21 [==============================] - 0s 650us/step - loss: 0.1000 - accuracy: 0.9845\n",
      "Epoch 165/200\n",
      "21/21 [==============================] - 0s 600us/step - loss: 0.0939 - accuracy: 0.9917\n",
      "Epoch 166/200\n",
      "21/21 [==============================] - 0s 650us/step - loss: 0.0948 - accuracy: 0.9910\n",
      "Epoch 167/200\n",
      "21/21 [==============================] - 0s 700us/step - loss: 0.1140 - accuracy: 0.9939\n",
      "Epoch 168/200\n",
      "21/21 [==============================] - 0s 700us/step - loss: 0.0983 - accuracy: 0.9959\n",
      "Epoch 169/200\n",
      "21/21 [==============================] - 0s 650us/step - loss: 0.0735 - accuracy: 0.9939\n",
      "Epoch 170/200\n",
      "21/21 [==============================] - 0s 650us/step - loss: 0.0814 - accuracy: 0.9838\n",
      "Epoch 171/200\n",
      "21/21 [==============================] - 0s 600us/step - loss: 0.0961 - accuracy: 0.9900\n",
      "Epoch 172/200\n",
      "21/21 [==============================] - 0s 500us/step - loss: 0.0851 - accuracy: 0.9977\n",
      "Epoch 173/200\n",
      "21/21 [==============================] - 0s 600us/step - loss: 0.0794 - accuracy: 0.9963\n",
      "Epoch 174/200\n",
      "21/21 [==============================] - 0s 600us/step - loss: 0.0933 - accuracy: 0.9756\n",
      "Epoch 175/200\n",
      "21/21 [==============================] - 0s 599us/step - loss: 0.0923 - accuracy: 0.9798\n",
      "Epoch 176/200\n",
      "21/21 [==============================] - 0s 550us/step - loss: 0.0829 - accuracy: 0.9833\n",
      "Epoch 177/200\n",
      "21/21 [==============================] - 0s 650us/step - loss: 0.0931 - accuracy: 0.9761\n",
      "Epoch 178/200\n",
      "21/21 [==============================] - 0s 550us/step - loss: 0.0892 - accuracy: 0.9752\n",
      "Epoch 179/200\n",
      "21/21 [==============================] - 0s 600us/step - loss: 0.0705 - accuracy: 0.9877\n",
      "Epoch 180/200\n",
      "21/21 [==============================] - 0s 600us/step - loss: 0.0750 - accuracy: 0.9871\n",
      "Epoch 181/200\n",
      "21/21 [==============================] - 0s 550us/step - loss: 0.0891 - accuracy: 0.9791\n",
      "Epoch 182/200\n",
      "21/21 [==============================] - 0s 600us/step - loss: 0.0898 - accuracy: 0.9702\n",
      "Epoch 183/200\n",
      "21/21 [==============================] - 0s 550us/step - loss: 0.0815 - accuracy: 0.9798\n",
      "Epoch 184/200\n",
      "21/21 [==============================] - 0s 600us/step - loss: 0.0887 - accuracy: 0.9887\n",
      "Epoch 185/200\n",
      "21/21 [==============================] - 0s 700us/step - loss: 0.0844 - accuracy: 0.9813\n",
      "Epoch 186/200\n",
      "21/21 [==============================] - 0s 650us/step - loss: 0.0755 - accuracy: 0.9761\n",
      "Epoch 187/200\n",
      "21/21 [==============================] - 0s 651us/step - loss: 0.1016 - accuracy: 0.9703\n",
      "Epoch 188/200\n",
      "21/21 [==============================] - 0s 650us/step - loss: 0.0770 - accuracy: 0.9833\n",
      "Epoch 189/200\n",
      "21/21 [==============================] - 0s 650us/step - loss: 0.0799 - accuracy: 0.9752\n",
      "Epoch 190/200\n",
      "21/21 [==============================] - 0s 650us/step - loss: 0.0701 - accuracy: 0.9833\n",
      "Epoch 191/200\n",
      "21/21 [==============================] - 0s 600us/step - loss: 0.0772 - accuracy: 0.9964\n",
      "Epoch 192/200\n",
      "21/21 [==============================] - 0s 600us/step - loss: 0.0601 - accuracy: 0.9880\n",
      "Epoch 193/200\n",
      "21/21 [==============================] - 0s 551us/step - loss: 0.0868 - accuracy: 0.9694\n",
      "Epoch 194/200\n",
      "21/21 [==============================] - 0s 650us/step - loss: 0.0780 - accuracy: 0.9887\n",
      "Epoch 195/200\n",
      "21/21 [==============================] - 0s 700us/step - loss: 0.0847 - accuracy: 0.9646\n",
      "Epoch 196/200\n",
      "21/21 [==============================] - 0s 700us/step - loss: 0.0918 - accuracy: 0.9632\n",
      "Epoch 197/200\n",
      "21/21 [==============================] - 0s 650us/step - loss: 0.0616 - accuracy: 0.9958\n",
      "Epoch 198/200\n",
      "21/21 [==============================] - 0s 602us/step - loss: 0.0690 - accuracy: 0.9928\n",
      "Epoch 199/200\n",
      "21/21 [==============================] - 0s 800us/step - loss: 0.0804 - accuracy: 0.9891\n",
      "Epoch 200/200\n",
      "21/21 [==============================] - 0s 649us/step - loss: 0.0621 - accuracy: 0.9885\n"
     ]
    },
    {
     "output_type": "execute_result",
     "data": {
      "text/plain": [
       "<tensorflow.python.keras.callbacks.History at 0x214041e3340>"
      ]
     },
     "metadata": {},
     "execution_count": 81
    }
   ],
   "source": [
    "import keras\n",
    "\n",
    "# Define model with keras_Squential\n",
    "model = keras.Sequential()\n",
    "\n",
    "# Using 4 units at input as the feature matrix has 4 dimensions\n",
    "model.add(Dense(units = 4, activation = 'relu'))\n",
    "\n",
    "# Inner layer defined with 5 units\n",
    "model.add(Dense(units = 5, activation = 'relu'))\n",
    "\n",
    "# Using 3 output units as the label matrix has 3 dimensions\n",
    "model.add(Dense(units = 3, activation = 'softmax'))\n",
    "\n",
    "model.compile(optimizer = 'adam', loss='categorical_crossentropy', metrics=['accuracy'])\n",
    "\n",
    "model.fit(x_train, y_train, epochs=200, batch_size=5, shuffle=True)\n"
   ]
  },
  {
   "cell_type": "code",
   "execution_count": 82,
   "metadata": {},
   "outputs": [
    {
     "output_type": "stream",
     "name": "stdout",
     "text": [
      "Model: \"sequential_12\"\n_________________________________________________________________\nLayer (type)                 Output Shape              Param #   \n=================================================================\ndense_36 (Dense)             (5, 4)                    20        \n_________________________________________________________________\ndense_37 (Dense)             (5, 5)                    25        \n_________________________________________________________________\ndense_38 (Dense)             (5, 3)                    18        \n=================================================================\nTotal params: 63\nTrainable params: 63\nNon-trainable params: 0\n_________________________________________________________________\n"
     ]
    }
   ],
   "source": [
    "model.summary()"
   ]
  },
  {
   "cell_type": "code",
   "execution_count": 83,
   "metadata": {},
   "outputs": [
    {
     "output_type": "stream",
     "name": "stdout",
     "text": [
      "2/2 [==============================] - 0s 2ms/step - loss: 0.1416 - accuracy: 0.9556\n",
      "\n",
      "Accuracy: 95.56%\n"
     ]
    }
   ],
   "source": [
    "scores = model.evaluate(x_test, y_test)\n",
    "print(\"\\nAccuracy: %.2f%%\" % (scores[1]*100))"
   ]
  },
  {
   "cell_type": "code",
   "execution_count": 88,
   "metadata": {},
   "outputs": [],
   "source": [
    "y_pred = model.predict(x_test)"
   ]
  },
  {
   "cell_type": "code",
   "execution_count": 86,
   "metadata": {},
   "outputs": [
    {
     "output_type": "execute_result",
     "data": {
      "text/plain": [
       "(array([6. , 2.2, 4. , 1. ]),\n",
       " array([6.5911474e-04, 9.9854064e-01, 8.0022356e-04], dtype=float32))"
      ]
     },
     "metadata": {},
     "execution_count": 86
    }
   ],
   "source": [
    "x_test[1,:],y_pred[1]"
   ]
  },
  {
   "cell_type": "code",
   "execution_count": 36,
   "metadata": {},
   "outputs": [
    {
     "output_type": "stream",
     "name": "stdout",
     "text": [
      "1\n"
     ]
    }
   ],
   "source": [
    "y_pred_class = np.argmax(y_pred[1])\n",
    "print(y_pred_class)"
   ]
  },
  {
   "cell_type": "code",
   "execution_count": 37,
   "metadata": {},
   "outputs": [
    {
     "output_type": "stream",
     "name": "stdout",
     "text": [
      "INFO:tensorflow:Assets written to: model_file.iris\\assets\n"
     ]
    }
   ],
   "source": [
    "model.save('model_file.iris')"
   ]
  },
  {
   "cell_type": "code",
   "execution_count": null,
   "metadata": {},
   "outputs": [],
   "source": [
    "import numpy as np \n",
    "from keras.models import load_model"
   ]
  },
  {
   "cell_type": "code",
   "execution_count": 55,
   "metadata": {},
   "outputs": [],
   "source": [
    "iris_model = load_model('model_file.iris')\n",
    "\n"
   ]
  },
  {
   "cell_type": "code",
   "execution_count": 93,
   "metadata": {},
   "outputs": [
    {
     "name": "stdout",
     "output_type": "stream",
     "text": [
      "(4,)\n"
     ]
    }
   ],
   "source": [
    "T = np.array([4.9, 3.0, 1.4, 0.9])\n",
    "#data = T.transpose()\n",
    "print(data.shape)\n"
   ]
  },
  {
   "cell_type": "code",
   "execution_count": 92,
   "metadata": {},
   "outputs": [
    {
     "ename": "ValueError",
     "evalue": "in user code:\n\n    c:\\python38\\lib\\site-packages\\tensorflow\\python\\keras\\engine\\training.py:1478 predict_function  *\n        return step_function(self, iterator)\n    c:\\python38\\lib\\site-packages\\tensorflow\\python\\keras\\engine\\training.py:1468 step_function  **\n        outputs = model.distribute_strategy.run(run_step, args=(data,))\n    c:\\python38\\lib\\site-packages\\tensorflow\\python\\distribute\\distribute_lib.py:1259 run\n        return self._extended.call_for_each_replica(fn, args=args, kwargs=kwargs)\n    c:\\python38\\lib\\site-packages\\tensorflow\\python\\distribute\\distribute_lib.py:2730 call_for_each_replica\n        return self._call_for_each_replica(fn, args, kwargs)\n    c:\\python38\\lib\\site-packages\\tensorflow\\python\\distribute\\distribute_lib.py:3417 _call_for_each_replica\n        return fn(*args, **kwargs)\n    c:\\python38\\lib\\site-packages\\tensorflow\\python\\keras\\engine\\training.py:1461 run_step  **\n        outputs = model.predict_step(data)\n    c:\\python38\\lib\\site-packages\\tensorflow\\python\\keras\\engine\\training.py:1434 predict_step\n        return self(x, training=False)\n    c:\\python38\\lib\\site-packages\\tensorflow\\python\\keras\\engine\\base_layer.py:998 __call__\n        input_spec.assert_input_compatibility(self.input_spec, inputs, self.name)\n    c:\\python38\\lib\\site-packages\\tensorflow\\python\\keras\\engine\\input_spec.py:255 assert_input_compatibility\n        raise ValueError(\n\n    ValueError: Input 0 of layer sequential_7 is incompatible with the layer: expected axis -1 of input shape to have value 4 but received input with shape (None, 1)\n",
     "output_type": "error",
     "traceback": [
      "\u001b[1;31m---------------------------------------------------------------------------\u001b[0m",
      "\u001b[1;31mValueError\u001b[0m                                Traceback (most recent call last)",
      "\u001b[1;32m<ipython-input-92-60b8b5e8b97e>\u001b[0m in \u001b[0;36m<module>\u001b[1;34m\u001b[0m\n\u001b[1;32m----> 1\u001b[1;33m \u001b[0mpredictions\u001b[0m \u001b[1;33m=\u001b[0m \u001b[0miris_model\u001b[0m\u001b[1;33m.\u001b[0m\u001b[0mpredict\u001b[0m\u001b[1;33m(\u001b[0m\u001b[0mdata\u001b[0m\u001b[1;33m)\u001b[0m\u001b[1;33m\u001b[0m\u001b[1;33m\u001b[0m\u001b[0m\n\u001b[0m",
      "\u001b[1;32mc:\\python38\\lib\\site-packages\\tensorflow\\python\\keras\\engine\\training.py\u001b[0m in \u001b[0;36mpredict\u001b[1;34m(self, x, batch_size, verbose, steps, callbacks, max_queue_size, workers, use_multiprocessing)\u001b[0m\n\u001b[0;32m   1627\u001b[0m           \u001b[1;32mfor\u001b[0m \u001b[0mstep\u001b[0m \u001b[1;32min\u001b[0m \u001b[0mdata_handler\u001b[0m\u001b[1;33m.\u001b[0m\u001b[0msteps\u001b[0m\u001b[1;33m(\u001b[0m\u001b[1;33m)\u001b[0m\u001b[1;33m:\u001b[0m\u001b[1;33m\u001b[0m\u001b[1;33m\u001b[0m\u001b[0m\n\u001b[0;32m   1628\u001b[0m             \u001b[0mcallbacks\u001b[0m\u001b[1;33m.\u001b[0m\u001b[0mon_predict_batch_begin\u001b[0m\u001b[1;33m(\u001b[0m\u001b[0mstep\u001b[0m\u001b[1;33m)\u001b[0m\u001b[1;33m\u001b[0m\u001b[1;33m\u001b[0m\u001b[0m\n\u001b[1;32m-> 1629\u001b[1;33m             \u001b[0mtmp_batch_outputs\u001b[0m \u001b[1;33m=\u001b[0m \u001b[0mself\u001b[0m\u001b[1;33m.\u001b[0m\u001b[0mpredict_function\u001b[0m\u001b[1;33m(\u001b[0m\u001b[0miterator\u001b[0m\u001b[1;33m)\u001b[0m\u001b[1;33m\u001b[0m\u001b[1;33m\u001b[0m\u001b[0m\n\u001b[0m\u001b[0;32m   1630\u001b[0m             \u001b[1;32mif\u001b[0m \u001b[0mdata_handler\u001b[0m\u001b[1;33m.\u001b[0m\u001b[0mshould_sync\u001b[0m\u001b[1;33m:\u001b[0m\u001b[1;33m\u001b[0m\u001b[1;33m\u001b[0m\u001b[0m\n\u001b[0;32m   1631\u001b[0m               \u001b[0mcontext\u001b[0m\u001b[1;33m.\u001b[0m\u001b[0masync_wait\u001b[0m\u001b[1;33m(\u001b[0m\u001b[1;33m)\u001b[0m\u001b[1;33m\u001b[0m\u001b[1;33m\u001b[0m\u001b[0m\n",
      "\u001b[1;32mc:\\python38\\lib\\site-packages\\tensorflow\\python\\eager\\def_function.py\u001b[0m in \u001b[0;36m__call__\u001b[1;34m(self, *args, **kwds)\u001b[0m\n\u001b[0;32m    826\u001b[0m     \u001b[0mtracing_count\u001b[0m \u001b[1;33m=\u001b[0m \u001b[0mself\u001b[0m\u001b[1;33m.\u001b[0m\u001b[0mexperimental_get_tracing_count\u001b[0m\u001b[1;33m(\u001b[0m\u001b[1;33m)\u001b[0m\u001b[1;33m\u001b[0m\u001b[1;33m\u001b[0m\u001b[0m\n\u001b[0;32m    827\u001b[0m     \u001b[1;32mwith\u001b[0m \u001b[0mtrace\u001b[0m\u001b[1;33m.\u001b[0m\u001b[0mTrace\u001b[0m\u001b[1;33m(\u001b[0m\u001b[0mself\u001b[0m\u001b[1;33m.\u001b[0m\u001b[0m_name\u001b[0m\u001b[1;33m)\u001b[0m \u001b[1;32mas\u001b[0m \u001b[0mtm\u001b[0m\u001b[1;33m:\u001b[0m\u001b[1;33m\u001b[0m\u001b[1;33m\u001b[0m\u001b[0m\n\u001b[1;32m--> 828\u001b[1;33m       \u001b[0mresult\u001b[0m \u001b[1;33m=\u001b[0m \u001b[0mself\u001b[0m\u001b[1;33m.\u001b[0m\u001b[0m_call\u001b[0m\u001b[1;33m(\u001b[0m\u001b[1;33m*\u001b[0m\u001b[0margs\u001b[0m\u001b[1;33m,\u001b[0m \u001b[1;33m**\u001b[0m\u001b[0mkwds\u001b[0m\u001b[1;33m)\u001b[0m\u001b[1;33m\u001b[0m\u001b[1;33m\u001b[0m\u001b[0m\n\u001b[0m\u001b[0;32m    829\u001b[0m       \u001b[0mcompiler\u001b[0m \u001b[1;33m=\u001b[0m \u001b[1;34m\"xla\"\u001b[0m \u001b[1;32mif\u001b[0m \u001b[0mself\u001b[0m\u001b[1;33m.\u001b[0m\u001b[0m_experimental_compile\u001b[0m \u001b[1;32melse\u001b[0m \u001b[1;34m\"nonXla\"\u001b[0m\u001b[1;33m\u001b[0m\u001b[1;33m\u001b[0m\u001b[0m\n\u001b[0;32m    830\u001b[0m       \u001b[0mnew_tracing_count\u001b[0m \u001b[1;33m=\u001b[0m \u001b[0mself\u001b[0m\u001b[1;33m.\u001b[0m\u001b[0mexperimental_get_tracing_count\u001b[0m\u001b[1;33m(\u001b[0m\u001b[1;33m)\u001b[0m\u001b[1;33m\u001b[0m\u001b[1;33m\u001b[0m\u001b[0m\n",
      "\u001b[1;32mc:\\python38\\lib\\site-packages\\tensorflow\\python\\eager\\def_function.py\u001b[0m in \u001b[0;36m_call\u001b[1;34m(self, *args, **kwds)\u001b[0m\n\u001b[0;32m    860\u001b[0m       \u001b[1;31m# In this case we have not created variables on the first call. So we can\u001b[0m\u001b[1;33m\u001b[0m\u001b[1;33m\u001b[0m\u001b[1;33m\u001b[0m\u001b[0m\n\u001b[0;32m    861\u001b[0m       \u001b[1;31m# run the first trace but we should fail if variables are created.\u001b[0m\u001b[1;33m\u001b[0m\u001b[1;33m\u001b[0m\u001b[1;33m\u001b[0m\u001b[0m\n\u001b[1;32m--> 862\u001b[1;33m       \u001b[0mresults\u001b[0m \u001b[1;33m=\u001b[0m \u001b[0mself\u001b[0m\u001b[1;33m.\u001b[0m\u001b[0m_stateful_fn\u001b[0m\u001b[1;33m(\u001b[0m\u001b[1;33m*\u001b[0m\u001b[0margs\u001b[0m\u001b[1;33m,\u001b[0m \u001b[1;33m**\u001b[0m\u001b[0mkwds\u001b[0m\u001b[1;33m)\u001b[0m\u001b[1;33m\u001b[0m\u001b[1;33m\u001b[0m\u001b[0m\n\u001b[0m\u001b[0;32m    863\u001b[0m       \u001b[1;32mif\u001b[0m \u001b[0mself\u001b[0m\u001b[1;33m.\u001b[0m\u001b[0m_created_variables\u001b[0m\u001b[1;33m:\u001b[0m\u001b[1;33m\u001b[0m\u001b[1;33m\u001b[0m\u001b[0m\n\u001b[0;32m    864\u001b[0m         raise ValueError(\"Creating variables on a non-first call to a function\"\n",
      "\u001b[1;32mc:\\python38\\lib\\site-packages\\tensorflow\\python\\eager\\function.py\u001b[0m in \u001b[0;36m__call__\u001b[1;34m(self, *args, **kwargs)\u001b[0m\n\u001b[0;32m   2939\u001b[0m     \u001b[1;32mwith\u001b[0m \u001b[0mself\u001b[0m\u001b[1;33m.\u001b[0m\u001b[0m_lock\u001b[0m\u001b[1;33m:\u001b[0m\u001b[1;33m\u001b[0m\u001b[1;33m\u001b[0m\u001b[0m\n\u001b[0;32m   2940\u001b[0m       (graph_function,\n\u001b[1;32m-> 2941\u001b[1;33m        filtered_flat_args) = self._maybe_define_function(args, kwargs)\n\u001b[0m\u001b[0;32m   2942\u001b[0m     return graph_function._call_flat(\n\u001b[0;32m   2943\u001b[0m         filtered_flat_args, captured_inputs=graph_function.captured_inputs)  # pylint: disable=protected-access\n",
      "\u001b[1;32mc:\\python38\\lib\\site-packages\\tensorflow\\python\\eager\\function.py\u001b[0m in \u001b[0;36m_maybe_define_function\u001b[1;34m(self, args, kwargs)\u001b[0m\n\u001b[0;32m   3355\u001b[0m               \u001b[0mself\u001b[0m\u001b[1;33m.\u001b[0m\u001b[0minput_signature\u001b[0m \u001b[1;32mis\u001b[0m \u001b[1;32mNone\u001b[0m \u001b[1;32mand\u001b[0m\u001b[1;33m\u001b[0m\u001b[1;33m\u001b[0m\u001b[0m\n\u001b[0;32m   3356\u001b[0m               call_context_key in self._function_cache.missed):\n\u001b[1;32m-> 3357\u001b[1;33m             return self._define_function_with_shape_relaxation(\n\u001b[0m\u001b[0;32m   3358\u001b[0m                 args, kwargs, flat_args, filtered_flat_args, cache_key_context)\n\u001b[0;32m   3359\u001b[0m \u001b[1;33m\u001b[0m\u001b[0m\n",
      "\u001b[1;32mc:\\python38\\lib\\site-packages\\tensorflow\\python\\eager\\function.py\u001b[0m in \u001b[0;36m_define_function_with_shape_relaxation\u001b[1;34m(self, args, kwargs, flat_args, filtered_flat_args, cache_key_context)\u001b[0m\n\u001b[0;32m   3277\u001b[0m           expand_composites=True)\n\u001b[0;32m   3278\u001b[0m \u001b[1;33m\u001b[0m\u001b[0m\n\u001b[1;32m-> 3279\u001b[1;33m     graph_function = self._create_graph_function(\n\u001b[0m\u001b[0;32m   3280\u001b[0m         args, kwargs, override_flat_arg_shapes=relaxed_arg_shapes)\n\u001b[0;32m   3281\u001b[0m     \u001b[0mself\u001b[0m\u001b[1;33m.\u001b[0m\u001b[0m_function_cache\u001b[0m\u001b[1;33m.\u001b[0m\u001b[0marg_relaxed\u001b[0m\u001b[1;33m[\u001b[0m\u001b[0mrank_only_cache_key\u001b[0m\u001b[1;33m]\u001b[0m \u001b[1;33m=\u001b[0m \u001b[0mgraph_function\u001b[0m\u001b[1;33m\u001b[0m\u001b[1;33m\u001b[0m\u001b[0m\n",
      "\u001b[1;32mc:\\python38\\lib\\site-packages\\tensorflow\\python\\eager\\function.py\u001b[0m in \u001b[0;36m_create_graph_function\u001b[1;34m(self, args, kwargs, override_flat_arg_shapes)\u001b[0m\n\u001b[0;32m   3194\u001b[0m     \u001b[0marg_names\u001b[0m \u001b[1;33m=\u001b[0m \u001b[0mbase_arg_names\u001b[0m \u001b[1;33m+\u001b[0m \u001b[0mmissing_arg_names\u001b[0m\u001b[1;33m\u001b[0m\u001b[1;33m\u001b[0m\u001b[0m\n\u001b[0;32m   3195\u001b[0m     graph_function = ConcreteFunction(\n\u001b[1;32m-> 3196\u001b[1;33m         func_graph_module.func_graph_from_py_func(\n\u001b[0m\u001b[0;32m   3197\u001b[0m             \u001b[0mself\u001b[0m\u001b[1;33m.\u001b[0m\u001b[0m_name\u001b[0m\u001b[1;33m,\u001b[0m\u001b[1;33m\u001b[0m\u001b[1;33m\u001b[0m\u001b[0m\n\u001b[0;32m   3198\u001b[0m             \u001b[0mself\u001b[0m\u001b[1;33m.\u001b[0m\u001b[0m_python_function\u001b[0m\u001b[1;33m,\u001b[0m\u001b[1;33m\u001b[0m\u001b[1;33m\u001b[0m\u001b[0m\n",
      "\u001b[1;32mc:\\python38\\lib\\site-packages\\tensorflow\\python\\framework\\func_graph.py\u001b[0m in \u001b[0;36mfunc_graph_from_py_func\u001b[1;34m(name, python_func, args, kwargs, signature, func_graph, autograph, autograph_options, add_control_dependencies, arg_names, op_return_value, collections, capture_by_value, override_flat_arg_shapes)\u001b[0m\n\u001b[0;32m    988\u001b[0m         \u001b[0m_\u001b[0m\u001b[1;33m,\u001b[0m \u001b[0moriginal_func\u001b[0m \u001b[1;33m=\u001b[0m \u001b[0mtf_decorator\u001b[0m\u001b[1;33m.\u001b[0m\u001b[0munwrap\u001b[0m\u001b[1;33m(\u001b[0m\u001b[0mpython_func\u001b[0m\u001b[1;33m)\u001b[0m\u001b[1;33m\u001b[0m\u001b[1;33m\u001b[0m\u001b[0m\n\u001b[0;32m    989\u001b[0m \u001b[1;33m\u001b[0m\u001b[0m\n\u001b[1;32m--> 990\u001b[1;33m       \u001b[0mfunc_outputs\u001b[0m \u001b[1;33m=\u001b[0m \u001b[0mpython_func\u001b[0m\u001b[1;33m(\u001b[0m\u001b[1;33m*\u001b[0m\u001b[0mfunc_args\u001b[0m\u001b[1;33m,\u001b[0m \u001b[1;33m**\u001b[0m\u001b[0mfunc_kwargs\u001b[0m\u001b[1;33m)\u001b[0m\u001b[1;33m\u001b[0m\u001b[1;33m\u001b[0m\u001b[0m\n\u001b[0m\u001b[0;32m    991\u001b[0m \u001b[1;33m\u001b[0m\u001b[0m\n\u001b[0;32m    992\u001b[0m       \u001b[1;31m# invariant: `func_outputs` contains only Tensors, CompositeTensors,\u001b[0m\u001b[1;33m\u001b[0m\u001b[1;33m\u001b[0m\u001b[1;33m\u001b[0m\u001b[0m\n",
      "\u001b[1;32mc:\\python38\\lib\\site-packages\\tensorflow\\python\\eager\\def_function.py\u001b[0m in \u001b[0;36mwrapped_fn\u001b[1;34m(*args, **kwds)\u001b[0m\n\u001b[0;32m    632\u001b[0m             \u001b[0mxla_context\u001b[0m\u001b[1;33m.\u001b[0m\u001b[0mExit\u001b[0m\u001b[1;33m(\u001b[0m\u001b[1;33m)\u001b[0m\u001b[1;33m\u001b[0m\u001b[1;33m\u001b[0m\u001b[0m\n\u001b[0;32m    633\u001b[0m         \u001b[1;32melse\u001b[0m\u001b[1;33m:\u001b[0m\u001b[1;33m\u001b[0m\u001b[1;33m\u001b[0m\u001b[0m\n\u001b[1;32m--> 634\u001b[1;33m           \u001b[0mout\u001b[0m \u001b[1;33m=\u001b[0m \u001b[0mweak_wrapped_fn\u001b[0m\u001b[1;33m(\u001b[0m\u001b[1;33m)\u001b[0m\u001b[1;33m.\u001b[0m\u001b[0m__wrapped__\u001b[0m\u001b[1;33m(\u001b[0m\u001b[1;33m*\u001b[0m\u001b[0margs\u001b[0m\u001b[1;33m,\u001b[0m \u001b[1;33m**\u001b[0m\u001b[0mkwds\u001b[0m\u001b[1;33m)\u001b[0m\u001b[1;33m\u001b[0m\u001b[1;33m\u001b[0m\u001b[0m\n\u001b[0m\u001b[0;32m    635\u001b[0m         \u001b[1;32mreturn\u001b[0m \u001b[0mout\u001b[0m\u001b[1;33m\u001b[0m\u001b[1;33m\u001b[0m\u001b[0m\n\u001b[0;32m    636\u001b[0m \u001b[1;33m\u001b[0m\u001b[0m\n",
      "\u001b[1;32mc:\\python38\\lib\\site-packages\\tensorflow\\python\\framework\\func_graph.py\u001b[0m in \u001b[0;36mwrapper\u001b[1;34m(*args, **kwargs)\u001b[0m\n\u001b[0;32m    975\u001b[0m           \u001b[1;32mexcept\u001b[0m \u001b[0mException\u001b[0m \u001b[1;32mas\u001b[0m \u001b[0me\u001b[0m\u001b[1;33m:\u001b[0m  \u001b[1;31m# pylint:disable=broad-except\u001b[0m\u001b[1;33m\u001b[0m\u001b[1;33m\u001b[0m\u001b[0m\n\u001b[0;32m    976\u001b[0m             \u001b[1;32mif\u001b[0m \u001b[0mhasattr\u001b[0m\u001b[1;33m(\u001b[0m\u001b[0me\u001b[0m\u001b[1;33m,\u001b[0m \u001b[1;34m\"ag_error_metadata\"\u001b[0m\u001b[1;33m)\u001b[0m\u001b[1;33m:\u001b[0m\u001b[1;33m\u001b[0m\u001b[1;33m\u001b[0m\u001b[0m\n\u001b[1;32m--> 977\u001b[1;33m               \u001b[1;32mraise\u001b[0m \u001b[0me\u001b[0m\u001b[1;33m.\u001b[0m\u001b[0mag_error_metadata\u001b[0m\u001b[1;33m.\u001b[0m\u001b[0mto_exception\u001b[0m\u001b[1;33m(\u001b[0m\u001b[0me\u001b[0m\u001b[1;33m)\u001b[0m\u001b[1;33m\u001b[0m\u001b[1;33m\u001b[0m\u001b[0m\n\u001b[0m\u001b[0;32m    978\u001b[0m             \u001b[1;32melse\u001b[0m\u001b[1;33m:\u001b[0m\u001b[1;33m\u001b[0m\u001b[1;33m\u001b[0m\u001b[0m\n\u001b[0;32m    979\u001b[0m               \u001b[1;32mraise\u001b[0m\u001b[1;33m\u001b[0m\u001b[1;33m\u001b[0m\u001b[0m\n",
      "\u001b[1;31mValueError\u001b[0m: in user code:\n\n    c:\\python38\\lib\\site-packages\\tensorflow\\python\\keras\\engine\\training.py:1478 predict_function  *\n        return step_function(self, iterator)\n    c:\\python38\\lib\\site-packages\\tensorflow\\python\\keras\\engine\\training.py:1468 step_function  **\n        outputs = model.distribute_strategy.run(run_step, args=(data,))\n    c:\\python38\\lib\\site-packages\\tensorflow\\python\\distribute\\distribute_lib.py:1259 run\n        return self._extended.call_for_each_replica(fn, args=args, kwargs=kwargs)\n    c:\\python38\\lib\\site-packages\\tensorflow\\python\\distribute\\distribute_lib.py:2730 call_for_each_replica\n        return self._call_for_each_replica(fn, args, kwargs)\n    c:\\python38\\lib\\site-packages\\tensorflow\\python\\distribute\\distribute_lib.py:3417 _call_for_each_replica\n        return fn(*args, **kwargs)\n    c:\\python38\\lib\\site-packages\\tensorflow\\python\\keras\\engine\\training.py:1461 run_step  **\n        outputs = model.predict_step(data)\n    c:\\python38\\lib\\site-packages\\tensorflow\\python\\keras\\engine\\training.py:1434 predict_step\n        return self(x, training=False)\n    c:\\python38\\lib\\site-packages\\tensorflow\\python\\keras\\engine\\base_layer.py:998 __call__\n        input_spec.assert_input_compatibility(self.input_spec, inputs, self.name)\n    c:\\python38\\lib\\site-packages\\tensorflow\\python\\keras\\engine\\input_spec.py:255 assert_input_compatibility\n        raise ValueError(\n\n    ValueError: Input 0 of layer sequential_7 is incompatible with the layer: expected axis -1 of input shape to have value 4 but received input with shape (None, 1)\n"
     ]
    }
   ],
   "source": [
    "predictions = iris_model.predict(data)"
   ]
  },
  {
   "cell_type": "code",
   "execution_count": 71,
   "metadata": {},
   "outputs": [
    {
     "ename": "ValueError",
     "evalue": "in user code:\n\n    c:\\python38\\lib\\site-packages\\tensorflow\\python\\keras\\engine\\training.py:1478 predict_function  *\n        return step_function(self, iterator)\n    c:\\python38\\lib\\site-packages\\tensorflow\\python\\keras\\engine\\training.py:1468 step_function  **\n        outputs = model.distribute_strategy.run(run_step, args=(data,))\n    c:\\python38\\lib\\site-packages\\tensorflow\\python\\distribute\\distribute_lib.py:1259 run\n        return self._extended.call_for_each_replica(fn, args=args, kwargs=kwargs)\n    c:\\python38\\lib\\site-packages\\tensorflow\\python\\distribute\\distribute_lib.py:2730 call_for_each_replica\n        return self._call_for_each_replica(fn, args, kwargs)\n    c:\\python38\\lib\\site-packages\\tensorflow\\python\\distribute\\distribute_lib.py:3417 _call_for_each_replica\n        return fn(*args, **kwargs)\n    c:\\python38\\lib\\site-packages\\tensorflow\\python\\keras\\engine\\training.py:1461 run_step  **\n        outputs = model.predict_step(data)\n    c:\\python38\\lib\\site-packages\\tensorflow\\python\\keras\\engine\\training.py:1434 predict_step\n        return self(x, training=False)\n    c:\\python38\\lib\\site-packages\\tensorflow\\python\\keras\\engine\\base_layer.py:998 __call__\n        input_spec.assert_input_compatibility(self.input_spec, inputs, self.name)\n    c:\\python38\\lib\\site-packages\\tensorflow\\python\\keras\\engine\\input_spec.py:255 assert_input_compatibility\n        raise ValueError(\n\n    ValueError: Input 0 of layer sequential_7 is incompatible with the layer: expected axis -1 of input shape to have value 4 but received input with shape (None, 1)\n",
     "output_type": "error",
     "traceback": [
      "\u001b[1;31m---------------------------------------------------------------------------\u001b[0m",
      "\u001b[1;31mValueError\u001b[0m                                Traceback (most recent call last)",
      "\u001b[1;32m<ipython-input-71-39bc6661251c>\u001b[0m in \u001b[0;36m<module>\u001b[1;34m\u001b[0m\n\u001b[1;32m----> 1\u001b[1;33m \u001b[0mpredictions\u001b[0m \u001b[1;33m=\u001b[0m \u001b[0miris_model\u001b[0m\u001b[1;33m.\u001b[0m\u001b[0mpredict\u001b[0m\u001b[1;33m(\u001b[0m\u001b[1;33m[\u001b[0m\u001b[1;36m6\u001b[0m\u001b[1;33m,\u001b[0m\u001b[1;36m2\u001b[0m\u001b[1;33m,\u001b[0m\u001b[1;36m1.8\u001b[0m\u001b[1;33m,\u001b[0m\u001b[1;36m2\u001b[0m\u001b[1;33m]\u001b[0m\u001b[1;33m)\u001b[0m\u001b[1;33m\u001b[0m\u001b[1;33m\u001b[0m\u001b[0m\n\u001b[0m",
      "\u001b[1;32mc:\\python38\\lib\\site-packages\\tensorflow\\python\\keras\\engine\\training.py\u001b[0m in \u001b[0;36mpredict\u001b[1;34m(self, x, batch_size, verbose, steps, callbacks, max_queue_size, workers, use_multiprocessing)\u001b[0m\n\u001b[0;32m   1627\u001b[0m           \u001b[1;32mfor\u001b[0m \u001b[0mstep\u001b[0m \u001b[1;32min\u001b[0m \u001b[0mdata_handler\u001b[0m\u001b[1;33m.\u001b[0m\u001b[0msteps\u001b[0m\u001b[1;33m(\u001b[0m\u001b[1;33m)\u001b[0m\u001b[1;33m:\u001b[0m\u001b[1;33m\u001b[0m\u001b[1;33m\u001b[0m\u001b[0m\n\u001b[0;32m   1628\u001b[0m             \u001b[0mcallbacks\u001b[0m\u001b[1;33m.\u001b[0m\u001b[0mon_predict_batch_begin\u001b[0m\u001b[1;33m(\u001b[0m\u001b[0mstep\u001b[0m\u001b[1;33m)\u001b[0m\u001b[1;33m\u001b[0m\u001b[1;33m\u001b[0m\u001b[0m\n\u001b[1;32m-> 1629\u001b[1;33m             \u001b[0mtmp_batch_outputs\u001b[0m \u001b[1;33m=\u001b[0m \u001b[0mself\u001b[0m\u001b[1;33m.\u001b[0m\u001b[0mpredict_function\u001b[0m\u001b[1;33m(\u001b[0m\u001b[0miterator\u001b[0m\u001b[1;33m)\u001b[0m\u001b[1;33m\u001b[0m\u001b[1;33m\u001b[0m\u001b[0m\n\u001b[0m\u001b[0;32m   1630\u001b[0m             \u001b[1;32mif\u001b[0m \u001b[0mdata_handler\u001b[0m\u001b[1;33m.\u001b[0m\u001b[0mshould_sync\u001b[0m\u001b[1;33m:\u001b[0m\u001b[1;33m\u001b[0m\u001b[1;33m\u001b[0m\u001b[0m\n\u001b[0;32m   1631\u001b[0m               \u001b[0mcontext\u001b[0m\u001b[1;33m.\u001b[0m\u001b[0masync_wait\u001b[0m\u001b[1;33m(\u001b[0m\u001b[1;33m)\u001b[0m\u001b[1;33m\u001b[0m\u001b[1;33m\u001b[0m\u001b[0m\n",
      "\u001b[1;32mc:\\python38\\lib\\site-packages\\tensorflow\\python\\eager\\def_function.py\u001b[0m in \u001b[0;36m__call__\u001b[1;34m(self, *args, **kwds)\u001b[0m\n\u001b[0;32m    826\u001b[0m     \u001b[0mtracing_count\u001b[0m \u001b[1;33m=\u001b[0m \u001b[0mself\u001b[0m\u001b[1;33m.\u001b[0m\u001b[0mexperimental_get_tracing_count\u001b[0m\u001b[1;33m(\u001b[0m\u001b[1;33m)\u001b[0m\u001b[1;33m\u001b[0m\u001b[1;33m\u001b[0m\u001b[0m\n\u001b[0;32m    827\u001b[0m     \u001b[1;32mwith\u001b[0m \u001b[0mtrace\u001b[0m\u001b[1;33m.\u001b[0m\u001b[0mTrace\u001b[0m\u001b[1;33m(\u001b[0m\u001b[0mself\u001b[0m\u001b[1;33m.\u001b[0m\u001b[0m_name\u001b[0m\u001b[1;33m)\u001b[0m \u001b[1;32mas\u001b[0m \u001b[0mtm\u001b[0m\u001b[1;33m:\u001b[0m\u001b[1;33m\u001b[0m\u001b[1;33m\u001b[0m\u001b[0m\n\u001b[1;32m--> 828\u001b[1;33m       \u001b[0mresult\u001b[0m \u001b[1;33m=\u001b[0m \u001b[0mself\u001b[0m\u001b[1;33m.\u001b[0m\u001b[0m_call\u001b[0m\u001b[1;33m(\u001b[0m\u001b[1;33m*\u001b[0m\u001b[0margs\u001b[0m\u001b[1;33m,\u001b[0m \u001b[1;33m**\u001b[0m\u001b[0mkwds\u001b[0m\u001b[1;33m)\u001b[0m\u001b[1;33m\u001b[0m\u001b[1;33m\u001b[0m\u001b[0m\n\u001b[0m\u001b[0;32m    829\u001b[0m       \u001b[0mcompiler\u001b[0m \u001b[1;33m=\u001b[0m \u001b[1;34m\"xla\"\u001b[0m \u001b[1;32mif\u001b[0m \u001b[0mself\u001b[0m\u001b[1;33m.\u001b[0m\u001b[0m_experimental_compile\u001b[0m \u001b[1;32melse\u001b[0m \u001b[1;34m\"nonXla\"\u001b[0m\u001b[1;33m\u001b[0m\u001b[1;33m\u001b[0m\u001b[0m\n\u001b[0;32m    830\u001b[0m       \u001b[0mnew_tracing_count\u001b[0m \u001b[1;33m=\u001b[0m \u001b[0mself\u001b[0m\u001b[1;33m.\u001b[0m\u001b[0mexperimental_get_tracing_count\u001b[0m\u001b[1;33m(\u001b[0m\u001b[1;33m)\u001b[0m\u001b[1;33m\u001b[0m\u001b[1;33m\u001b[0m\u001b[0m\n",
      "\u001b[1;32mc:\\python38\\lib\\site-packages\\tensorflow\\python\\eager\\def_function.py\u001b[0m in \u001b[0;36m_call\u001b[1;34m(self, *args, **kwds)\u001b[0m\n\u001b[0;32m    860\u001b[0m       \u001b[1;31m# In this case we have not created variables on the first call. So we can\u001b[0m\u001b[1;33m\u001b[0m\u001b[1;33m\u001b[0m\u001b[1;33m\u001b[0m\u001b[0m\n\u001b[0;32m    861\u001b[0m       \u001b[1;31m# run the first trace but we should fail if variables are created.\u001b[0m\u001b[1;33m\u001b[0m\u001b[1;33m\u001b[0m\u001b[1;33m\u001b[0m\u001b[0m\n\u001b[1;32m--> 862\u001b[1;33m       \u001b[0mresults\u001b[0m \u001b[1;33m=\u001b[0m \u001b[0mself\u001b[0m\u001b[1;33m.\u001b[0m\u001b[0m_stateful_fn\u001b[0m\u001b[1;33m(\u001b[0m\u001b[1;33m*\u001b[0m\u001b[0margs\u001b[0m\u001b[1;33m,\u001b[0m \u001b[1;33m**\u001b[0m\u001b[0mkwds\u001b[0m\u001b[1;33m)\u001b[0m\u001b[1;33m\u001b[0m\u001b[1;33m\u001b[0m\u001b[0m\n\u001b[0m\u001b[0;32m    863\u001b[0m       \u001b[1;32mif\u001b[0m \u001b[0mself\u001b[0m\u001b[1;33m.\u001b[0m\u001b[0m_created_variables\u001b[0m\u001b[1;33m:\u001b[0m\u001b[1;33m\u001b[0m\u001b[1;33m\u001b[0m\u001b[0m\n\u001b[0;32m    864\u001b[0m         raise ValueError(\"Creating variables on a non-first call to a function\"\n",
      "\u001b[1;32mc:\\python38\\lib\\site-packages\\tensorflow\\python\\eager\\function.py\u001b[0m in \u001b[0;36m__call__\u001b[1;34m(self, *args, **kwargs)\u001b[0m\n\u001b[0;32m   2939\u001b[0m     \u001b[1;32mwith\u001b[0m \u001b[0mself\u001b[0m\u001b[1;33m.\u001b[0m\u001b[0m_lock\u001b[0m\u001b[1;33m:\u001b[0m\u001b[1;33m\u001b[0m\u001b[1;33m\u001b[0m\u001b[0m\n\u001b[0;32m   2940\u001b[0m       (graph_function,\n\u001b[1;32m-> 2941\u001b[1;33m        filtered_flat_args) = self._maybe_define_function(args, kwargs)\n\u001b[0m\u001b[0;32m   2942\u001b[0m     return graph_function._call_flat(\n\u001b[0;32m   2943\u001b[0m         filtered_flat_args, captured_inputs=graph_function.captured_inputs)  # pylint: disable=protected-access\n",
      "\u001b[1;32mc:\\python38\\lib\\site-packages\\tensorflow\\python\\eager\\function.py\u001b[0m in \u001b[0;36m_maybe_define_function\u001b[1;34m(self, args, kwargs)\u001b[0m\n\u001b[0;32m   3355\u001b[0m               \u001b[0mself\u001b[0m\u001b[1;33m.\u001b[0m\u001b[0minput_signature\u001b[0m \u001b[1;32mis\u001b[0m \u001b[1;32mNone\u001b[0m \u001b[1;32mand\u001b[0m\u001b[1;33m\u001b[0m\u001b[1;33m\u001b[0m\u001b[0m\n\u001b[0;32m   3356\u001b[0m               call_context_key in self._function_cache.missed):\n\u001b[1;32m-> 3357\u001b[1;33m             return self._define_function_with_shape_relaxation(\n\u001b[0m\u001b[0;32m   3358\u001b[0m                 args, kwargs, flat_args, filtered_flat_args, cache_key_context)\n\u001b[0;32m   3359\u001b[0m \u001b[1;33m\u001b[0m\u001b[0m\n",
      "\u001b[1;32mc:\\python38\\lib\\site-packages\\tensorflow\\python\\eager\\function.py\u001b[0m in \u001b[0;36m_define_function_with_shape_relaxation\u001b[1;34m(self, args, kwargs, flat_args, filtered_flat_args, cache_key_context)\u001b[0m\n\u001b[0;32m   3277\u001b[0m           expand_composites=True)\n\u001b[0;32m   3278\u001b[0m \u001b[1;33m\u001b[0m\u001b[0m\n\u001b[1;32m-> 3279\u001b[1;33m     graph_function = self._create_graph_function(\n\u001b[0m\u001b[0;32m   3280\u001b[0m         args, kwargs, override_flat_arg_shapes=relaxed_arg_shapes)\n\u001b[0;32m   3281\u001b[0m     \u001b[0mself\u001b[0m\u001b[1;33m.\u001b[0m\u001b[0m_function_cache\u001b[0m\u001b[1;33m.\u001b[0m\u001b[0marg_relaxed\u001b[0m\u001b[1;33m[\u001b[0m\u001b[0mrank_only_cache_key\u001b[0m\u001b[1;33m]\u001b[0m \u001b[1;33m=\u001b[0m \u001b[0mgraph_function\u001b[0m\u001b[1;33m\u001b[0m\u001b[1;33m\u001b[0m\u001b[0m\n",
      "\u001b[1;32mc:\\python38\\lib\\site-packages\\tensorflow\\python\\eager\\function.py\u001b[0m in \u001b[0;36m_create_graph_function\u001b[1;34m(self, args, kwargs, override_flat_arg_shapes)\u001b[0m\n\u001b[0;32m   3194\u001b[0m     \u001b[0marg_names\u001b[0m \u001b[1;33m=\u001b[0m \u001b[0mbase_arg_names\u001b[0m \u001b[1;33m+\u001b[0m \u001b[0mmissing_arg_names\u001b[0m\u001b[1;33m\u001b[0m\u001b[1;33m\u001b[0m\u001b[0m\n\u001b[0;32m   3195\u001b[0m     graph_function = ConcreteFunction(\n\u001b[1;32m-> 3196\u001b[1;33m         func_graph_module.func_graph_from_py_func(\n\u001b[0m\u001b[0;32m   3197\u001b[0m             \u001b[0mself\u001b[0m\u001b[1;33m.\u001b[0m\u001b[0m_name\u001b[0m\u001b[1;33m,\u001b[0m\u001b[1;33m\u001b[0m\u001b[1;33m\u001b[0m\u001b[0m\n\u001b[0;32m   3198\u001b[0m             \u001b[0mself\u001b[0m\u001b[1;33m.\u001b[0m\u001b[0m_python_function\u001b[0m\u001b[1;33m,\u001b[0m\u001b[1;33m\u001b[0m\u001b[1;33m\u001b[0m\u001b[0m\n",
      "\u001b[1;32mc:\\python38\\lib\\site-packages\\tensorflow\\python\\framework\\func_graph.py\u001b[0m in \u001b[0;36mfunc_graph_from_py_func\u001b[1;34m(name, python_func, args, kwargs, signature, func_graph, autograph, autograph_options, add_control_dependencies, arg_names, op_return_value, collections, capture_by_value, override_flat_arg_shapes)\u001b[0m\n\u001b[0;32m    988\u001b[0m         \u001b[0m_\u001b[0m\u001b[1;33m,\u001b[0m \u001b[0moriginal_func\u001b[0m \u001b[1;33m=\u001b[0m \u001b[0mtf_decorator\u001b[0m\u001b[1;33m.\u001b[0m\u001b[0munwrap\u001b[0m\u001b[1;33m(\u001b[0m\u001b[0mpython_func\u001b[0m\u001b[1;33m)\u001b[0m\u001b[1;33m\u001b[0m\u001b[1;33m\u001b[0m\u001b[0m\n\u001b[0;32m    989\u001b[0m \u001b[1;33m\u001b[0m\u001b[0m\n\u001b[1;32m--> 990\u001b[1;33m       \u001b[0mfunc_outputs\u001b[0m \u001b[1;33m=\u001b[0m \u001b[0mpython_func\u001b[0m\u001b[1;33m(\u001b[0m\u001b[1;33m*\u001b[0m\u001b[0mfunc_args\u001b[0m\u001b[1;33m,\u001b[0m \u001b[1;33m**\u001b[0m\u001b[0mfunc_kwargs\u001b[0m\u001b[1;33m)\u001b[0m\u001b[1;33m\u001b[0m\u001b[1;33m\u001b[0m\u001b[0m\n\u001b[0m\u001b[0;32m    991\u001b[0m \u001b[1;33m\u001b[0m\u001b[0m\n\u001b[0;32m    992\u001b[0m       \u001b[1;31m# invariant: `func_outputs` contains only Tensors, CompositeTensors,\u001b[0m\u001b[1;33m\u001b[0m\u001b[1;33m\u001b[0m\u001b[1;33m\u001b[0m\u001b[0m\n",
      "\u001b[1;32mc:\\python38\\lib\\site-packages\\tensorflow\\python\\eager\\def_function.py\u001b[0m in \u001b[0;36mwrapped_fn\u001b[1;34m(*args, **kwds)\u001b[0m\n\u001b[0;32m    632\u001b[0m             \u001b[0mxla_context\u001b[0m\u001b[1;33m.\u001b[0m\u001b[0mExit\u001b[0m\u001b[1;33m(\u001b[0m\u001b[1;33m)\u001b[0m\u001b[1;33m\u001b[0m\u001b[1;33m\u001b[0m\u001b[0m\n\u001b[0;32m    633\u001b[0m         \u001b[1;32melse\u001b[0m\u001b[1;33m:\u001b[0m\u001b[1;33m\u001b[0m\u001b[1;33m\u001b[0m\u001b[0m\n\u001b[1;32m--> 634\u001b[1;33m           \u001b[0mout\u001b[0m \u001b[1;33m=\u001b[0m \u001b[0mweak_wrapped_fn\u001b[0m\u001b[1;33m(\u001b[0m\u001b[1;33m)\u001b[0m\u001b[1;33m.\u001b[0m\u001b[0m__wrapped__\u001b[0m\u001b[1;33m(\u001b[0m\u001b[1;33m*\u001b[0m\u001b[0margs\u001b[0m\u001b[1;33m,\u001b[0m \u001b[1;33m**\u001b[0m\u001b[0mkwds\u001b[0m\u001b[1;33m)\u001b[0m\u001b[1;33m\u001b[0m\u001b[1;33m\u001b[0m\u001b[0m\n\u001b[0m\u001b[0;32m    635\u001b[0m         \u001b[1;32mreturn\u001b[0m \u001b[0mout\u001b[0m\u001b[1;33m\u001b[0m\u001b[1;33m\u001b[0m\u001b[0m\n\u001b[0;32m    636\u001b[0m \u001b[1;33m\u001b[0m\u001b[0m\n",
      "\u001b[1;32mc:\\python38\\lib\\site-packages\\tensorflow\\python\\framework\\func_graph.py\u001b[0m in \u001b[0;36mwrapper\u001b[1;34m(*args, **kwargs)\u001b[0m\n\u001b[0;32m    975\u001b[0m           \u001b[1;32mexcept\u001b[0m \u001b[0mException\u001b[0m \u001b[1;32mas\u001b[0m \u001b[0me\u001b[0m\u001b[1;33m:\u001b[0m  \u001b[1;31m# pylint:disable=broad-except\u001b[0m\u001b[1;33m\u001b[0m\u001b[1;33m\u001b[0m\u001b[0m\n\u001b[0;32m    976\u001b[0m             \u001b[1;32mif\u001b[0m \u001b[0mhasattr\u001b[0m\u001b[1;33m(\u001b[0m\u001b[0me\u001b[0m\u001b[1;33m,\u001b[0m \u001b[1;34m\"ag_error_metadata\"\u001b[0m\u001b[1;33m)\u001b[0m\u001b[1;33m:\u001b[0m\u001b[1;33m\u001b[0m\u001b[1;33m\u001b[0m\u001b[0m\n\u001b[1;32m--> 977\u001b[1;33m               \u001b[1;32mraise\u001b[0m \u001b[0me\u001b[0m\u001b[1;33m.\u001b[0m\u001b[0mag_error_metadata\u001b[0m\u001b[1;33m.\u001b[0m\u001b[0mto_exception\u001b[0m\u001b[1;33m(\u001b[0m\u001b[0me\u001b[0m\u001b[1;33m)\u001b[0m\u001b[1;33m\u001b[0m\u001b[1;33m\u001b[0m\u001b[0m\n\u001b[0m\u001b[0;32m    978\u001b[0m             \u001b[1;32melse\u001b[0m\u001b[1;33m:\u001b[0m\u001b[1;33m\u001b[0m\u001b[1;33m\u001b[0m\u001b[0m\n\u001b[0;32m    979\u001b[0m               \u001b[1;32mraise\u001b[0m\u001b[1;33m\u001b[0m\u001b[1;33m\u001b[0m\u001b[0m\n",
      "\u001b[1;31mValueError\u001b[0m: in user code:\n\n    c:\\python38\\lib\\site-packages\\tensorflow\\python\\keras\\engine\\training.py:1478 predict_function  *\n        return step_function(self, iterator)\n    c:\\python38\\lib\\site-packages\\tensorflow\\python\\keras\\engine\\training.py:1468 step_function  **\n        outputs = model.distribute_strategy.run(run_step, args=(data,))\n    c:\\python38\\lib\\site-packages\\tensorflow\\python\\distribute\\distribute_lib.py:1259 run\n        return self._extended.call_for_each_replica(fn, args=args, kwargs=kwargs)\n    c:\\python38\\lib\\site-packages\\tensorflow\\python\\distribute\\distribute_lib.py:2730 call_for_each_replica\n        return self._call_for_each_replica(fn, args, kwargs)\n    c:\\python38\\lib\\site-packages\\tensorflow\\python\\distribute\\distribute_lib.py:3417 _call_for_each_replica\n        return fn(*args, **kwargs)\n    c:\\python38\\lib\\site-packages\\tensorflow\\python\\keras\\engine\\training.py:1461 run_step  **\n        outputs = model.predict_step(data)\n    c:\\python38\\lib\\site-packages\\tensorflow\\python\\keras\\engine\\training.py:1434 predict_step\n        return self(x, training=False)\n    c:\\python38\\lib\\site-packages\\tensorflow\\python\\keras\\engine\\base_layer.py:998 __call__\n        input_spec.assert_input_compatibility(self.input_spec, inputs, self.name)\n    c:\\python38\\lib\\site-packages\\tensorflow\\python\\keras\\engine\\input_spec.py:255 assert_input_compatibility\n        raise ValueError(\n\n    ValueError: Input 0 of layer sequential_7 is incompatible with the layer: expected axis -1 of input shape to have value 4 but received input with shape (None, 1)\n"
     ]
    }
   ],
   "source": [
    "predictions = iris_model.predict([6,2,1.8,2])"
   ]
  },
  {
   "cell_type": "code",
   "execution_count": null,
   "metadata": {},
   "outputs": [],
   "source": []
  }
 ],
 "metadata": {
  "kernelspec": {
   "display_name": "Python 3",
   "language": "python",
   "name": "python3"
  },
  "language_info": {
   "codemirror_mode": {
    "name": "ipython",
    "version": 3
   },
   "file_extension": ".py",
   "mimetype": "text/x-python",
   "name": "python",
   "nbconvert_exporter": "python",
   "pygments_lexer": "ipython3",
   "version": "3.9.0-final"
  }
 },
 "nbformat": 4,
 "nbformat_minor": 1
}