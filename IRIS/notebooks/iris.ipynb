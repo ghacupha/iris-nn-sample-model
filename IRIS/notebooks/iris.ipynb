{
 "cells": [
  {
   "cell_type": "code",
   "execution_count": 90,
   "metadata": {
    "pycharm": {
     "is_executing": false
    }
   },
   "outputs": [],
   "source": [
    "import pandas as pd\n",
    "import numpy as np\n",
    "from keras.utils import np_utils"
   ]
  },
  {
   "cell_type": "code",
   "execution_count": 91,
   "metadata": {
    "scrolled": true
   },
   "outputs": [
    {
     "output_type": "execute_result",
     "data": {
      "text/plain": [
       "   sepal_length  sepal_width  petal_length  petal_width species\n",
       "0           5.1          3.5           1.4          0.2  setosa\n",
       "1           4.9          3.0           1.4          0.2  setosa\n",
       "2           4.7          3.2           1.3          0.2  setosa\n",
       "3           4.6          3.1           1.5          0.2  setosa\n",
       "4           5.0          3.6           1.4          0.2  setosa"
      ],
      "text/html": "<div>\n<style scoped>\n    .dataframe tbody tr th:only-of-type {\n        vertical-align: middle;\n    }\n\n    .dataframe tbody tr th {\n        vertical-align: top;\n    }\n\n    .dataframe thead th {\n        text-align: right;\n    }\n</style>\n<table border=\"1\" class=\"dataframe\">\n  <thead>\n    <tr style=\"text-align: right;\">\n      <th></th>\n      <th>sepal_length</th>\n      <th>sepal_width</th>\n      <th>petal_length</th>\n      <th>petal_width</th>\n      <th>species</th>\n    </tr>\n  </thead>\n  <tbody>\n    <tr>\n      <th>0</th>\n      <td>5.1</td>\n      <td>3.5</td>\n      <td>1.4</td>\n      <td>0.2</td>\n      <td>setosa</td>\n    </tr>\n    <tr>\n      <th>1</th>\n      <td>4.9</td>\n      <td>3.0</td>\n      <td>1.4</td>\n      <td>0.2</td>\n      <td>setosa</td>\n    </tr>\n    <tr>\n      <th>2</th>\n      <td>4.7</td>\n      <td>3.2</td>\n      <td>1.3</td>\n      <td>0.2</td>\n      <td>setosa</td>\n    </tr>\n    <tr>\n      <th>3</th>\n      <td>4.6</td>\n      <td>3.1</td>\n      <td>1.5</td>\n      <td>0.2</td>\n      <td>setosa</td>\n    </tr>\n    <tr>\n      <th>4</th>\n      <td>5.0</td>\n      <td>3.6</td>\n      <td>1.4</td>\n      <td>0.2</td>\n      <td>setosa</td>\n    </tr>\n  </tbody>\n</table>\n</div>"
     },
     "metadata": {},
     "execution_count": 91
    }
   ],
   "source": [
    "df = pd.read_csv(\"iris.csv\")\n",
    "df.head()"
   ]
  },
  {
   "cell_type": "code",
   "execution_count": 92,
   "metadata": {},
   "outputs": [
    {
     "output_type": "execute_result",
     "data": {
      "text/plain": [
       "       sepal_length  sepal_width  petal_length  petal_width\n",
       "count    150.000000   150.000000    150.000000   150.000000\n",
       "mean       5.843333     3.054000      3.758667     1.198667\n",
       "std        0.828066     0.433594      1.764420     0.763161\n",
       "min        4.300000     2.000000      1.000000     0.100000\n",
       "25%        5.100000     2.800000      1.600000     0.300000\n",
       "50%        5.800000     3.000000      4.350000     1.300000\n",
       "75%        6.400000     3.300000      5.100000     1.800000\n",
       "max        7.900000     4.400000      6.900000     2.500000"
      ],
      "text/html": "<div>\n<style scoped>\n    .dataframe tbody tr th:only-of-type {\n        vertical-align: middle;\n    }\n\n    .dataframe tbody tr th {\n        vertical-align: top;\n    }\n\n    .dataframe thead th {\n        text-align: right;\n    }\n</style>\n<table border=\"1\" class=\"dataframe\">\n  <thead>\n    <tr style=\"text-align: right;\">\n      <th></th>\n      <th>sepal_length</th>\n      <th>sepal_width</th>\n      <th>petal_length</th>\n      <th>petal_width</th>\n    </tr>\n  </thead>\n  <tbody>\n    <tr>\n      <th>count</th>\n      <td>150.000000</td>\n      <td>150.000000</td>\n      <td>150.000000</td>\n      <td>150.000000</td>\n    </tr>\n    <tr>\n      <th>mean</th>\n      <td>5.843333</td>\n      <td>3.054000</td>\n      <td>3.758667</td>\n      <td>1.198667</td>\n    </tr>\n    <tr>\n      <th>std</th>\n      <td>0.828066</td>\n      <td>0.433594</td>\n      <td>1.764420</td>\n      <td>0.763161</td>\n    </tr>\n    <tr>\n      <th>min</th>\n      <td>4.300000</td>\n      <td>2.000000</td>\n      <td>1.000000</td>\n      <td>0.100000</td>\n    </tr>\n    <tr>\n      <th>25%</th>\n      <td>5.100000</td>\n      <td>2.800000</td>\n      <td>1.600000</td>\n      <td>0.300000</td>\n    </tr>\n    <tr>\n      <th>50%</th>\n      <td>5.800000</td>\n      <td>3.000000</td>\n      <td>4.350000</td>\n      <td>1.300000</td>\n    </tr>\n    <tr>\n      <th>75%</th>\n      <td>6.400000</td>\n      <td>3.300000</td>\n      <td>5.100000</td>\n      <td>1.800000</td>\n    </tr>\n    <tr>\n      <th>max</th>\n      <td>7.900000</td>\n      <td>4.400000</td>\n      <td>6.900000</td>\n      <td>2.500000</td>\n    </tr>\n  </tbody>\n</table>\n</div>"
     },
     "metadata": {},
     "execution_count": 92
    }
   ],
   "source": [
    "df.describe()"
   ]
  },
  {
   "cell_type": "code",
   "execution_count": 93,
   "metadata": {},
   "outputs": [
    {
     "output_type": "stream",
     "name": "stdout",
     "text": [
      "   sepal_length  sepal_width  petal_length  petal_width\n0           5.1          3.5           1.4          0.2\n1           4.9          3.0           1.4          0.2\n2           4.7          3.2           1.3          0.2\n3           4.6          3.1           1.5          0.2\n4           5.0          3.6           1.4          0.2\n"
     ]
    }
   ],
   "source": [
    "features = list(df.columns[:4])\n",
    "\n",
    "x = df[features]\n",
    "print(x.head())\n",
    "\n",
    "x = np.array(x)\n",
    "\n",
    "\n",
    "y = list(df['species'])\n",
    "\n",
    "y = np.array(y)"
   ]
  },
  {
   "source": [
    "### Label encoding\n",
    "\n",
    "The labels vector contains labels for the flowers in a single dimension. Using the LabelEncoder we convert that to 3 dimensions each  with 1 or 0 according to whether or not they fall into any of the 3 types"
   ],
   "cell_type": "markdown",
   "metadata": {}
  },
  {
   "cell_type": "code",
   "execution_count": 94,
   "metadata": {},
   "outputs": [
    {
     "output_type": "stream",
     "name": "stdout",
     "text": [
      "[[1 0 0]\n [1 0 0]\n [1 0 0]\n [1 0 0]\n [1 0 0]]\n"
     ]
    }
   ],
   "source": [
    "from sklearn.preprocessing import LabelEncoder\n",
    "\n",
    "encoder = LabelEncoder()\n",
    "y1 = encoder.fit_transform(y)\n",
    "y = pd.get_dummies(y1).values\n",
    "\n",
    "# Alternative for checking the head in ndarray\n",
    "print(y[:5])"
   ]
  },
  {
   "source": [
    "### Train/Test Split\n",
    "\n",
    "We us the train_test_split function in the model_selction module to split the data as follows:\n",
    "\n",
    " - 30% test data\n",
    " - 70% training data"
   ],
   "cell_type": "markdown",
   "metadata": {}
  },
  {
   "cell_type": "code",
   "execution_count": 95,
   "metadata": {},
   "outputs": [],
   "source": [
    "from sklearn.model_selection import train_test_split\n",
    "\n",
    "x_train, x_test, y_train, y_test = train_test_split(x,y, test_size=0.30, random_state=0)"
   ]
  },
  {
   "source": [
    "### Neural Network Architecture\n",
    "\n",
    "Below we are going to define using keras a neural network model with the following layers\n",
    "\n",
    " - Layer 1: Input layer with 4 units (feature matrix has 4 dimensions) RELU activation\n",
    " - Layer 2: Inner layer with 5 units RELU activation\n",
    " - Layer 3: Output layer with 3 units SOFTMAX activation\n",
    "\n",
    "This is Sequential model is created incrementally via the add() method. "
   ],
   "cell_type": "markdown",
   "metadata": {}
  },
  {
   "cell_type": "code",
   "execution_count": 96,
   "metadata": {
    "tags": [
     "outputPrepend"
    ]
   },
   "outputs": [
    {
     "output_type": "stream",
     "name": "stdout",
     "text": [
      "uracy: 0.3271\n",
      "Epoch 6/200\n",
      "21/21 [==============================] - 0s 601us/step - loss: 1.1296 - accuracy: 0.3328\n",
      "Epoch 7/200\n",
      "21/21 [==============================] - 0s 651us/step - loss: 1.0457 - accuracy: 0.3625\n",
      "Epoch 8/200\n",
      "21/21 [==============================] - 0s 600us/step - loss: 1.0222 - accuracy: 0.3588\n",
      "Epoch 9/200\n",
      "21/21 [==============================] - 0s 598us/step - loss: 0.9675 - accuracy: 0.4044\n",
      "Epoch 10/200\n",
      "21/21 [==============================] - 0s 550us/step - loss: 0.9793 - accuracy: 0.3532\n",
      "Epoch 11/200\n",
      "21/21 [==============================] - 0s 600us/step - loss: 0.9547 - accuracy: 0.5272\n",
      "Epoch 12/200\n",
      "21/21 [==============================] - 0s 750us/step - loss: 0.9218 - accuracy: 0.6523\n",
      "Epoch 13/200\n",
      "21/21 [==============================] - 0s 700us/step - loss: 0.8911 - accuracy: 0.6672\n",
      "Epoch 14/200\n",
      "21/21 [==============================] - 0s 702us/step - loss: 0.8926 - accuracy: 0.6821\n",
      "Epoch 15/200\n",
      "21/21 [==============================] - 0s 700us/step - loss: 0.8562 - accuracy: 0.6845\n",
      "Epoch 16/200\n",
      "21/21 [==============================] - 0s 800us/step - loss: 0.7748 - accuracy: 0.7470\n",
      "Epoch 17/200\n",
      "21/21 [==============================] - 0s 652us/step - loss: 0.7840 - accuracy: 0.6837\n",
      "Epoch 18/200\n",
      "21/21 [==============================] - 0s 700us/step - loss: 0.7431 - accuracy: 0.7128\n",
      "Epoch 19/200\n",
      "21/21 [==============================] - 0s 651us/step - loss: 0.7169 - accuracy: 0.7857\n",
      "Epoch 20/200\n",
      "21/21 [==============================] - 0s 550us/step - loss: 0.6717 - accuracy: 0.8572\n",
      "Epoch 21/200\n",
      "21/21 [==============================] - 0s 600us/step - loss: 0.6489 - accuracy: 0.8839\n",
      "Epoch 22/200\n",
      "21/21 [==============================] - 0s 651us/step - loss: 0.6277 - accuracy: 0.8936\n",
      "Epoch 23/200\n",
      "21/21 [==============================] - 0s 650us/step - loss: 0.6097 - accuracy: 0.8617\n",
      "Epoch 24/200\n",
      "21/21 [==============================] - 0s 650us/step - loss: 0.5732 - accuracy: 0.9366\n",
      "Epoch 25/200\n",
      "21/21 [==============================] - 0s 600us/step - loss: 0.5395 - accuracy: 0.8842\n",
      "Epoch 26/200\n",
      "21/21 [==============================] - 0s 650us/step - loss: 0.5355 - accuracy: 0.9232\n",
      "Epoch 27/200\n",
      "21/21 [==============================] - 0s 651us/step - loss: 0.5032 - accuracy: 0.8996\n",
      "Epoch 28/200\n",
      "21/21 [==============================] - 0s 650us/step - loss: 0.4783 - accuracy: 0.9133\n",
      "Epoch 29/200\n",
      "21/21 [==============================] - 0s 650us/step - loss: 0.4588 - accuracy: 0.9515\n",
      "Epoch 30/200\n",
      "21/21 [==============================] - 0s 650us/step - loss: 0.4190 - accuracy: 0.9703\n",
      "Epoch 31/200\n",
      "21/21 [==============================] - 0s 651us/step - loss: 0.4098 - accuracy: 0.9512\n",
      "Epoch 32/200\n",
      "21/21 [==============================] - 0s 751us/step - loss: 0.4275 - accuracy: 0.9347\n",
      "Epoch 33/200\n",
      "21/21 [==============================] - 0s 700us/step - loss: 0.3784 - accuracy: 0.9528\n",
      "Epoch 34/200\n",
      "21/21 [==============================] - 0s 650us/step - loss: 0.3913 - accuracy: 0.9368\n",
      "Epoch 35/200\n",
      "21/21 [==============================] - 0s 700us/step - loss: 0.3838 - accuracy: 0.8923\n",
      "Epoch 36/200\n",
      "21/21 [==============================] - 0s 700us/step - loss: 0.3513 - accuracy: 0.9433\n",
      "Epoch 37/200\n",
      "21/21 [==============================] - 0s 650us/step - loss: 0.3221 - accuracy: 0.9598\n",
      "Epoch 38/200\n",
      "21/21 [==============================] - 0s 652us/step - loss: 0.3191 - accuracy: 0.9842\n",
      "Epoch 39/200\n",
      "21/21 [==============================] - 0s 700us/step - loss: 0.2951 - accuracy: 0.9753\n",
      "Epoch 40/200\n",
      "21/21 [==============================] - 0s 648us/step - loss: 0.3073 - accuracy: 0.9563\n",
      "Epoch 41/200\n",
      "21/21 [==============================] - 0s 650us/step - loss: 0.2544 - accuracy: 0.9908\n",
      "Epoch 42/200\n",
      "21/21 [==============================] - 0s 600us/step - loss: 0.2419 - accuracy: 0.9955\n",
      "Epoch 43/200\n",
      "21/21 [==============================] - 0s 600us/step - loss: 0.2322 - accuracy: 0.9937\n",
      "Epoch 44/200\n",
      "21/21 [==============================] - 0s 700us/step - loss: 0.2836 - accuracy: 0.9947\n",
      "Epoch 45/200\n",
      "21/21 [==============================] - 0s 651us/step - loss: 0.2305 - accuracy: 0.9792\n",
      "Epoch 46/200\n",
      "21/21 [==============================] - 0s 700us/step - loss: 0.2181 - accuracy: 0.9800\n",
      "Epoch 47/200\n",
      "21/21 [==============================] - 0s 650us/step - loss: 0.2233 - accuracy: 0.9744\n",
      "Epoch 48/200\n",
      "21/21 [==============================] - 0s 700us/step - loss: 0.2229 - accuracy: 0.9739\n",
      "Epoch 49/200\n",
      "21/21 [==============================] - 0s 602us/step - loss: 0.1987 - accuracy: 0.9850\n",
      "Epoch 50/200\n",
      "21/21 [==============================] - 0s 650us/step - loss: 0.2109 - accuracy: 0.9783\n",
      "Epoch 51/200\n",
      "21/21 [==============================] - 0s 700us/step - loss: 0.1812 - accuracy: 0.9794\n",
      "Epoch 52/200\n",
      "21/21 [==============================] - 0s 800us/step - loss: 0.1804 - accuracy: 0.9933\n",
      "Epoch 53/200\n",
      "21/21 [==============================] - 0s 900us/step - loss: 0.1529 - accuracy: 0.9913\n",
      "Epoch 54/200\n",
      "21/21 [==============================] - 0s 750us/step - loss: 0.1732 - accuracy: 0.9885\n",
      "Epoch 55/200\n",
      "21/21 [==============================] - 0s 699us/step - loss: 0.1729 - accuracy: 0.9877\n",
      "Epoch 56/200\n",
      "21/21 [==============================] - 0s 700us/step - loss: 0.1499 - accuracy: 0.9889\n",
      "Epoch 57/200\n",
      "21/21 [==============================] - 0s 650us/step - loss: 0.1258 - accuracy: 0.9913\n",
      "Epoch 58/200\n",
      "21/21 [==============================] - 0s 652us/step - loss: 0.1378 - accuracy: 0.9884\n",
      "Epoch 59/200\n",
      "21/21 [==============================] - 0s 700us/step - loss: 0.1667 - accuracy: 0.9673\n",
      "Epoch 60/200\n",
      "21/21 [==============================] - 0s 650us/step - loss: 0.1314 - accuracy: 0.9933\n",
      "Epoch 61/200\n",
      "21/21 [==============================] - 0s 748us/step - loss: 0.1562 - accuracy: 0.9721\n",
      "Epoch 62/200\n",
      "21/21 [==============================] - 0s 700us/step - loss: 0.1529 - accuracy: 0.9878\n",
      "Epoch 63/200\n",
      "21/21 [==============================] - 0s 650us/step - loss: 0.1453 - accuracy: 0.9739\n",
      "Epoch 64/200\n",
      "21/21 [==============================] - 0s 600us/step - loss: 0.1339 - accuracy: 0.9951\n",
      "Epoch 65/200\n",
      "21/21 [==============================] - 0s 601us/step - loss: 0.1478 - accuracy: 0.9798\n",
      "Epoch 66/200\n",
      "21/21 [==============================] - 0s 600us/step - loss: 0.1444 - accuracy: 0.9551\n",
      "Epoch 67/200\n",
      "21/21 [==============================] - 0s 600us/step - loss: 0.1440 - accuracy: 0.9651\n",
      "Epoch 68/200\n",
      "21/21 [==============================] - 0s 601us/step - loss: 0.1400 - accuracy: 0.9536\n",
      "Epoch 69/200\n",
      "21/21 [==============================] - 0s 649us/step - loss: 0.1397 - accuracy: 0.9783\n",
      "Epoch 70/200\n",
      "21/21 [==============================] - 0s 600us/step - loss: 0.1613 - accuracy: 0.9564\n",
      "Epoch 71/200\n",
      "21/21 [==============================] - 0s 600us/step - loss: 0.1511 - accuracy: 0.9465\n",
      "Epoch 72/200\n",
      "21/21 [==============================] - 0s 700us/step - loss: 0.1121 - accuracy: 0.9742\n",
      "Epoch 73/200\n",
      "21/21 [==============================] - 0s 650us/step - loss: 0.1364 - accuracy: 0.9586\n",
      "Epoch 74/200\n",
      "21/21 [==============================] - 0s 650us/step - loss: 0.0986 - accuracy: 0.9792\n",
      "Epoch 75/200\n",
      "21/21 [==============================] - 0s 550us/step - loss: 0.1340 - accuracy: 0.9609\n",
      "Epoch 76/200\n",
      "21/21 [==============================] - 0s 599us/step - loss: 0.0947 - accuracy: 0.9902\n",
      "Epoch 77/200\n",
      "21/21 [==============================] - 0s 700us/step - loss: 0.1078 - accuracy: 0.9860\n",
      "Epoch 78/200\n",
      "21/21 [==============================] - 0s 750us/step - loss: 0.0975 - accuracy: 0.9761\n",
      "Epoch 79/200\n",
      "21/21 [==============================] - 0s 650us/step - loss: 0.0773 - accuracy: 0.9948\n",
      "Epoch 80/200\n",
      "21/21 [==============================] - 0s 600us/step - loss: 0.1166 - accuracy: 0.9632\n",
      "Epoch 81/200\n",
      "21/21 [==============================] - 0s 650us/step - loss: 0.1033 - accuracy: 0.9742\n",
      "Epoch 82/200\n",
      "21/21 [==============================] - 0s 600us/step - loss: 0.0593 - accuracy: 0.9958\n",
      "Epoch 83/200\n",
      "21/21 [==============================] - 0s 600us/step - loss: 0.0856 - accuracy: 0.9978\n",
      "Epoch 84/200\n",
      "21/21 [==============================] - 0s 650us/step - loss: 0.1343 - accuracy: 0.9465\n",
      "Epoch 85/200\n",
      "21/21 [==============================] - 0s 699us/step - loss: 0.0798 - accuracy: 0.9822\n",
      "Epoch 86/200\n",
      "21/21 [==============================] - 0s 650us/step - loss: 0.0995 - accuracy: 0.9702\n",
      "Epoch 87/200\n",
      "21/21 [==============================] - 0s 650us/step - loss: 0.0957 - accuracy: 0.9772\n",
      "Epoch 88/200\n",
      "21/21 [==============================] - 0s 700us/step - loss: 0.1169 - accuracy: 0.9465\n",
      "Epoch 89/200\n",
      "21/21 [==============================] - 0s 650us/step - loss: 0.1012 - accuracy: 0.9576\n",
      "Epoch 90/200\n",
      "21/21 [==============================] - 0s 650us/step - loss: 0.0661 - accuracy: 0.9811\n",
      "Epoch 91/200\n",
      "21/21 [==============================] - 0s 750us/step - loss: 0.0742 - accuracy: 0.9928\n",
      "Epoch 92/200\n",
      "21/21 [==============================] - 0s 700us/step - loss: 0.0672 - accuracy: 0.9942\n",
      "Epoch 93/200\n",
      "21/21 [==============================] - 0s 750us/step - loss: 0.0715 - accuracy: 0.9943\n",
      "Epoch 94/200\n",
      "21/21 [==============================] - 0s 750us/step - loss: 0.0962 - accuracy: 0.9859\n",
      "Epoch 95/200\n",
      "21/21 [==============================] - 0s 600us/step - loss: 0.0671 - accuracy: 0.9949\n",
      "Epoch 96/200\n",
      "21/21 [==============================] - 0s 600us/step - loss: 0.0937 - accuracy: 0.9664\n",
      "Epoch 97/200\n",
      "21/21 [==============================] - 0s 650us/step - loss: 0.1014 - accuracy: 0.9762\n",
      "Epoch 98/200\n",
      "21/21 [==============================] - 0s 650us/step - loss: 0.1397 - accuracy: 0.9419\n",
      "Epoch 99/200\n",
      "21/21 [==============================] - 0s 650us/step - loss: 0.0747 - accuracy: 0.9918\n",
      "Epoch 100/200\n",
      "21/21 [==============================] - 0s 1ms/step - loss: 0.0685 - accuracy: 0.9783\n",
      "Epoch 101/200\n",
      "21/21 [==============================] - 0s 850us/step - loss: 0.0633 - accuracy: 0.9925\n",
      "Epoch 102/200\n",
      "21/21 [==============================] - 0s 550us/step - loss: 0.0904 - accuracy: 0.9672\n",
      "Epoch 103/200\n",
      "21/21 [==============================] - 0s 600us/step - loss: 0.0686 - accuracy: 0.9937\n",
      "Epoch 104/200\n",
      "21/21 [==============================] - 0s 600us/step - loss: 0.0587 - accuracy: 0.9937\n",
      "Epoch 105/200\n",
      "21/21 [==============================] - 0s 549us/step - loss: 0.0735 - accuracy: 0.9712\n",
      "Epoch 106/200\n",
      "21/21 [==============================] - 0s 1000us/step - loss: 0.0725 - accuracy: 0.9853\n",
      "Epoch 107/200\n",
      "21/21 [==============================] - 0s 500us/step - loss: 0.0896 - accuracy: 0.9576\n",
      "Epoch 108/200\n",
      "21/21 [==============================] - 0s 700us/step - loss: 0.0606 - accuracy: 0.9907\n",
      "Epoch 109/200\n",
      "21/21 [==============================] - 0s 550us/step - loss: 0.0537 - accuracy: 0.9913\n",
      "Epoch 110/200\n",
      "21/21 [==============================] - 0s 500us/step - loss: 0.0703 - accuracy: 0.9787\n",
      "Epoch 111/200\n",
      "21/21 [==============================] - 0s 600us/step - loss: 0.0762 - accuracy: 0.9731\n",
      "Epoch 112/200\n",
      "21/21 [==============================] - 0s 700us/step - loss: 0.0692 - accuracy: 0.9872\n",
      "Epoch 113/200\n",
      "21/21 [==============================] - 0s 750us/step - loss: 0.0791 - accuracy: 0.9770\n",
      "Epoch 114/200\n",
      "21/21 [==============================] - 0s 600us/step - loss: 0.0753 - accuracy: 0.9627\n",
      "Epoch 115/200\n",
      "21/21 [==============================] - 0s 599us/step - loss: 0.0641 - accuracy: 0.9825\n",
      "Epoch 116/200\n",
      "21/21 [==============================] - 0s 650us/step - loss: 0.0513 - accuracy: 0.9902\n",
      "Epoch 117/200\n",
      "21/21 [==============================] - 0s 700us/step - loss: 0.0568 - accuracy: 0.9919\n",
      "Epoch 118/200\n",
      "21/21 [==============================] - 0s 600us/step - loss: 0.0763 - accuracy: 0.9747\n",
      "Epoch 119/200\n",
      "21/21 [==============================] - 0s 600us/step - loss: 0.0777 - accuracy: 0.9718\n",
      "Epoch 120/200\n",
      "21/21 [==============================] - 0s 550us/step - loss: 0.0693 - accuracy: 0.9701\n",
      "Epoch 121/200\n",
      "21/21 [==============================] - 0s 650us/step - loss: 0.0826 - accuracy: 0.9702\n",
      "Epoch 122/200\n",
      "21/21 [==============================] - 0s 700us/step - loss: 0.0558 - accuracy: 0.9877\n",
      "Epoch 123/200\n",
      "21/21 [==============================] - 0s 750us/step - loss: 0.0573 - accuracy: 0.9823\n",
      "Epoch 124/200\n",
      "21/21 [==============================] - 0s 700us/step - loss: 0.0482 - accuracy: 0.9883\n",
      "Epoch 125/200\n",
      "21/21 [==============================] - 0s 700us/step - loss: 0.0711 - accuracy: 0.9833\n",
      "Epoch 126/200\n",
      "21/21 [==============================] - 0s 700us/step - loss: 0.0513 - accuracy: 0.9978\n",
      "Epoch 127/200\n",
      "21/21 [==============================] - 0s 650us/step - loss: 0.0608 - accuracy: 0.9792\n",
      "Epoch 128/200\n",
      "21/21 [==============================] - 0s 700us/step - loss: 0.0574 - accuracy: 0.9945\n",
      "Epoch 129/200\n",
      "21/21 [==============================] - 0s 600us/step - loss: 0.0937 - accuracy: 0.9586\n",
      "Epoch 130/200\n",
      "21/21 [==============================] - 0s 602us/step - loss: 0.0871 - accuracy: 0.9903\n",
      "Epoch 131/200\n",
      "21/21 [==============================] - 0s 649us/step - loss: 0.0545 - accuracy: 0.9811\n",
      "Epoch 132/200\n",
      "21/21 [==============================] - 0s 601us/step - loss: 0.0607 - accuracy: 0.9925\n",
      "Epoch 133/200\n",
      "21/21 [==============================] - 0s 650us/step - loss: 0.0531 - accuracy: 0.9772\n",
      "Epoch 134/200\n",
      "21/21 [==============================] - 0s 600us/step - loss: 0.0817 - accuracy: 0.9586\n",
      "Epoch 135/200\n",
      "21/21 [==============================] - 0s 651us/step - loss: 0.0458 - accuracy: 0.9884\n",
      "Epoch 136/200\n",
      "21/21 [==============================] - 0s 648us/step - loss: 0.0623 - accuracy: 0.9821\n",
      "Epoch 137/200\n",
      "21/21 [==============================] - 0s 549us/step - loss: 0.0680 - accuracy: 0.9672\n",
      "Epoch 138/200\n",
      "21/21 [==============================] - 0s 700us/step - loss: 0.0642 - accuracy: 0.9905\n",
      "Epoch 139/200\n",
      "21/21 [==============================] - 0s 650us/step - loss: 0.0468 - accuracy: 0.9872\n",
      "Epoch 140/200\n",
      "21/21 [==============================] - 0s 700us/step - loss: 0.0589 - accuracy: 0.9943\n",
      "Epoch 141/200\n",
      "21/21 [==============================] - 0s 750us/step - loss: 0.0451 - accuracy: 0.9859\n",
      "Epoch 142/200\n",
      "21/21 [==============================] - 0s 599us/step - loss: 0.0558 - accuracy: 0.9818\n",
      "Epoch 143/200\n",
      "21/21 [==============================] - 0s 800us/step - loss: 0.0661 - accuracy: 0.9677\n",
      "Epoch 144/200\n",
      "21/21 [==============================] - 0s 600us/step - loss: 0.0517 - accuracy: 0.9949\n",
      "Epoch 145/200\n",
      "21/21 [==============================] - 0s 700us/step - loss: 0.0523 - accuracy: 0.9811\n",
      "Epoch 146/200\n",
      "21/21 [==============================] - 0s 600us/step - loss: 0.0579 - accuracy: 0.9787\n",
      "Epoch 147/200\n",
      "21/21 [==============================] - 0s 700us/step - loss: 0.0685 - accuracy: 0.9784\n",
      "Epoch 148/200\n",
      "21/21 [==============================] - 0s 600us/step - loss: 0.0378 - accuracy: 0.9958\n",
      "Epoch 149/200\n",
      "21/21 [==============================] - 0s 600us/step - loss: 0.0350 - accuracy: 0.9959\n",
      "Epoch 150/200\n",
      "21/21 [==============================] - 0s 550us/step - loss: 0.0518 - accuracy: 0.9854\n",
      "Epoch 151/200\n",
      "21/21 [==============================] - 0s 600us/step - loss: 0.0391 - accuracy: 0.9951\n",
      "Epoch 152/200\n",
      "21/21 [==============================] - 0s 600us/step - loss: 0.0379 - accuracy: 0.9943\n",
      "Epoch 153/200\n",
      "21/21 [==============================] - 0s 600us/step - loss: 0.0603 - accuracy: 0.9813\n",
      "Epoch 154/200\n",
      "21/21 [==============================] - 0s 600us/step - loss: 0.0528 - accuracy: 0.9887\n",
      "Epoch 155/200\n",
      "21/21 [==============================] - 0s 650us/step - loss: 0.0566 - accuracy: 0.9807\n",
      "Epoch 156/200\n",
      "21/21 [==============================] - 0s 700us/step - loss: 0.0470 - accuracy: 0.9908\n",
      "Epoch 157/200\n",
      "21/21 [==============================] - 0s 650us/step - loss: 0.0411 - accuracy: 0.9884\n",
      "Epoch 158/200\n",
      "21/21 [==============================] - 0s 599us/step - loss: 0.0521 - accuracy: 0.9942\n",
      "Epoch 159/200\n",
      "21/21 [==============================] - 0s 650us/step - loss: 0.0469 - accuracy: 0.9783\n",
      "Epoch 160/200\n",
      "21/21 [==============================] - 0s 550us/step - loss: 0.0541 - accuracy: 0.9731\n",
      "Epoch 161/200\n",
      "21/21 [==============================] - 0s 650us/step - loss: 0.0632 - accuracy: 0.9811\n",
      "Epoch 162/200\n",
      "21/21 [==============================] - 0s 600us/step - loss: 0.0556 - accuracy: 0.9742\n",
      "Epoch 163/200\n",
      "21/21 [==============================] - 0s 650us/step - loss: 0.0533 - accuracy: 0.9811\n",
      "Epoch 164/200\n",
      "21/21 [==============================] - 0s 749us/step - loss: 0.0275 - accuracy: 0.9930\n",
      "Epoch 165/200\n",
      "21/21 [==============================] - 0s 650us/step - loss: 0.0288 - accuracy: 0.9954\n",
      "Epoch 166/200\n",
      "21/21 [==============================] - 0s 650us/step - loss: 0.0322 - accuracy: 0.9912\n",
      "Epoch 167/200\n",
      "21/21 [==============================] - 0s 900us/step - loss: 0.0647 - accuracy: 0.9685\n",
      "Epoch 168/200\n",
      "21/21 [==============================] - 0s 750us/step - loss: 0.0317 - accuracy: 0.9964\n",
      "Epoch 169/200\n",
      "21/21 [==============================] - 0s 600us/step - loss: 0.0377 - accuracy: 0.9943\n",
      "Epoch 170/200\n",
      "21/21 [==============================] - 0s 650us/step - loss: 0.0555 - accuracy: 0.9715\n",
      "Epoch 171/200\n",
      "21/21 [==============================] - 0s 850us/step - loss: 0.0401 - accuracy: 0.9938\n",
      "Epoch 172/200\n",
      "21/21 [==============================] - 0s 649us/step - loss: 0.0411 - accuracy: 0.9883\n",
      "Epoch 173/200\n",
      "21/21 [==============================] - 0s 700us/step - loss: 0.0465 - accuracy: 0.9754\n",
      "Epoch 174/200\n",
      "21/21 [==============================] - 0s 650us/step - loss: 0.0621 - accuracy: 0.9731\n",
      "Epoch 175/200\n",
      "21/21 [==============================] - 0s 600us/step - loss: 0.0391 - accuracy: 0.9890\n",
      "Epoch 176/200\n",
      "21/21 [==============================] - 0s 750us/step - loss: 0.0479 - accuracy: 0.9893\n",
      "Epoch 177/200\n",
      "21/21 [==============================] - 0s 700us/step - loss: 0.0398 - accuracy: 0.9865\n",
      "Epoch 178/200\n",
      "21/21 [==============================] - 0s 700us/step - loss: 0.0571 - accuracy: 0.9778\n",
      "Epoch 179/200\n",
      "21/21 [==============================] - 0s 600us/step - loss: 0.0513 - accuracy: 0.9859\n",
      "Epoch 180/200\n",
      "21/21 [==============================] - 0s 650us/step - loss: 0.0631 - accuracy: 0.9742\n",
      "Epoch 181/200\n",
      "21/21 [==============================] - 0s 650us/step - loss: 0.0712 - accuracy: 0.9718\n",
      "Epoch 182/200\n",
      "21/21 [==============================] - 0s 650us/step - loss: 0.0450 - accuracy: 0.9845\n",
      "Epoch 183/200\n",
      "21/21 [==============================] - 0s 599us/step - loss: 0.0429 - accuracy: 0.9908\n",
      "Epoch 184/200\n",
      "21/21 [==============================] - 0s 550us/step - loss: 0.0508 - accuracy: 0.9814\n",
      "Epoch 185/200\n",
      "21/21 [==============================] - 0s 650us/step - loss: 0.0600 - accuracy: 0.9921\n",
      "Epoch 186/200\n",
      "21/21 [==============================] - 0s 650us/step - loss: 0.0412 - accuracy: 0.9903\n",
      "Epoch 187/200\n",
      "21/21 [==============================] - 0s 550us/step - loss: 0.0511 - accuracy: 0.9902\n",
      "Epoch 188/200\n",
      "21/21 [==============================] - 0s 700us/step - loss: 0.0788 - accuracy: 0.9419\n",
      "Epoch 189/200\n",
      "21/21 [==============================] - 0s 550us/step - loss: 0.0519 - accuracy: 0.9677\n",
      "Epoch 190/200\n",
      "21/21 [==============================] - 0s 697us/step - loss: 0.0415 - accuracy: 0.9878\n",
      "Epoch 191/200\n",
      "21/21 [==============================] - 0s 600us/step - loss: 0.0350 - accuracy: 0.9887\n",
      "Epoch 192/200\n",
      "21/21 [==============================] - 0s 749us/step - loss: 0.0539 - accuracy: 0.9715\n",
      "Epoch 193/200\n",
      "21/21 [==============================] - 0s 600us/step - loss: 0.0448 - accuracy: 0.9811\n",
      "Epoch 194/200\n",
      "21/21 [==============================] - 0s 651us/step - loss: 0.0345 - accuracy: 0.9866\n",
      "Epoch 195/200\n",
      "21/21 [==============================] - 0s 650us/step - loss: 0.0549 - accuracy: 0.9727\n",
      "Epoch 196/200\n",
      "21/21 [==============================] - 0s 600us/step - loss: 0.0510 - accuracy: 0.9802\n",
      "Epoch 197/200\n",
      "21/21 [==============================] - 0s 700us/step - loss: 0.0343 - accuracy: 0.9861\n",
      "Epoch 198/200\n",
      "21/21 [==============================] - 0s 650us/step - loss: 0.0324 - accuracy: 0.9945\n",
      "Epoch 199/200\n",
      "21/21 [==============================] - 0s 600us/step - loss: 0.0643 - accuracy: 0.9721\n",
      "Epoch 200/200\n",
      "21/21 [==============================] - 0s 600us/step - loss: 0.0377 - accuracy: 0.9893\n"
     ]
    },
    {
     "output_type": "execute_result",
     "data": {
      "text/plain": [
       "<tensorflow.python.keras.callbacks.History at 0x21405970040>"
      ]
     },
     "metadata": {},
     "execution_count": 96
    }
   ],
   "source": [
    "import keras\n",
    "\n",
    "# Define model with keras_Squential\n",
    "model = keras.Sequential()\n",
    "\n",
    "# Using 4 units at input as the feature matrix has 4 dimensions\n",
    "model.add(Dense(units = 4, activation = 'relu'))\n",
    "\n",
    "# Inner layer defined with 5 units\n",
    "model.add(Dense(units = 5, activation = 'relu'))\n",
    "\n",
    "# Using 3 output units as the label matrix has 3 dimensions\n",
    "model.add(Dense(units = 3, activation = 'softmax'))\n",
    "\n",
    "model.compile(optimizer = 'adam', loss='categorical_crossentropy', metrics=['accuracy'])\n",
    "\n",
    "model.fit(x_train, y_train, epochs=200, batch_size=5, shuffle=True)\n"
   ]
  },
  {
   "cell_type": "code",
   "execution_count": 97,
   "metadata": {},
   "outputs": [
    {
     "output_type": "stream",
     "name": "stdout",
     "text": [
      "Model: \"sequential_14\"\n_________________________________________________________________\nLayer (type)                 Output Shape              Param #   \n=================================================================\ndense_42 (Dense)             (5, 4)                    20        \n_________________________________________________________________\ndense_43 (Dense)             (5, 5)                    25        \n_________________________________________________________________\ndense_44 (Dense)             (5, 3)                    18        \n=================================================================\nTotal params: 63\nTrainable params: 63\nNon-trainable params: 0\n_________________________________________________________________\n"
     ]
    }
   ],
   "source": [
    "model.summary()"
   ]
  },
  {
   "cell_type": "code",
   "execution_count": 98,
   "metadata": {},
   "outputs": [
    {
     "output_type": "stream",
     "name": "stdout",
     "text": [
      "WARNING:tensorflow:5 out of the last 11 calls to <function Model.make_test_function.<locals>.test_function at 0x0000021406BB01F0> triggered tf.function retracing. Tracing is expensive and the excessive number of tracings could be due to (1) creating @tf.function repeatedly in a loop, (2) passing tensors with different shapes, (3) passing Python objects instead of tensors. For (1), please define your @tf.function outside of the loop. For (2), @tf.function has experimental_relax_shapes=True option that relaxes argument shapes that can avoid unnecessary retracing. For (3), please refer to https://www.tensorflow.org/guide/function#controlling_retracing and https://www.tensorflow.org/api_docs/python/tf/function for  more details.\n",
      "2/2 [==============================] - 0s 996us/step - loss: 0.1252 - accuracy: 0.9778\n",
      "\n",
      "Accuracy: 97.78%\n"
     ]
    }
   ],
   "source": [
    "scores = model.evaluate(x_test, y_test)\n",
    "print(\"\\nAccuracy: %.2f%%\" % (scores[1]*100))"
   ]
  },
  {
   "source": [
    "### Testing predictions\n",
    "\n",
    "The following statement will create a vector of all predictions for x_test matrix using the newly trained model"
   ],
   "cell_type": "markdown",
   "metadata": {}
  },
  {
   "cell_type": "code",
   "execution_count": 99,
   "metadata": {},
   "outputs": [],
   "source": [
    "y_pred = model.predict(x_test)"
   ]
  },
  {
   "source": [
    "### Prediction sample\n",
    "\n",
    "The following shows the probabilities computed for the first row of the x_train matrix"
   ],
   "cell_type": "markdown",
   "metadata": {}
  },
  {
   "cell_type": "code",
   "execution_count": 101,
   "metadata": {},
   "outputs": [
    {
     "output_type": "execute_result",
     "data": {
      "text/plain": [
       "(array([6. , 2.2, 4. , 1. ]),\n",
       " array([0.00344594, 0.99243987, 0.00411417], dtype=float32))"
      ]
     },
     "metadata": {},
     "execution_count": 101
    }
   ],
   "source": [
    "x_test[1,:],y_pred[1]"
   ]
  },
  {
   "source": [
    "### Interpretation of prediction\n",
    "\n",
    "There are 3 classes\n",
    " - Setosha(class 0)\n",
    " - Versicolor (class 1)\n",
    " - Virginica (class 2)\n",
    "\n",
    "So we would like to pick a class based on the y_pred row picked above (0.003, 0.99, 0.004) which shows that the highest probability of classification is in favor of versicolor, i.e class 1\n",
    "\n",
    "So to interpret the output layer we'll simply pick the highest probability and return the index as the classification, using numpy_argmax() function"
   ],
   "cell_type": "markdown",
   "metadata": {}
  },
  {
   "cell_type": "code",
   "execution_count": 103,
   "metadata": {},
   "outputs": [
    {
     "output_type": "stream",
     "name": "stdout",
     "text": [
      "1\n"
     ]
    }
   ],
   "source": [
    "y_pred_class = np.argmax(y_pred[1])\n",
    "print(y_pred_class)"
   ]
  },
  {
   "source": [
    "#### Save the model to the file system\n",
    "\n",
    "Now we use keras to save the model to the file system for future use"
   ],
   "cell_type": "markdown",
   "metadata": {}
  },
  {
   "cell_type": "code",
   "execution_count": 104,
   "metadata": {},
   "outputs": [
    {
     "output_type": "stream",
     "name": "stdout",
     "text": [
      "INFO:tensorflow:Assets written to: model_file.iris\\assets\n"
     ]
    }
   ],
   "source": [
    "model.save('model_file.iris')"
   ]
  },
  {
   "source": [
    "## Prediction from saved model\n",
    "\n",
    "\n",
    "Now we load the saved model from the file system and use it to run some predictions from saved data"
   ],
   "cell_type": "markdown",
   "metadata": {}
  },
  {
   "cell_type": "code",
   "execution_count": 105,
   "metadata": {},
   "outputs": [],
   "source": [
    "import numpy as np \n",
    "from keras.models import load_model\n",
    "\n",
    "iris_model = load_model('model_file.iris')"
   ]
  },
  {
   "source": [
    "Create input values with which to test the model"
   ],
   "cell_type": "markdown",
   "metadata": {}
  },
  {
   "cell_type": "code",
   "execution_count": 118,
   "metadata": {},
   "outputs": [
    {
     "output_type": "stream",
     "name": "stdout",
     "text": [
      "(1, 4)\n"
     ]
    }
   ],
   "source": [
    "data = np.array([[4.9, 3.0, 1.4, 0.9]])\n",
    "print(data.shape)\n"
   ]
  },
  {
   "cell_type": "code",
   "execution_count": 126,
   "metadata": {},
   "outputs": [
    {
     "output_type": "stream",
     "name": "stdout",
     "text": [
      "[[9.6959496e-01 3.0401474e-02 3.6076938e-06]]\n"
     ]
    }
   ],
   "source": [
    "predictions_1 = iris_model.predict(data)\n",
    "\n",
    "print(predictions_1)"
   ]
  },
  {
   "cell_type": "code",
   "execution_count": 124,
   "metadata": {},
   "outputs": [
    {
     "output_type": "stream",
     "name": "stdout",
     "text": [
      "[[2.3078643e-01 7.6885813e-01 3.5542957e-04]]\n"
     ]
    }
   ],
   "source": [
    "predictions_2 = iris_model.predict(np.array([[6,2,1.8,2]]))\n",
    "\n",
    "print(predictions_2)"
   ]
  }
 ],
 "metadata": {
  "kernelspec": {
   "display_name": "Python 3",
   "language": "python",
   "name": "python3"
  },
  "language_info": {
   "codemirror_mode": {
    "name": "ipython",
    "version": 3
   },
   "file_extension": ".py",
   "mimetype": "text/x-python",
   "name": "python",
   "nbconvert_exporter": "python",
   "pygments_lexer": "ipython3",
   "version": "3.9.0-final"
  }
 },
 "nbformat": 4,
 "nbformat_minor": 1
}