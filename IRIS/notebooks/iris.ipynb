{
 "cells": [
  {
   "cell_type": "code",
   "execution_count": 75,
   "metadata": {
    "pycharm": {
     "is_executing": false
    }
   },
   "outputs": [],
   "source": [
    "import pandas as pd\n",
    "import numpy as np\n",
    "from keras.utils import np_utils"
   ]
  },
  {
   "cell_type": "code",
   "execution_count": 76,
   "metadata": {
    "scrolled": true
   },
   "outputs": [
    {
     "output_type": "execute_result",
     "data": {
      "text/plain": [
       "   sepal_length  sepal_width  petal_length  petal_width species\n",
       "0           5.1          3.5           1.4          0.2  setosa\n",
       "1           4.9          3.0           1.4          0.2  setosa\n",
       "2           4.7          3.2           1.3          0.2  setosa\n",
       "3           4.6          3.1           1.5          0.2  setosa\n",
       "4           5.0          3.6           1.4          0.2  setosa"
      ],
      "text/html": "<div>\n<style scoped>\n    .dataframe tbody tr th:only-of-type {\n        vertical-align: middle;\n    }\n\n    .dataframe tbody tr th {\n        vertical-align: top;\n    }\n\n    .dataframe thead th {\n        text-align: right;\n    }\n</style>\n<table border=\"1\" class=\"dataframe\">\n  <thead>\n    <tr style=\"text-align: right;\">\n      <th></th>\n      <th>sepal_length</th>\n      <th>sepal_width</th>\n      <th>petal_length</th>\n      <th>petal_width</th>\n      <th>species</th>\n    </tr>\n  </thead>\n  <tbody>\n    <tr>\n      <th>0</th>\n      <td>5.1</td>\n      <td>3.5</td>\n      <td>1.4</td>\n      <td>0.2</td>\n      <td>setosa</td>\n    </tr>\n    <tr>\n      <th>1</th>\n      <td>4.9</td>\n      <td>3.0</td>\n      <td>1.4</td>\n      <td>0.2</td>\n      <td>setosa</td>\n    </tr>\n    <tr>\n      <th>2</th>\n      <td>4.7</td>\n      <td>3.2</td>\n      <td>1.3</td>\n      <td>0.2</td>\n      <td>setosa</td>\n    </tr>\n    <tr>\n      <th>3</th>\n      <td>4.6</td>\n      <td>3.1</td>\n      <td>1.5</td>\n      <td>0.2</td>\n      <td>setosa</td>\n    </tr>\n    <tr>\n      <th>4</th>\n      <td>5.0</td>\n      <td>3.6</td>\n      <td>1.4</td>\n      <td>0.2</td>\n      <td>setosa</td>\n    </tr>\n  </tbody>\n</table>\n</div>"
     },
     "metadata": {},
     "execution_count": 76
    }
   ],
   "source": [
    "df = pd.read_csv(\"iris.csv\")\n",
    "df.head()"
   ]
  },
  {
   "cell_type": "code",
   "execution_count": 77,
   "metadata": {},
   "outputs": [
    {
     "output_type": "execute_result",
     "data": {
      "text/plain": [
       "       sepal_length  sepal_width  petal_length  petal_width\n",
       "count    150.000000   150.000000    150.000000   150.000000\n",
       "mean       5.843333     3.054000      3.758667     1.198667\n",
       "std        0.828066     0.433594      1.764420     0.763161\n",
       "min        4.300000     2.000000      1.000000     0.100000\n",
       "25%        5.100000     2.800000      1.600000     0.300000\n",
       "50%        5.800000     3.000000      4.350000     1.300000\n",
       "75%        6.400000     3.300000      5.100000     1.800000\n",
       "max        7.900000     4.400000      6.900000     2.500000"
      ],
      "text/html": "<div>\n<style scoped>\n    .dataframe tbody tr th:only-of-type {\n        vertical-align: middle;\n    }\n\n    .dataframe tbody tr th {\n        vertical-align: top;\n    }\n\n    .dataframe thead th {\n        text-align: right;\n    }\n</style>\n<table border=\"1\" class=\"dataframe\">\n  <thead>\n    <tr style=\"text-align: right;\">\n      <th></th>\n      <th>sepal_length</th>\n      <th>sepal_width</th>\n      <th>petal_length</th>\n      <th>petal_width</th>\n    </tr>\n  </thead>\n  <tbody>\n    <tr>\n      <th>count</th>\n      <td>150.000000</td>\n      <td>150.000000</td>\n      <td>150.000000</td>\n      <td>150.000000</td>\n    </tr>\n    <tr>\n      <th>mean</th>\n      <td>5.843333</td>\n      <td>3.054000</td>\n      <td>3.758667</td>\n      <td>1.198667</td>\n    </tr>\n    <tr>\n      <th>std</th>\n      <td>0.828066</td>\n      <td>0.433594</td>\n      <td>1.764420</td>\n      <td>0.763161</td>\n    </tr>\n    <tr>\n      <th>min</th>\n      <td>4.300000</td>\n      <td>2.000000</td>\n      <td>1.000000</td>\n      <td>0.100000</td>\n    </tr>\n    <tr>\n      <th>25%</th>\n      <td>5.100000</td>\n      <td>2.800000</td>\n      <td>1.600000</td>\n      <td>0.300000</td>\n    </tr>\n    <tr>\n      <th>50%</th>\n      <td>5.800000</td>\n      <td>3.000000</td>\n      <td>4.350000</td>\n      <td>1.300000</td>\n    </tr>\n    <tr>\n      <th>75%</th>\n      <td>6.400000</td>\n      <td>3.300000</td>\n      <td>5.100000</td>\n      <td>1.800000</td>\n    </tr>\n    <tr>\n      <th>max</th>\n      <td>7.900000</td>\n      <td>4.400000</td>\n      <td>6.900000</td>\n      <td>2.500000</td>\n    </tr>\n  </tbody>\n</table>\n</div>"
     },
     "metadata": {},
     "execution_count": 77
    }
   ],
   "source": [
    "df.describe()"
   ]
  },
  {
   "cell_type": "code",
   "execution_count": 78,
   "metadata": {},
   "outputs": [
    {
     "output_type": "stream",
     "name": "stdout",
     "text": [
      "   sepal_length  sepal_width  petal_length  petal_width\n0           5.1          3.5           1.4          0.2\n1           4.9          3.0           1.4          0.2\n2           4.7          3.2           1.3          0.2\n3           4.6          3.1           1.5          0.2\n4           5.0          3.6           1.4          0.2\n"
     ]
    }
   ],
   "source": [
    "features = list(df.columns[:4])\n",
    "\n",
    "x = df[features]\n",
    "print(x.head())\n",
    "\n",
    "x = np.array(x)\n",
    "\n",
    "\n",
    "y = list(df['species'])\n",
    "\n",
    "y = np.array(y)"
   ]
  },
  {
   "source": [
    "### Label encoding\n",
    "\n",
    "The labels vector contains labels for the flowers in a single dimension. Using the LabelEncoder we convert that to 3 dimensions each  with 1 or 0 according to whether or not they fall into any of the 3 types"
   ],
   "cell_type": "markdown",
   "metadata": {}
  },
  {
   "cell_type": "code",
   "execution_count": 79,
   "metadata": {},
   "outputs": [
    {
     "output_type": "stream",
     "name": "stdout",
     "text": [
      "[[1 0 0]\n [1 0 0]\n [1 0 0]\n [1 0 0]\n [1 0 0]]\n"
     ]
    }
   ],
   "source": [
    "from sklearn.preprocessing import LabelEncoder\n",
    "\n",
    "encoder = LabelEncoder()\n",
    "y1 = encoder.fit_transform(y)\n",
    "y = pd.get_dummies(y1).values\n",
    "\n",
    "# Alternative for checking the head in ndarray\n",
    "print(y[:5])"
   ]
  },
  {
   "source": [
    "### Train/Test Split\n",
    "\n",
    "We us the train_test_split function in the model_selction module to split the data as follows:\n",
    "\n",
    " - 30% test data\n",
    " - 70% training data"
   ],
   "cell_type": "markdown",
   "metadata": {}
  },
  {
   "cell_type": "code",
   "execution_count": 80,
   "metadata": {},
   "outputs": [],
   "source": [
    "from sklearn.model_selection import train_test_split\n",
    "\n",
    "x_train, x_test, y_train, y_test = train_test_split(x,y, test_size=0.30, random_state=0)"
   ]
  },
  {
   "source": [
    "### Neural Network Architecture\n",
    "\n",
    "Below we are going to define using keras a neural network model with the following layers\n",
    "\n",
    " - Layer 1: Input layer with 4 units (feature matrix has 4 dimensions) RELU activation\n",
    " - Layer 2: Inner layer with 5 units RELU activation\n",
    " - Layer 3: Output layer with 3 units SOFTMAX activation\n",
    "\n",
    "This is Sequential model is created incrementally via the add() method. "
   ],
   "cell_type": "markdown",
   "metadata": {}
  },
  {
   "cell_type": "code",
   "execution_count": 89,
   "metadata": {
    "tags": [
     "outputPrepend"
    ]
   },
   "outputs": [
    {
     "output_type": "stream",
     "name": "stdout",
     "text": [
      "curacy: 0.4151\n",
      "Epoch 6/200\n",
      "21/21 [==============================] - 0s 750us/step - loss: 1.0963 - accuracy: 0.3861\n",
      "Epoch 7/200\n",
      "21/21 [==============================] - 0s 650us/step - loss: 1.0954 - accuracy: 0.4257\n",
      "Epoch 8/200\n",
      "21/21 [==============================] - 0s 700us/step - loss: 1.0949 - accuracy: 0.4491\n",
      "Epoch 9/200\n",
      "21/21 [==============================] - 0s 801us/step - loss: 1.0973 - accuracy: 0.3704\n",
      "Epoch 10/200\n",
      "21/21 [==============================] - 0s 699us/step - loss: 1.0966 - accuracy: 0.3634\n",
      "Epoch 11/200\n",
      "21/21 [==============================] - 0s 700us/step - loss: 1.0966 - accuracy: 0.3983\n",
      "Epoch 12/200\n",
      "21/21 [==============================] - 0s 648us/step - loss: 1.0968 - accuracy: 0.3754\n",
      "Epoch 13/200\n",
      "21/21 [==============================] - 0s 650us/step - loss: 1.0963 - accuracy: 0.3827\n",
      "Epoch 14/200\n",
      "21/21 [==============================] - 0s 650us/step - loss: 1.0939 - accuracy: 0.4136\n",
      "Epoch 15/200\n",
      "21/21 [==============================] - 0s 650us/step - loss: 1.0966 - accuracy: 0.3765\n",
      "Epoch 16/200\n",
      "21/21 [==============================] - 0s 599us/step - loss: 1.0968 - accuracy: 0.3765\n",
      "Epoch 17/200\n",
      "21/21 [==============================] - 0s 650us/step - loss: 1.0992 - accuracy: 0.3209\n",
      "Epoch 18/200\n",
      "21/21 [==============================] - 0s 650us/step - loss: 1.0920 - accuracy: 0.4272\n",
      "Epoch 19/200\n",
      "21/21 [==============================] - 0s 700us/step - loss: 1.0966 - accuracy: 0.3625\n",
      "Epoch 20/200\n",
      "21/21 [==============================] - 0s 600us/step - loss: 1.0981 - accuracy: 0.3386\n",
      "Epoch 21/200\n",
      "21/21 [==============================] - 0s 651us/step - loss: 1.0907 - accuracy: 0.4501\n",
      "Epoch 22/200\n",
      "21/21 [==============================] - 0s 650us/step - loss: 1.0972 - accuracy: 0.3629\n",
      "Epoch 23/200\n",
      "21/21 [==============================] - 0s 600us/step - loss: 1.0945 - accuracy: 0.3975\n",
      "Epoch 24/200\n",
      "21/21 [==============================] - 0s 703us/step - loss: 1.0932 - accuracy: 0.3848\n",
      "Epoch 25/200\n",
      "21/21 [==============================] - 0s 700us/step - loss: 1.0982 - accuracy: 0.3697\n",
      "Epoch 26/200\n",
      "21/21 [==============================] - 0s 650us/step - loss: 1.1016 - accuracy: 0.3393\n",
      "Epoch 27/200\n",
      "21/21 [==============================] - 0s 650us/step - loss: 1.0967 - accuracy: 0.3698\n",
      "Epoch 28/200\n",
      "21/21 [==============================] - 0s 652us/step - loss: 1.1044 - accuracy: 0.2751\n",
      "Epoch 29/200\n",
      "21/21 [==============================] - 0s 650us/step - loss: 1.0990 - accuracy: 0.3383\n",
      "Epoch 30/200\n",
      "21/21 [==============================] - 0s 652us/step - loss: 1.0886 - accuracy: 0.4331\n",
      "Epoch 31/200\n",
      "21/21 [==============================] - 0s 701us/step - loss: 1.0983 - accuracy: 0.3403\n",
      "Epoch 32/200\n",
      "21/21 [==============================] - 0s 699us/step - loss: 1.1037 - accuracy: 0.3091\n",
      "Epoch 33/200\n",
      "21/21 [==============================] - 0s 651us/step - loss: 1.0949 - accuracy: 0.3724\n",
      "Epoch 34/200\n",
      "21/21 [==============================] - 0s 650us/step - loss: 1.0937 - accuracy: 0.3976\n",
      "Epoch 35/200\n",
      "21/21 [==============================] - 0s 600us/step - loss: 1.0954 - accuracy: 0.3791\n",
      "Epoch 36/200\n",
      "21/21 [==============================] - 0s 600us/step - loss: 1.0936 - accuracy: 0.3852\n",
      "Epoch 37/200\n",
      "21/21 [==============================] - 0s 650us/step - loss: 1.0999 - accuracy: 0.3497\n",
      "Epoch 38/200\n",
      "21/21 [==============================] - 0s 700us/step - loss: 1.0912 - accuracy: 0.3993\n",
      "Epoch 39/200\n",
      "21/21 [==============================] - 0s 650us/step - loss: 1.0860 - accuracy: 0.4471\n",
      "Epoch 40/200\n",
      "21/21 [==============================] - 0s 700us/step - loss: 1.0964 - accuracy: 0.3352\n",
      "Epoch 41/200\n",
      "21/21 [==============================] - 0s 650us/step - loss: 1.0980 - accuracy: 0.3690\n",
      "Epoch 42/200\n",
      "21/21 [==============================] - 0s 651us/step - loss: 1.0981 - accuracy: 0.3659\n",
      "Epoch 43/200\n",
      "21/21 [==============================] - 0s 700us/step - loss: 1.0887 - accuracy: 0.4193\n",
      "Epoch 44/200\n",
      "21/21 [==============================] - 0s 650us/step - loss: 1.0937 - accuracy: 0.3786\n",
      "Epoch 45/200\n",
      "21/21 [==============================] - 0s 600us/step - loss: 1.0963 - accuracy: 0.3698\n",
      "Epoch 46/200\n",
      "21/21 [==============================] - 0s 650us/step - loss: 1.0842 - accuracy: 0.4471\n",
      "Epoch 47/200\n",
      "21/21 [==============================] - 0s 700us/step - loss: 1.1019 - accuracy: 0.3355\n",
      "Epoch 48/200\n",
      "21/21 [==============================] - 0s 700us/step - loss: 1.0976 - accuracy: 0.3701\n",
      "Epoch 49/200\n",
      "21/21 [==============================] - 0s 650us/step - loss: 1.1031 - accuracy: 0.3296\n",
      "Epoch 50/200\n",
      "21/21 [==============================] - 0s 650us/step - loss: 1.0890 - accuracy: 0.4130\n",
      "Epoch 51/200\n",
      "21/21 [==============================] - 0s 600us/step - loss: 1.0990 - accuracy: 0.3442\n",
      "Epoch 52/200\n",
      "21/21 [==============================] - 0s 599us/step - loss: 1.0980 - accuracy: 0.3475\n",
      "Epoch 53/200\n",
      "21/21 [==============================] - 0s 651us/step - loss: 1.1057 - accuracy: 0.3198\n",
      "Epoch 54/200\n",
      "21/21 [==============================] - 0s 700us/step - loss: 1.0969 - accuracy: 0.3401\n",
      "Epoch 55/200\n",
      "21/21 [==============================] - 0s 750us/step - loss: 1.0966 - accuracy: 0.3597\n",
      "Epoch 56/200\n",
      "21/21 [==============================] - 0s 752us/step - loss: 1.1042 - accuracy: 0.3200\n",
      "Epoch 57/200\n",
      "21/21 [==============================] - 0s 650us/step - loss: 1.1009 - accuracy: 0.3388\n",
      "Epoch 58/200\n",
      "21/21 [==============================] - 0s 650us/step - loss: 1.0973 - accuracy: 0.3496\n",
      "Epoch 59/200\n",
      "21/21 [==============================] - 0s 750us/step - loss: 1.0913 - accuracy: 0.3886\n",
      "Epoch 60/200\n",
      "21/21 [==============================] - 0s 750us/step - loss: 1.0948 - accuracy: 0.3799\n",
      "Epoch 61/200\n",
      "21/21 [==============================] - 0s 700us/step - loss: 1.1023 - accuracy: 0.3319\n",
      "Epoch 62/200\n",
      "21/21 [==============================] - 0s 700us/step - loss: 1.0920 - accuracy: 0.3952\n",
      "Epoch 63/200\n",
      "21/21 [==============================] - 0s 750us/step - loss: 1.1051 - accuracy: 0.3171\n",
      "Epoch 64/200\n",
      "21/21 [==============================] - 0s 700us/step - loss: 1.0922 - accuracy: 0.3812\n",
      "Epoch 65/200\n",
      "21/21 [==============================] - 0s 800us/step - loss: 1.0870 - accuracy: 0.4287\n",
      "Epoch 66/200\n",
      "21/21 [==============================] - 0s 701us/step - loss: 1.0957 - accuracy: 0.3541\n",
      "Epoch 67/200\n",
      "21/21 [==============================] - 0s 650us/step - loss: 1.0996 - accuracy: 0.3692\n",
      "Epoch 68/200\n",
      "21/21 [==============================] - 0s 1ms/step - loss: 1.0882 - accuracy: 0.4344\n",
      "Epoch 69/200\n",
      "21/21 [==============================] - 0s 700us/step - loss: 1.0816 - accuracy: 0.4557\n",
      "Epoch 70/200\n",
      "21/21 [==============================] - 0s 600us/step - loss: 1.0917 - accuracy: 0.3905\n",
      "Epoch 71/200\n",
      "21/21 [==============================] - 0s 700us/step - loss: 1.0884 - accuracy: 0.4070\n",
      "Epoch 72/200\n",
      "21/21 [==============================] - 0s 648us/step - loss: 1.0981 - accuracy: 0.3454\n",
      "Epoch 73/200\n",
      "21/21 [==============================] - 0s 701us/step - loss: 1.1038 - accuracy: 0.3191\n",
      "Epoch 74/200\n",
      "21/21 [==============================] - 0s 701us/step - loss: 1.0906 - accuracy: 0.3980\n",
      "Epoch 75/200\n",
      "21/21 [==============================] - 0s 650us/step - loss: 1.0942 - accuracy: 0.3765\n",
      "Epoch 76/200\n",
      "21/21 [==============================] - 0s 600us/step - loss: 1.0965 - accuracy: 0.3654\n",
      "Epoch 77/200\n",
      "21/21 [==============================] - 0s 649us/step - loss: 1.0926 - accuracy: 0.3962\n",
      "Epoch 78/200\n",
      "21/21 [==============================] - 0s 650us/step - loss: 1.1060 - accuracy: 0.3212\n",
      "Epoch 79/200\n",
      "21/21 [==============================] - 0s 600us/step - loss: 1.1128 - accuracy: 0.2660\n",
      "Epoch 80/200\n",
      "21/21 [==============================] - 0s 600us/step - loss: 1.0901 - accuracy: 0.3838\n",
      "Epoch 81/200\n",
      "21/21 [==============================] - 0s 650us/step - loss: 1.1079 - accuracy: 0.3042\n",
      "Epoch 82/200\n",
      "21/21 [==============================] - 0s 650us/step - loss: 1.0928 - accuracy: 0.3805\n",
      "Epoch 83/200\n",
      "21/21 [==============================] - 0s 700us/step - loss: 1.0869 - accuracy: 0.4383\n",
      "Epoch 84/200\n",
      "21/21 [==============================] - 0s 651us/step - loss: 1.0982 - accuracy: 0.3522\n",
      "Epoch 85/200\n",
      "21/21 [==============================] - 0s 551us/step - loss: 1.0893 - accuracy: 0.3983\n",
      "Epoch 86/200\n",
      "21/21 [==============================] - 0s 600us/step - loss: 1.1112 - accuracy: 0.2873\n",
      "Epoch 87/200\n",
      "21/21 [==============================] - 0s 650us/step - loss: 1.0947 - accuracy: 0.3545\n",
      "Epoch 88/200\n",
      "21/21 [==============================] - 0s 700us/step - loss: 1.0903 - accuracy: 0.3757\n",
      "Epoch 89/200\n",
      "21/21 [==============================] - 0s 650us/step - loss: 1.0848 - accuracy: 0.4314\n",
      "Epoch 90/200\n",
      "21/21 [==============================] - 0s 700us/step - loss: 1.0747 - accuracy: 0.4889\n",
      "Epoch 91/200\n",
      "21/21 [==============================] - 0s 700us/step - loss: 1.1006 - accuracy: 0.3338\n",
      "Epoch 92/200\n",
      "21/21 [==============================] - 0s 750us/step - loss: 1.1031 - accuracy: 0.3323\n",
      "Epoch 93/200\n",
      "21/21 [==============================] - 0s 699us/step - loss: 1.0818 - accuracy: 0.4377\n",
      "Epoch 94/200\n",
      "21/21 [==============================] - 0s 600us/step - loss: 1.1005 - accuracy: 0.3194\n",
      "Epoch 95/200\n",
      "21/21 [==============================] - 0s 599us/step - loss: 1.0874 - accuracy: 0.4331\n",
      "Epoch 96/200\n",
      "21/21 [==============================] - 0s 750us/step - loss: 1.1022 - accuracy: 0.3475\n",
      "Epoch 97/200\n",
      "21/21 [==============================] - 0s 650us/step - loss: 1.0914 - accuracy: 0.3878\n",
      "Epoch 98/200\n",
      "21/21 [==============================] - 0s 701us/step - loss: 1.0965 - accuracy: 0.3629\n",
      "Epoch 99/200\n",
      "21/21 [==============================] - 0s 700us/step - loss: 1.0956 - accuracy: 0.3759\n",
      "Epoch 100/200\n",
      "21/21 [==============================] - 0s 600us/step - loss: 1.0916 - accuracy: 0.4009\n",
      "Epoch 101/200\n",
      "21/21 [==============================] - 0s 900us/step - loss: 1.1050 - accuracy: 0.3134\n",
      "Epoch 102/200\n",
      "21/21 [==============================] - 0s 650us/step - loss: 1.0958 - accuracy: 0.3911\n",
      "Epoch 103/200\n",
      "21/21 [==============================] - 0s 700us/step - loss: 1.0869 - accuracy: 0.4377\n",
      "Epoch 104/200\n",
      "21/21 [==============================] - 0s 651us/step - loss: 1.1050 - accuracy: 0.3085\n",
      "Epoch 105/200\n",
      "21/21 [==============================] - 0s 700us/step - loss: 1.0922 - accuracy: 0.3708\n",
      "Epoch 106/200\n",
      "21/21 [==============================] - 0s 650us/step - loss: 1.0912 - accuracy: 0.3929\n",
      "Epoch 107/200\n",
      "21/21 [==============================] - 0s 650us/step - loss: 1.0829 - accuracy: 0.4576\n",
      "Epoch 108/200\n",
      "21/21 [==============================] - 0s 650us/step - loss: 1.1002 - accuracy: 0.3427\n",
      "Epoch 109/200\n",
      "21/21 [==============================] - 0s 700us/step - loss: 1.0994 - accuracy: 0.3525\n",
      "Epoch 110/200\n",
      "21/21 [==============================] - 0s 650us/step - loss: 1.1051 - accuracy: 0.3084\n",
      "Epoch 111/200\n",
      "21/21 [==============================] - 0s 601us/step - loss: 1.0981 - accuracy: 0.3594\n",
      "Epoch 112/200\n",
      "21/21 [==============================] - 0s 700us/step - loss: 1.0981 - accuracy: 0.3411\n",
      "Epoch 113/200\n",
      "21/21 [==============================] - 0s 602us/step - loss: 1.0923 - accuracy: 0.4124\n",
      "Epoch 114/200\n",
      "21/21 [==============================] - 0s 600us/step - loss: 1.1005 - accuracy: 0.3489\n",
      "Epoch 115/200\n",
      "21/21 [==============================] - 0s 800us/step - loss: 1.0952 - accuracy: 0.3666\n",
      "Epoch 116/200\n",
      "21/21 [==============================] - 0s 600us/step - loss: 1.1037 - accuracy: 0.3399\n",
      "Epoch 117/200\n",
      "21/21 [==============================] - 0s 650us/step - loss: 1.0900 - accuracy: 0.3974\n",
      "Epoch 118/200\n",
      "21/21 [==============================] - 0s 650us/step - loss: 1.0950 - accuracy: 0.3571\n",
      "Epoch 119/200\n",
      "21/21 [==============================] - 0s 550us/step - loss: 1.0830 - accuracy: 0.4562\n",
      "Epoch 120/200\n",
      "21/21 [==============================] - 0s 600us/step - loss: 1.0982 - accuracy: 0.3660\n",
      "Epoch 121/200\n",
      "21/21 [==============================] - 0s 600us/step - loss: 1.0974 - accuracy: 0.3796\n",
      "Epoch 122/200\n",
      "21/21 [==============================] - 0s 650us/step - loss: 1.0865 - accuracy: 0.4347\n",
      "Epoch 123/200\n",
      "21/21 [==============================] - 0s 650us/step - loss: 1.0882 - accuracy: 0.4098\n",
      "Epoch 124/200\n",
      "21/21 [==============================] - 0s 600us/step - loss: 1.1110 - accuracy: 0.2892\n",
      "Epoch 125/200\n",
      "21/21 [==============================] - 0s 700us/step - loss: 1.1024 - accuracy: 0.3395\n",
      "Epoch 126/200\n",
      "21/21 [==============================] - 0s 700us/step - loss: 1.0987 - accuracy: 0.3317\n",
      "Epoch 127/200\n",
      "21/21 [==============================] - 0s 650us/step - loss: 1.0925 - accuracy: 0.3955\n",
      "Epoch 128/200\n",
      "21/21 [==============================] - 0s 650us/step - loss: 1.0912 - accuracy: 0.4042\n",
      "Epoch 129/200\n",
      "21/21 [==============================] - 0s 700us/step - loss: 1.0994 - accuracy: 0.3548\n",
      "Epoch 130/200\n",
      "21/21 [==============================] - 0s 650us/step - loss: 1.0926 - accuracy: 0.3861\n",
      "Epoch 131/200\n",
      "21/21 [==============================] - 0s 700us/step - loss: 1.0953 - accuracy: 0.3803\n",
      "Epoch 132/200\n",
      "21/21 [==============================] - 0s 650us/step - loss: 1.0937 - accuracy: 0.3731\n",
      "Epoch 133/200\n",
      "21/21 [==============================] - 0s 650us/step - loss: 1.0965 - accuracy: 0.3743\n",
      "Epoch 134/200\n",
      "21/21 [==============================] - 0s 550us/step - loss: 1.0988 - accuracy: 0.3602\n",
      "Epoch 135/200\n",
      "21/21 [==============================] - 0s 650us/step - loss: 1.0923 - accuracy: 0.3910\n",
      "Epoch 136/200\n",
      "21/21 [==============================] - 0s 650us/step - loss: 1.1034 - accuracy: 0.3383\n",
      "Epoch 137/200\n",
      "21/21 [==============================] - 0s 650us/step - loss: 1.0903 - accuracy: 0.4048\n",
      "Epoch 138/200\n",
      "21/21 [==============================] - 0s 650us/step - loss: 1.0919 - accuracy: 0.3884\n",
      "Epoch 139/200\n",
      "21/21 [==============================] - 0s 750us/step - loss: 1.0997 - accuracy: 0.3344\n",
      "Epoch 140/200\n",
      "21/21 [==============================] - 0s 700us/step - loss: 1.0886 - accuracy: 0.4343\n",
      "Epoch 141/200\n",
      "21/21 [==============================] - 0s 600us/step - loss: 1.0947 - accuracy: 0.3780\n",
      "Epoch 142/200\n",
      "21/21 [==============================] - 0s 650us/step - loss: 1.1125 - accuracy: 0.2653\n",
      "Epoch 143/200\n",
      "21/21 [==============================] - 0s 800us/step - loss: 1.0964 - accuracy: 0.3723\n",
      "Epoch 144/200\n",
      "21/21 [==============================] - 0s 650us/step - loss: 1.0981 - accuracy: 0.3508\n",
      "Epoch 145/200\n",
      "21/21 [==============================] - 0s 550us/step - loss: 1.0898 - accuracy: 0.4146\n",
      "Epoch 146/200\n",
      "21/21 [==============================] - 0s 600us/step - loss: 1.0979 - accuracy: 0.3487\n",
      "Epoch 147/200\n",
      "21/21 [==============================] - 0s 600us/step - loss: 1.0993 - accuracy: 0.3676\n",
      "Epoch 148/200\n",
      "21/21 [==============================] - 0s 650us/step - loss: 1.0900 - accuracy: 0.3919\n",
      "Epoch 149/200\n",
      "21/21 [==============================] - 0s 750us/step - loss: 1.0867 - accuracy: 0.4137\n",
      "Epoch 150/200\n",
      "21/21 [==============================] - 0s 650us/step - loss: 1.0976 - accuracy: 0.3460\n",
      "Epoch 151/200\n",
      "21/21 [==============================] - 0s 700us/step - loss: 1.0964 - accuracy: 0.3726\n",
      "Epoch 152/200\n",
      "21/21 [==============================] - 0s 700us/step - loss: 1.0953 - accuracy: 0.3601\n",
      "Epoch 153/200\n",
      "21/21 [==============================] - 0s 750us/step - loss: 1.0925 - accuracy: 0.3813\n",
      "Epoch 154/200\n",
      "21/21 [==============================] - 0s 850us/step - loss: 1.0979 - accuracy: 0.3498\n",
      "Epoch 155/200\n",
      "21/21 [==============================] - 0s 550us/step - loss: 1.0913 - accuracy: 0.3868\n",
      "Epoch 156/200\n",
      "21/21 [==============================] - 0s 749us/step - loss: 1.0882 - accuracy: 0.4160\n",
      "Epoch 157/200\n",
      "21/21 [==============================] - 0s 600us/step - loss: 1.0953 - accuracy: 0.3837\n",
      "Epoch 158/200\n",
      "21/21 [==============================] - 0s 700us/step - loss: 1.0923 - accuracy: 0.3777\n",
      "Epoch 159/200\n",
      "21/21 [==============================] - 0s 550us/step - loss: 1.0798 - accuracy: 0.4434\n",
      "Epoch 160/200\n",
      "21/21 [==============================] - 0s 600us/step - loss: 1.0959 - accuracy: 0.3428\n",
      "Epoch 161/200\n",
      "21/21 [==============================] - 0s 650us/step - loss: 1.0884 - accuracy: 0.4046\n",
      "Epoch 162/200\n",
      "21/21 [==============================] - 0s 600us/step - loss: 1.0883 - accuracy: 0.4227\n",
      "Epoch 163/200\n",
      "21/21 [==============================] - 0s 700us/step - loss: 1.0921 - accuracy: 0.3925\n",
      "Epoch 164/200\n",
      "21/21 [==============================] - 0s 650us/step - loss: 1.0973 - accuracy: 0.3343\n",
      "Epoch 165/200\n",
      "21/21 [==============================] - 0s 650us/step - loss: 1.0959 - accuracy: 0.3580\n",
      "Epoch 166/200\n",
      "21/21 [==============================] - 0s 600us/step - loss: 1.0903 - accuracy: 0.4072\n",
      "Epoch 167/200\n",
      "21/21 [==============================] - 0s 700us/step - loss: 1.1031 - accuracy: 0.3009\n",
      "Epoch 168/200\n",
      "21/21 [==============================] - 0s 600us/step - loss: 1.0987 - accuracy: 0.3299\n",
      "Epoch 169/200\n",
      "21/21 [==============================] - 0s 650us/step - loss: 1.1017 - accuracy: 0.3471\n",
      "Epoch 170/200\n",
      "21/21 [==============================] - 0s 650us/step - loss: 1.0942 - accuracy: 0.3824\n",
      "Epoch 171/200\n",
      "21/21 [==============================] - 0s 900us/step - loss: 1.1073 - accuracy: 0.2931\n",
      "Epoch 172/200\n",
      "21/21 [==============================] - 0s 699us/step - loss: 1.0856 - accuracy: 0.4116\n",
      "Epoch 173/200\n",
      "21/21 [==============================] - 0s 700us/step - loss: 1.0997 - accuracy: 0.3546\n",
      "Epoch 174/200\n",
      "21/21 [==============================] - 0s 700us/step - loss: 1.0968 - accuracy: 0.3776\n",
      "Epoch 175/200\n",
      "21/21 [==============================] - 0s 600us/step - loss: 1.0888 - accuracy: 0.4262\n",
      "Epoch 176/200\n",
      "21/21 [==============================] - 0s 600us/step - loss: 1.0914 - accuracy: 0.3837\n",
      "Epoch 177/200\n",
      "21/21 [==============================] - 0s 650us/step - loss: 1.0958 - accuracy: 0.3502\n",
      "Epoch 178/200\n",
      "21/21 [==============================] - 0s 601us/step - loss: 1.0946 - accuracy: 0.3688\n",
      "Epoch 179/200\n",
      "21/21 [==============================] - 0s 599us/step - loss: 1.0803 - accuracy: 0.4542\n",
      "Epoch 180/200\n",
      "21/21 [==============================] - 0s 700us/step - loss: 1.1009 - accuracy: 0.3407\n",
      "Epoch 181/200\n",
      "21/21 [==============================] - 0s 651us/step - loss: 1.0901 - accuracy: 0.3962\n",
      "Epoch 182/200\n",
      "21/21 [==============================] - 0s 750us/step - loss: 1.0927 - accuracy: 0.4263\n",
      "Epoch 183/200\n",
      "21/21 [==============================] - 0s 699us/step - loss: 1.1034 - accuracy: 0.3424\n",
      "Epoch 184/200\n",
      "21/21 [==============================] - 0s 950us/step - loss: 1.1005 - accuracy: 0.3485\n",
      "Epoch 185/200\n",
      "21/21 [==============================] - 0s 750us/step - loss: 1.0933 - accuracy: 0.3620\n",
      "Epoch 186/200\n",
      "21/21 [==============================] - 0s 600us/step - loss: 1.0811 - accuracy: 0.4553\n",
      "Epoch 187/200\n",
      "21/21 [==============================] - 0s 600us/step - loss: 1.0847 - accuracy: 0.4243\n",
      "Epoch 188/200\n",
      "21/21 [==============================] - 0s 650us/step - loss: 1.1106 - accuracy: 0.2973\n",
      "Epoch 189/200\n",
      "21/21 [==============================] - 0s 650us/step - loss: 1.0973 - accuracy: 0.3589\n",
      "Epoch 190/200\n",
      "21/21 [==============================] - 0s 601us/step - loss: 1.1043 - accuracy: 0.3086\n",
      "Epoch 191/200\n",
      "21/21 [==============================] - 0s 600us/step - loss: 1.0929 - accuracy: 0.3871\n",
      "Epoch 192/200\n",
      "21/21 [==============================] - 0s 650us/step - loss: 1.0932 - accuracy: 0.3856\n",
      "Epoch 193/200\n",
      "21/21 [==============================] - 0s 600us/step - loss: 1.0999 - accuracy: 0.3540\n",
      "Epoch 194/200\n",
      "21/21 [==============================] - 0s 650us/step - loss: 1.0976 - accuracy: 0.3653\n",
      "Epoch 195/200\n",
      "21/21 [==============================] - 0s 750us/step - loss: 1.0898 - accuracy: 0.3967\n",
      "Epoch 196/200\n",
      "21/21 [==============================] - 0s 599us/step - loss: 1.0974 - accuracy: 0.3515\n",
      "Epoch 197/200\n",
      "21/21 [==============================] - 0s 650us/step - loss: 1.0941 - accuracy: 0.3959\n",
      "Epoch 198/200\n",
      "21/21 [==============================] - 0s 700us/step - loss: 1.1017 - accuracy: 0.3421\n",
      "Epoch 199/200\n",
      "21/21 [==============================] - 0s 650us/step - loss: 1.0905 - accuracy: 0.3932\n",
      "Epoch 200/200\n",
      "21/21 [==============================] - 0s 650us/step - loss: 1.0909 - accuracy: 0.4044\n"
     ]
    },
    {
     "output_type": "execute_result",
     "data": {
      "text/plain": [
       "<tensorflow.python.keras.callbacks.History at 0x214055ada60>"
      ]
     },
     "metadata": {},
     "execution_count": 89
    }
   ],
   "source": [
    "import keras\n",
    "\n",
    "# Define model with keras_Squential\n",
    "model = keras.Sequential()\n",
    "\n",
    "# Using 4 units at input as the feature matrix has 4 dimensions\n",
    "model.add(Dense(units = 4, activation = 'relu'))\n",
    "\n",
    "# Inner layer defined with 5 units\n",
    "model.add(Dense(units = 5, activation = 'relu'))\n",
    "\n",
    "# Using 3 output units as the label matrix has 3 dimensions\n",
    "model.add(Dense(units = 3, activation = 'softmax'))\n",
    "\n",
    "model.compile(optimizer = 'adam', loss='categorical_crossentropy', metrics=['accuracy'])\n",
    "\n",
    "model.fit(x_train, y_train, epochs=200, batch_size=5, shuffle=True)\n"
   ]
  },
  {
   "cell_type": "code",
   "execution_count": 82,
   "metadata": {},
   "outputs": [
    {
     "output_type": "stream",
     "name": "stdout",
     "text": [
      "Model: \"sequential_12\"\n_________________________________________________________________\nLayer (type)                 Output Shape              Param #   \n=================================================================\ndense_36 (Dense)             (5, 4)                    20        \n_________________________________________________________________\ndense_37 (Dense)             (5, 5)                    25        \n_________________________________________________________________\ndense_38 (Dense)             (5, 3)                    18        \n=================================================================\nTotal params: 63\nTrainable params: 63\nNon-trainable params: 0\n_________________________________________________________________\n"
     ]
    }
   ],
   "source": [
    "model.summary()"
   ]
  },
  {
   "cell_type": "code",
   "execution_count": 83,
   "metadata": {},
   "outputs": [
    {
     "output_type": "stream",
     "name": "stdout",
     "text": [
      "2/2 [==============================] - 0s 2ms/step - loss: 0.1416 - accuracy: 0.9556\n",
      "\n",
      "Accuracy: 95.56%\n"
     ]
    }
   ],
   "source": [
    "scores = model.evaluate(x_test, y_test)\n",
    "print(\"\\nAccuracy: %.2f%%\" % (scores[1]*100))"
   ]
  },
  {
   "cell_type": "code",
   "execution_count": 88,
   "metadata": {},
   "outputs": [],
   "source": [
    "y_pred = model.predict(x_test)"
   ]
  },
  {
   "cell_type": "code",
   "execution_count": 86,
   "metadata": {},
   "outputs": [
    {
     "output_type": "execute_result",
     "data": {
      "text/plain": [
       "(array([6. , 2.2, 4. , 1. ]),\n",
       " array([6.5911474e-04, 9.9854064e-01, 8.0022356e-04], dtype=float32))"
      ]
     },
     "metadata": {},
     "execution_count": 86
    }
   ],
   "source": [
    "x_test[1,:],y_pred[1]"
   ]
  },
  {
   "cell_type": "code",
   "execution_count": 36,
   "metadata": {},
   "outputs": [
    {
     "output_type": "stream",
     "name": "stdout",
     "text": [
      "1\n"
     ]
    }
   ],
   "source": [
    "y_pred_class = np.argmax(y_pred[1])\n",
    "print(y_pred_class)"
   ]
  },
  {
   "cell_type": "code",
   "execution_count": 37,
   "metadata": {},
   "outputs": [
    {
     "output_type": "stream",
     "name": "stdout",
     "text": [
      "INFO:tensorflow:Assets written to: model_file.iris\\assets\n"
     ]
    }
   ],
   "source": [
    "model.save('model_file.iris')"
   ]
  },
  {
   "cell_type": "code",
   "execution_count": null,
   "metadata": {},
   "outputs": [],
   "source": [
    "import numpy as np \n",
    "from keras.models import load_model"
   ]
  },
  {
   "cell_type": "code",
   "execution_count": 55,
   "metadata": {},
   "outputs": [],
   "source": [
    "iris_model = load_model('model_file.iris')\n",
    "\n"
   ]
  },
  {
   "cell_type": "code",
   "execution_count": 93,
   "metadata": {},
   "outputs": [
    {
     "name": "stdout",
     "output_type": "stream",
     "text": [
      "(4,)\n"
     ]
    }
   ],
   "source": [
    "T = np.array([4.9, 3.0, 1.4, 0.9])\n",
    "#data = T.transpose()\n",
    "print(data.shape)\n"
   ]
  },
  {
   "cell_type": "code",
   "execution_count": 92,
   "metadata": {},
   "outputs": [
    {
     "ename": "ValueError",
     "evalue": "in user code:\n\n    c:\\python38\\lib\\site-packages\\tensorflow\\python\\keras\\engine\\training.py:1478 predict_function  *\n        return step_function(self, iterator)\n    c:\\python38\\lib\\site-packages\\tensorflow\\python\\keras\\engine\\training.py:1468 step_function  **\n        outputs = model.distribute_strategy.run(run_step, args=(data,))\n    c:\\python38\\lib\\site-packages\\tensorflow\\python\\distribute\\distribute_lib.py:1259 run\n        return self._extended.call_for_each_replica(fn, args=args, kwargs=kwargs)\n    c:\\python38\\lib\\site-packages\\tensorflow\\python\\distribute\\distribute_lib.py:2730 call_for_each_replica\n        return self._call_for_each_replica(fn, args, kwargs)\n    c:\\python38\\lib\\site-packages\\tensorflow\\python\\distribute\\distribute_lib.py:3417 _call_for_each_replica\n        return fn(*args, **kwargs)\n    c:\\python38\\lib\\site-packages\\tensorflow\\python\\keras\\engine\\training.py:1461 run_step  **\n        outputs = model.predict_step(data)\n    c:\\python38\\lib\\site-packages\\tensorflow\\python\\keras\\engine\\training.py:1434 predict_step\n        return self(x, training=False)\n    c:\\python38\\lib\\site-packages\\tensorflow\\python\\keras\\engine\\base_layer.py:998 __call__\n        input_spec.assert_input_compatibility(self.input_spec, inputs, self.name)\n    c:\\python38\\lib\\site-packages\\tensorflow\\python\\keras\\engine\\input_spec.py:255 assert_input_compatibility\n        raise ValueError(\n\n    ValueError: Input 0 of layer sequential_7 is incompatible with the layer: expected axis -1 of input shape to have value 4 but received input with shape (None, 1)\n",
     "output_type": "error",
     "traceback": [
      "\u001b[1;31m---------------------------------------------------------------------------\u001b[0m",
      "\u001b[1;31mValueError\u001b[0m                                Traceback (most recent call last)",
      "\u001b[1;32m<ipython-input-92-60b8b5e8b97e>\u001b[0m in \u001b[0;36m<module>\u001b[1;34m\u001b[0m\n\u001b[1;32m----> 1\u001b[1;33m \u001b[0mpredictions\u001b[0m \u001b[1;33m=\u001b[0m \u001b[0miris_model\u001b[0m\u001b[1;33m.\u001b[0m\u001b[0mpredict\u001b[0m\u001b[1;33m(\u001b[0m\u001b[0mdata\u001b[0m\u001b[1;33m)\u001b[0m\u001b[1;33m\u001b[0m\u001b[1;33m\u001b[0m\u001b[0m\n\u001b[0m",
      "\u001b[1;32mc:\\python38\\lib\\site-packages\\tensorflow\\python\\keras\\engine\\training.py\u001b[0m in \u001b[0;36mpredict\u001b[1;34m(self, x, batch_size, verbose, steps, callbacks, max_queue_size, workers, use_multiprocessing)\u001b[0m\n\u001b[0;32m   1627\u001b[0m           \u001b[1;32mfor\u001b[0m \u001b[0mstep\u001b[0m \u001b[1;32min\u001b[0m \u001b[0mdata_handler\u001b[0m\u001b[1;33m.\u001b[0m\u001b[0msteps\u001b[0m\u001b[1;33m(\u001b[0m\u001b[1;33m)\u001b[0m\u001b[1;33m:\u001b[0m\u001b[1;33m\u001b[0m\u001b[1;33m\u001b[0m\u001b[0m\n\u001b[0;32m   1628\u001b[0m             \u001b[0mcallbacks\u001b[0m\u001b[1;33m.\u001b[0m\u001b[0mon_predict_batch_begin\u001b[0m\u001b[1;33m(\u001b[0m\u001b[0mstep\u001b[0m\u001b[1;33m)\u001b[0m\u001b[1;33m\u001b[0m\u001b[1;33m\u001b[0m\u001b[0m\n\u001b[1;32m-> 1629\u001b[1;33m             \u001b[0mtmp_batch_outputs\u001b[0m \u001b[1;33m=\u001b[0m \u001b[0mself\u001b[0m\u001b[1;33m.\u001b[0m\u001b[0mpredict_function\u001b[0m\u001b[1;33m(\u001b[0m\u001b[0miterator\u001b[0m\u001b[1;33m)\u001b[0m\u001b[1;33m\u001b[0m\u001b[1;33m\u001b[0m\u001b[0m\n\u001b[0m\u001b[0;32m   1630\u001b[0m             \u001b[1;32mif\u001b[0m \u001b[0mdata_handler\u001b[0m\u001b[1;33m.\u001b[0m\u001b[0mshould_sync\u001b[0m\u001b[1;33m:\u001b[0m\u001b[1;33m\u001b[0m\u001b[1;33m\u001b[0m\u001b[0m\n\u001b[0;32m   1631\u001b[0m               \u001b[0mcontext\u001b[0m\u001b[1;33m.\u001b[0m\u001b[0masync_wait\u001b[0m\u001b[1;33m(\u001b[0m\u001b[1;33m)\u001b[0m\u001b[1;33m\u001b[0m\u001b[1;33m\u001b[0m\u001b[0m\n",
      "\u001b[1;32mc:\\python38\\lib\\site-packages\\tensorflow\\python\\eager\\def_function.py\u001b[0m in \u001b[0;36m__call__\u001b[1;34m(self, *args, **kwds)\u001b[0m\n\u001b[0;32m    826\u001b[0m     \u001b[0mtracing_count\u001b[0m \u001b[1;33m=\u001b[0m \u001b[0mself\u001b[0m\u001b[1;33m.\u001b[0m\u001b[0mexperimental_get_tracing_count\u001b[0m\u001b[1;33m(\u001b[0m\u001b[1;33m)\u001b[0m\u001b[1;33m\u001b[0m\u001b[1;33m\u001b[0m\u001b[0m\n\u001b[0;32m    827\u001b[0m     \u001b[1;32mwith\u001b[0m \u001b[0mtrace\u001b[0m\u001b[1;33m.\u001b[0m\u001b[0mTrace\u001b[0m\u001b[1;33m(\u001b[0m\u001b[0mself\u001b[0m\u001b[1;33m.\u001b[0m\u001b[0m_name\u001b[0m\u001b[1;33m)\u001b[0m \u001b[1;32mas\u001b[0m \u001b[0mtm\u001b[0m\u001b[1;33m:\u001b[0m\u001b[1;33m\u001b[0m\u001b[1;33m\u001b[0m\u001b[0m\n\u001b[1;32m--> 828\u001b[1;33m       \u001b[0mresult\u001b[0m \u001b[1;33m=\u001b[0m \u001b[0mself\u001b[0m\u001b[1;33m.\u001b[0m\u001b[0m_call\u001b[0m\u001b[1;33m(\u001b[0m\u001b[1;33m*\u001b[0m\u001b[0margs\u001b[0m\u001b[1;33m,\u001b[0m \u001b[1;33m**\u001b[0m\u001b[0mkwds\u001b[0m\u001b[1;33m)\u001b[0m\u001b[1;33m\u001b[0m\u001b[1;33m\u001b[0m\u001b[0m\n\u001b[0m\u001b[0;32m    829\u001b[0m       \u001b[0mcompiler\u001b[0m \u001b[1;33m=\u001b[0m \u001b[1;34m\"xla\"\u001b[0m \u001b[1;32mif\u001b[0m \u001b[0mself\u001b[0m\u001b[1;33m.\u001b[0m\u001b[0m_experimental_compile\u001b[0m \u001b[1;32melse\u001b[0m \u001b[1;34m\"nonXla\"\u001b[0m\u001b[1;33m\u001b[0m\u001b[1;33m\u001b[0m\u001b[0m\n\u001b[0;32m    830\u001b[0m       \u001b[0mnew_tracing_count\u001b[0m \u001b[1;33m=\u001b[0m \u001b[0mself\u001b[0m\u001b[1;33m.\u001b[0m\u001b[0mexperimental_get_tracing_count\u001b[0m\u001b[1;33m(\u001b[0m\u001b[1;33m)\u001b[0m\u001b[1;33m\u001b[0m\u001b[1;33m\u001b[0m\u001b[0m\n",
      "\u001b[1;32mc:\\python38\\lib\\site-packages\\tensorflow\\python\\eager\\def_function.py\u001b[0m in \u001b[0;36m_call\u001b[1;34m(self, *args, **kwds)\u001b[0m\n\u001b[0;32m    860\u001b[0m       \u001b[1;31m# In this case we have not created variables on the first call. So we can\u001b[0m\u001b[1;33m\u001b[0m\u001b[1;33m\u001b[0m\u001b[1;33m\u001b[0m\u001b[0m\n\u001b[0;32m    861\u001b[0m       \u001b[1;31m# run the first trace but we should fail if variables are created.\u001b[0m\u001b[1;33m\u001b[0m\u001b[1;33m\u001b[0m\u001b[1;33m\u001b[0m\u001b[0m\n\u001b[1;32m--> 862\u001b[1;33m       \u001b[0mresults\u001b[0m \u001b[1;33m=\u001b[0m \u001b[0mself\u001b[0m\u001b[1;33m.\u001b[0m\u001b[0m_stateful_fn\u001b[0m\u001b[1;33m(\u001b[0m\u001b[1;33m*\u001b[0m\u001b[0margs\u001b[0m\u001b[1;33m,\u001b[0m \u001b[1;33m**\u001b[0m\u001b[0mkwds\u001b[0m\u001b[1;33m)\u001b[0m\u001b[1;33m\u001b[0m\u001b[1;33m\u001b[0m\u001b[0m\n\u001b[0m\u001b[0;32m    863\u001b[0m       \u001b[1;32mif\u001b[0m \u001b[0mself\u001b[0m\u001b[1;33m.\u001b[0m\u001b[0m_created_variables\u001b[0m\u001b[1;33m:\u001b[0m\u001b[1;33m\u001b[0m\u001b[1;33m\u001b[0m\u001b[0m\n\u001b[0;32m    864\u001b[0m         raise ValueError(\"Creating variables on a non-first call to a function\"\n",
      "\u001b[1;32mc:\\python38\\lib\\site-packages\\tensorflow\\python\\eager\\function.py\u001b[0m in \u001b[0;36m__call__\u001b[1;34m(self, *args, **kwargs)\u001b[0m\n\u001b[0;32m   2939\u001b[0m     \u001b[1;32mwith\u001b[0m \u001b[0mself\u001b[0m\u001b[1;33m.\u001b[0m\u001b[0m_lock\u001b[0m\u001b[1;33m:\u001b[0m\u001b[1;33m\u001b[0m\u001b[1;33m\u001b[0m\u001b[0m\n\u001b[0;32m   2940\u001b[0m       (graph_function,\n\u001b[1;32m-> 2941\u001b[1;33m        filtered_flat_args) = self._maybe_define_function(args, kwargs)\n\u001b[0m\u001b[0;32m   2942\u001b[0m     return graph_function._call_flat(\n\u001b[0;32m   2943\u001b[0m         filtered_flat_args, captured_inputs=graph_function.captured_inputs)  # pylint: disable=protected-access\n",
      "\u001b[1;32mc:\\python38\\lib\\site-packages\\tensorflow\\python\\eager\\function.py\u001b[0m in \u001b[0;36m_maybe_define_function\u001b[1;34m(self, args, kwargs)\u001b[0m\n\u001b[0;32m   3355\u001b[0m               \u001b[0mself\u001b[0m\u001b[1;33m.\u001b[0m\u001b[0minput_signature\u001b[0m \u001b[1;32mis\u001b[0m \u001b[1;32mNone\u001b[0m \u001b[1;32mand\u001b[0m\u001b[1;33m\u001b[0m\u001b[1;33m\u001b[0m\u001b[0m\n\u001b[0;32m   3356\u001b[0m               call_context_key in self._function_cache.missed):\n\u001b[1;32m-> 3357\u001b[1;33m             return self._define_function_with_shape_relaxation(\n\u001b[0m\u001b[0;32m   3358\u001b[0m                 args, kwargs, flat_args, filtered_flat_args, cache_key_context)\n\u001b[0;32m   3359\u001b[0m \u001b[1;33m\u001b[0m\u001b[0m\n",
      "\u001b[1;32mc:\\python38\\lib\\site-packages\\tensorflow\\python\\eager\\function.py\u001b[0m in \u001b[0;36m_define_function_with_shape_relaxation\u001b[1;34m(self, args, kwargs, flat_args, filtered_flat_args, cache_key_context)\u001b[0m\n\u001b[0;32m   3277\u001b[0m           expand_composites=True)\n\u001b[0;32m   3278\u001b[0m \u001b[1;33m\u001b[0m\u001b[0m\n\u001b[1;32m-> 3279\u001b[1;33m     graph_function = self._create_graph_function(\n\u001b[0m\u001b[0;32m   3280\u001b[0m         args, kwargs, override_flat_arg_shapes=relaxed_arg_shapes)\n\u001b[0;32m   3281\u001b[0m     \u001b[0mself\u001b[0m\u001b[1;33m.\u001b[0m\u001b[0m_function_cache\u001b[0m\u001b[1;33m.\u001b[0m\u001b[0marg_relaxed\u001b[0m\u001b[1;33m[\u001b[0m\u001b[0mrank_only_cache_key\u001b[0m\u001b[1;33m]\u001b[0m \u001b[1;33m=\u001b[0m \u001b[0mgraph_function\u001b[0m\u001b[1;33m\u001b[0m\u001b[1;33m\u001b[0m\u001b[0m\n",
      "\u001b[1;32mc:\\python38\\lib\\site-packages\\tensorflow\\python\\eager\\function.py\u001b[0m in \u001b[0;36m_create_graph_function\u001b[1;34m(self, args, kwargs, override_flat_arg_shapes)\u001b[0m\n\u001b[0;32m   3194\u001b[0m     \u001b[0marg_names\u001b[0m \u001b[1;33m=\u001b[0m \u001b[0mbase_arg_names\u001b[0m \u001b[1;33m+\u001b[0m \u001b[0mmissing_arg_names\u001b[0m\u001b[1;33m\u001b[0m\u001b[1;33m\u001b[0m\u001b[0m\n\u001b[0;32m   3195\u001b[0m     graph_function = ConcreteFunction(\n\u001b[1;32m-> 3196\u001b[1;33m         func_graph_module.func_graph_from_py_func(\n\u001b[0m\u001b[0;32m   3197\u001b[0m             \u001b[0mself\u001b[0m\u001b[1;33m.\u001b[0m\u001b[0m_name\u001b[0m\u001b[1;33m,\u001b[0m\u001b[1;33m\u001b[0m\u001b[1;33m\u001b[0m\u001b[0m\n\u001b[0;32m   3198\u001b[0m             \u001b[0mself\u001b[0m\u001b[1;33m.\u001b[0m\u001b[0m_python_function\u001b[0m\u001b[1;33m,\u001b[0m\u001b[1;33m\u001b[0m\u001b[1;33m\u001b[0m\u001b[0m\n",
      "\u001b[1;32mc:\\python38\\lib\\site-packages\\tensorflow\\python\\framework\\func_graph.py\u001b[0m in \u001b[0;36mfunc_graph_from_py_func\u001b[1;34m(name, python_func, args, kwargs, signature, func_graph, autograph, autograph_options, add_control_dependencies, arg_names, op_return_value, collections, capture_by_value, override_flat_arg_shapes)\u001b[0m\n\u001b[0;32m    988\u001b[0m         \u001b[0m_\u001b[0m\u001b[1;33m,\u001b[0m \u001b[0moriginal_func\u001b[0m \u001b[1;33m=\u001b[0m \u001b[0mtf_decorator\u001b[0m\u001b[1;33m.\u001b[0m\u001b[0munwrap\u001b[0m\u001b[1;33m(\u001b[0m\u001b[0mpython_func\u001b[0m\u001b[1;33m)\u001b[0m\u001b[1;33m\u001b[0m\u001b[1;33m\u001b[0m\u001b[0m\n\u001b[0;32m    989\u001b[0m \u001b[1;33m\u001b[0m\u001b[0m\n\u001b[1;32m--> 990\u001b[1;33m       \u001b[0mfunc_outputs\u001b[0m \u001b[1;33m=\u001b[0m \u001b[0mpython_func\u001b[0m\u001b[1;33m(\u001b[0m\u001b[1;33m*\u001b[0m\u001b[0mfunc_args\u001b[0m\u001b[1;33m,\u001b[0m \u001b[1;33m**\u001b[0m\u001b[0mfunc_kwargs\u001b[0m\u001b[1;33m)\u001b[0m\u001b[1;33m\u001b[0m\u001b[1;33m\u001b[0m\u001b[0m\n\u001b[0m\u001b[0;32m    991\u001b[0m \u001b[1;33m\u001b[0m\u001b[0m\n\u001b[0;32m    992\u001b[0m       \u001b[1;31m# invariant: `func_outputs` contains only Tensors, CompositeTensors,\u001b[0m\u001b[1;33m\u001b[0m\u001b[1;33m\u001b[0m\u001b[1;33m\u001b[0m\u001b[0m\n",
      "\u001b[1;32mc:\\python38\\lib\\site-packages\\tensorflow\\python\\eager\\def_function.py\u001b[0m in \u001b[0;36mwrapped_fn\u001b[1;34m(*args, **kwds)\u001b[0m\n\u001b[0;32m    632\u001b[0m             \u001b[0mxla_context\u001b[0m\u001b[1;33m.\u001b[0m\u001b[0mExit\u001b[0m\u001b[1;33m(\u001b[0m\u001b[1;33m)\u001b[0m\u001b[1;33m\u001b[0m\u001b[1;33m\u001b[0m\u001b[0m\n\u001b[0;32m    633\u001b[0m         \u001b[1;32melse\u001b[0m\u001b[1;33m:\u001b[0m\u001b[1;33m\u001b[0m\u001b[1;33m\u001b[0m\u001b[0m\n\u001b[1;32m--> 634\u001b[1;33m           \u001b[0mout\u001b[0m \u001b[1;33m=\u001b[0m \u001b[0mweak_wrapped_fn\u001b[0m\u001b[1;33m(\u001b[0m\u001b[1;33m)\u001b[0m\u001b[1;33m.\u001b[0m\u001b[0m__wrapped__\u001b[0m\u001b[1;33m(\u001b[0m\u001b[1;33m*\u001b[0m\u001b[0margs\u001b[0m\u001b[1;33m,\u001b[0m \u001b[1;33m**\u001b[0m\u001b[0mkwds\u001b[0m\u001b[1;33m)\u001b[0m\u001b[1;33m\u001b[0m\u001b[1;33m\u001b[0m\u001b[0m\n\u001b[0m\u001b[0;32m    635\u001b[0m         \u001b[1;32mreturn\u001b[0m \u001b[0mout\u001b[0m\u001b[1;33m\u001b[0m\u001b[1;33m\u001b[0m\u001b[0m\n\u001b[0;32m    636\u001b[0m \u001b[1;33m\u001b[0m\u001b[0m\n",
      "\u001b[1;32mc:\\python38\\lib\\site-packages\\tensorflow\\python\\framework\\func_graph.py\u001b[0m in \u001b[0;36mwrapper\u001b[1;34m(*args, **kwargs)\u001b[0m\n\u001b[0;32m    975\u001b[0m           \u001b[1;32mexcept\u001b[0m \u001b[0mException\u001b[0m \u001b[1;32mas\u001b[0m \u001b[0me\u001b[0m\u001b[1;33m:\u001b[0m  \u001b[1;31m# pylint:disable=broad-except\u001b[0m\u001b[1;33m\u001b[0m\u001b[1;33m\u001b[0m\u001b[0m\n\u001b[0;32m    976\u001b[0m             \u001b[1;32mif\u001b[0m \u001b[0mhasattr\u001b[0m\u001b[1;33m(\u001b[0m\u001b[0me\u001b[0m\u001b[1;33m,\u001b[0m \u001b[1;34m\"ag_error_metadata\"\u001b[0m\u001b[1;33m)\u001b[0m\u001b[1;33m:\u001b[0m\u001b[1;33m\u001b[0m\u001b[1;33m\u001b[0m\u001b[0m\n\u001b[1;32m--> 977\u001b[1;33m               \u001b[1;32mraise\u001b[0m \u001b[0me\u001b[0m\u001b[1;33m.\u001b[0m\u001b[0mag_error_metadata\u001b[0m\u001b[1;33m.\u001b[0m\u001b[0mto_exception\u001b[0m\u001b[1;33m(\u001b[0m\u001b[0me\u001b[0m\u001b[1;33m)\u001b[0m\u001b[1;33m\u001b[0m\u001b[1;33m\u001b[0m\u001b[0m\n\u001b[0m\u001b[0;32m    978\u001b[0m             \u001b[1;32melse\u001b[0m\u001b[1;33m:\u001b[0m\u001b[1;33m\u001b[0m\u001b[1;33m\u001b[0m\u001b[0m\n\u001b[0;32m    979\u001b[0m               \u001b[1;32mraise\u001b[0m\u001b[1;33m\u001b[0m\u001b[1;33m\u001b[0m\u001b[0m\n",
      "\u001b[1;31mValueError\u001b[0m: in user code:\n\n    c:\\python38\\lib\\site-packages\\tensorflow\\python\\keras\\engine\\training.py:1478 predict_function  *\n        return step_function(self, iterator)\n    c:\\python38\\lib\\site-packages\\tensorflow\\python\\keras\\engine\\training.py:1468 step_function  **\n        outputs = model.distribute_strategy.run(run_step, args=(data,))\n    c:\\python38\\lib\\site-packages\\tensorflow\\python\\distribute\\distribute_lib.py:1259 run\n        return self._extended.call_for_each_replica(fn, args=args, kwargs=kwargs)\n    c:\\python38\\lib\\site-packages\\tensorflow\\python\\distribute\\distribute_lib.py:2730 call_for_each_replica\n        return self._call_for_each_replica(fn, args, kwargs)\n    c:\\python38\\lib\\site-packages\\tensorflow\\python\\distribute\\distribute_lib.py:3417 _call_for_each_replica\n        return fn(*args, **kwargs)\n    c:\\python38\\lib\\site-packages\\tensorflow\\python\\keras\\engine\\training.py:1461 run_step  **\n        outputs = model.predict_step(data)\n    c:\\python38\\lib\\site-packages\\tensorflow\\python\\keras\\engine\\training.py:1434 predict_step\n        return self(x, training=False)\n    c:\\python38\\lib\\site-packages\\tensorflow\\python\\keras\\engine\\base_layer.py:998 __call__\n        input_spec.assert_input_compatibility(self.input_spec, inputs, self.name)\n    c:\\python38\\lib\\site-packages\\tensorflow\\python\\keras\\engine\\input_spec.py:255 assert_input_compatibility\n        raise ValueError(\n\n    ValueError: Input 0 of layer sequential_7 is incompatible with the layer: expected axis -1 of input shape to have value 4 but received input with shape (None, 1)\n"
     ]
    }
   ],
   "source": [
    "predictions = iris_model.predict(data)"
   ]
  },
  {
   "cell_type": "code",
   "execution_count": 71,
   "metadata": {},
   "outputs": [
    {
     "ename": "ValueError",
     "evalue": "in user code:\n\n    c:\\python38\\lib\\site-packages\\tensorflow\\python\\keras\\engine\\training.py:1478 predict_function  *\n        return step_function(self, iterator)\n    c:\\python38\\lib\\site-packages\\tensorflow\\python\\keras\\engine\\training.py:1468 step_function  **\n        outputs = model.distribute_strategy.run(run_step, args=(data,))\n    c:\\python38\\lib\\site-packages\\tensorflow\\python\\distribute\\distribute_lib.py:1259 run\n        return self._extended.call_for_each_replica(fn, args=args, kwargs=kwargs)\n    c:\\python38\\lib\\site-packages\\tensorflow\\python\\distribute\\distribute_lib.py:2730 call_for_each_replica\n        return self._call_for_each_replica(fn, args, kwargs)\n    c:\\python38\\lib\\site-packages\\tensorflow\\python\\distribute\\distribute_lib.py:3417 _call_for_each_replica\n        return fn(*args, **kwargs)\n    c:\\python38\\lib\\site-packages\\tensorflow\\python\\keras\\engine\\training.py:1461 run_step  **\n        outputs = model.predict_step(data)\n    c:\\python38\\lib\\site-packages\\tensorflow\\python\\keras\\engine\\training.py:1434 predict_step\n        return self(x, training=False)\n    c:\\python38\\lib\\site-packages\\tensorflow\\python\\keras\\engine\\base_layer.py:998 __call__\n        input_spec.assert_input_compatibility(self.input_spec, inputs, self.name)\n    c:\\python38\\lib\\site-packages\\tensorflow\\python\\keras\\engine\\input_spec.py:255 assert_input_compatibility\n        raise ValueError(\n\n    ValueError: Input 0 of layer sequential_7 is incompatible with the layer: expected axis -1 of input shape to have value 4 but received input with shape (None, 1)\n",
     "output_type": "error",
     "traceback": [
      "\u001b[1;31m---------------------------------------------------------------------------\u001b[0m",
      "\u001b[1;31mValueError\u001b[0m                                Traceback (most recent call last)",
      "\u001b[1;32m<ipython-input-71-39bc6661251c>\u001b[0m in \u001b[0;36m<module>\u001b[1;34m\u001b[0m\n\u001b[1;32m----> 1\u001b[1;33m \u001b[0mpredictions\u001b[0m \u001b[1;33m=\u001b[0m \u001b[0miris_model\u001b[0m\u001b[1;33m.\u001b[0m\u001b[0mpredict\u001b[0m\u001b[1;33m(\u001b[0m\u001b[1;33m[\u001b[0m\u001b[1;36m6\u001b[0m\u001b[1;33m,\u001b[0m\u001b[1;36m2\u001b[0m\u001b[1;33m,\u001b[0m\u001b[1;36m1.8\u001b[0m\u001b[1;33m,\u001b[0m\u001b[1;36m2\u001b[0m\u001b[1;33m]\u001b[0m\u001b[1;33m)\u001b[0m\u001b[1;33m\u001b[0m\u001b[1;33m\u001b[0m\u001b[0m\n\u001b[0m",
      "\u001b[1;32mc:\\python38\\lib\\site-packages\\tensorflow\\python\\keras\\engine\\training.py\u001b[0m in \u001b[0;36mpredict\u001b[1;34m(self, x, batch_size, verbose, steps, callbacks, max_queue_size, workers, use_multiprocessing)\u001b[0m\n\u001b[0;32m   1627\u001b[0m           \u001b[1;32mfor\u001b[0m \u001b[0mstep\u001b[0m \u001b[1;32min\u001b[0m \u001b[0mdata_handler\u001b[0m\u001b[1;33m.\u001b[0m\u001b[0msteps\u001b[0m\u001b[1;33m(\u001b[0m\u001b[1;33m)\u001b[0m\u001b[1;33m:\u001b[0m\u001b[1;33m\u001b[0m\u001b[1;33m\u001b[0m\u001b[0m\n\u001b[0;32m   1628\u001b[0m             \u001b[0mcallbacks\u001b[0m\u001b[1;33m.\u001b[0m\u001b[0mon_predict_batch_begin\u001b[0m\u001b[1;33m(\u001b[0m\u001b[0mstep\u001b[0m\u001b[1;33m)\u001b[0m\u001b[1;33m\u001b[0m\u001b[1;33m\u001b[0m\u001b[0m\n\u001b[1;32m-> 1629\u001b[1;33m             \u001b[0mtmp_batch_outputs\u001b[0m \u001b[1;33m=\u001b[0m \u001b[0mself\u001b[0m\u001b[1;33m.\u001b[0m\u001b[0mpredict_function\u001b[0m\u001b[1;33m(\u001b[0m\u001b[0miterator\u001b[0m\u001b[1;33m)\u001b[0m\u001b[1;33m\u001b[0m\u001b[1;33m\u001b[0m\u001b[0m\n\u001b[0m\u001b[0;32m   1630\u001b[0m             \u001b[1;32mif\u001b[0m \u001b[0mdata_handler\u001b[0m\u001b[1;33m.\u001b[0m\u001b[0mshould_sync\u001b[0m\u001b[1;33m:\u001b[0m\u001b[1;33m\u001b[0m\u001b[1;33m\u001b[0m\u001b[0m\n\u001b[0;32m   1631\u001b[0m               \u001b[0mcontext\u001b[0m\u001b[1;33m.\u001b[0m\u001b[0masync_wait\u001b[0m\u001b[1;33m(\u001b[0m\u001b[1;33m)\u001b[0m\u001b[1;33m\u001b[0m\u001b[1;33m\u001b[0m\u001b[0m\n",
      "\u001b[1;32mc:\\python38\\lib\\site-packages\\tensorflow\\python\\eager\\def_function.py\u001b[0m in \u001b[0;36m__call__\u001b[1;34m(self, *args, **kwds)\u001b[0m\n\u001b[0;32m    826\u001b[0m     \u001b[0mtracing_count\u001b[0m \u001b[1;33m=\u001b[0m \u001b[0mself\u001b[0m\u001b[1;33m.\u001b[0m\u001b[0mexperimental_get_tracing_count\u001b[0m\u001b[1;33m(\u001b[0m\u001b[1;33m)\u001b[0m\u001b[1;33m\u001b[0m\u001b[1;33m\u001b[0m\u001b[0m\n\u001b[0;32m    827\u001b[0m     \u001b[1;32mwith\u001b[0m \u001b[0mtrace\u001b[0m\u001b[1;33m.\u001b[0m\u001b[0mTrace\u001b[0m\u001b[1;33m(\u001b[0m\u001b[0mself\u001b[0m\u001b[1;33m.\u001b[0m\u001b[0m_name\u001b[0m\u001b[1;33m)\u001b[0m \u001b[1;32mas\u001b[0m \u001b[0mtm\u001b[0m\u001b[1;33m:\u001b[0m\u001b[1;33m\u001b[0m\u001b[1;33m\u001b[0m\u001b[0m\n\u001b[1;32m--> 828\u001b[1;33m       \u001b[0mresult\u001b[0m \u001b[1;33m=\u001b[0m \u001b[0mself\u001b[0m\u001b[1;33m.\u001b[0m\u001b[0m_call\u001b[0m\u001b[1;33m(\u001b[0m\u001b[1;33m*\u001b[0m\u001b[0margs\u001b[0m\u001b[1;33m,\u001b[0m \u001b[1;33m**\u001b[0m\u001b[0mkwds\u001b[0m\u001b[1;33m)\u001b[0m\u001b[1;33m\u001b[0m\u001b[1;33m\u001b[0m\u001b[0m\n\u001b[0m\u001b[0;32m    829\u001b[0m       \u001b[0mcompiler\u001b[0m \u001b[1;33m=\u001b[0m \u001b[1;34m\"xla\"\u001b[0m \u001b[1;32mif\u001b[0m \u001b[0mself\u001b[0m\u001b[1;33m.\u001b[0m\u001b[0m_experimental_compile\u001b[0m \u001b[1;32melse\u001b[0m \u001b[1;34m\"nonXla\"\u001b[0m\u001b[1;33m\u001b[0m\u001b[1;33m\u001b[0m\u001b[0m\n\u001b[0;32m    830\u001b[0m       \u001b[0mnew_tracing_count\u001b[0m \u001b[1;33m=\u001b[0m \u001b[0mself\u001b[0m\u001b[1;33m.\u001b[0m\u001b[0mexperimental_get_tracing_count\u001b[0m\u001b[1;33m(\u001b[0m\u001b[1;33m)\u001b[0m\u001b[1;33m\u001b[0m\u001b[1;33m\u001b[0m\u001b[0m\n",
      "\u001b[1;32mc:\\python38\\lib\\site-packages\\tensorflow\\python\\eager\\def_function.py\u001b[0m in \u001b[0;36m_call\u001b[1;34m(self, *args, **kwds)\u001b[0m\n\u001b[0;32m    860\u001b[0m       \u001b[1;31m# In this case we have not created variables on the first call. So we can\u001b[0m\u001b[1;33m\u001b[0m\u001b[1;33m\u001b[0m\u001b[1;33m\u001b[0m\u001b[0m\n\u001b[0;32m    861\u001b[0m       \u001b[1;31m# run the first trace but we should fail if variables are created.\u001b[0m\u001b[1;33m\u001b[0m\u001b[1;33m\u001b[0m\u001b[1;33m\u001b[0m\u001b[0m\n\u001b[1;32m--> 862\u001b[1;33m       \u001b[0mresults\u001b[0m \u001b[1;33m=\u001b[0m \u001b[0mself\u001b[0m\u001b[1;33m.\u001b[0m\u001b[0m_stateful_fn\u001b[0m\u001b[1;33m(\u001b[0m\u001b[1;33m*\u001b[0m\u001b[0margs\u001b[0m\u001b[1;33m,\u001b[0m \u001b[1;33m**\u001b[0m\u001b[0mkwds\u001b[0m\u001b[1;33m)\u001b[0m\u001b[1;33m\u001b[0m\u001b[1;33m\u001b[0m\u001b[0m\n\u001b[0m\u001b[0;32m    863\u001b[0m       \u001b[1;32mif\u001b[0m \u001b[0mself\u001b[0m\u001b[1;33m.\u001b[0m\u001b[0m_created_variables\u001b[0m\u001b[1;33m:\u001b[0m\u001b[1;33m\u001b[0m\u001b[1;33m\u001b[0m\u001b[0m\n\u001b[0;32m    864\u001b[0m         raise ValueError(\"Creating variables on a non-first call to a function\"\n",
      "\u001b[1;32mc:\\python38\\lib\\site-packages\\tensorflow\\python\\eager\\function.py\u001b[0m in \u001b[0;36m__call__\u001b[1;34m(self, *args, **kwargs)\u001b[0m\n\u001b[0;32m   2939\u001b[0m     \u001b[1;32mwith\u001b[0m \u001b[0mself\u001b[0m\u001b[1;33m.\u001b[0m\u001b[0m_lock\u001b[0m\u001b[1;33m:\u001b[0m\u001b[1;33m\u001b[0m\u001b[1;33m\u001b[0m\u001b[0m\n\u001b[0;32m   2940\u001b[0m       (graph_function,\n\u001b[1;32m-> 2941\u001b[1;33m        filtered_flat_args) = self._maybe_define_function(args, kwargs)\n\u001b[0m\u001b[0;32m   2942\u001b[0m     return graph_function._call_flat(\n\u001b[0;32m   2943\u001b[0m         filtered_flat_args, captured_inputs=graph_function.captured_inputs)  # pylint: disable=protected-access\n",
      "\u001b[1;32mc:\\python38\\lib\\site-packages\\tensorflow\\python\\eager\\function.py\u001b[0m in \u001b[0;36m_maybe_define_function\u001b[1;34m(self, args, kwargs)\u001b[0m\n\u001b[0;32m   3355\u001b[0m               \u001b[0mself\u001b[0m\u001b[1;33m.\u001b[0m\u001b[0minput_signature\u001b[0m \u001b[1;32mis\u001b[0m \u001b[1;32mNone\u001b[0m \u001b[1;32mand\u001b[0m\u001b[1;33m\u001b[0m\u001b[1;33m\u001b[0m\u001b[0m\n\u001b[0;32m   3356\u001b[0m               call_context_key in self._function_cache.missed):\n\u001b[1;32m-> 3357\u001b[1;33m             return self._define_function_with_shape_relaxation(\n\u001b[0m\u001b[0;32m   3358\u001b[0m                 args, kwargs, flat_args, filtered_flat_args, cache_key_context)\n\u001b[0;32m   3359\u001b[0m \u001b[1;33m\u001b[0m\u001b[0m\n",
      "\u001b[1;32mc:\\python38\\lib\\site-packages\\tensorflow\\python\\eager\\function.py\u001b[0m in \u001b[0;36m_define_function_with_shape_relaxation\u001b[1;34m(self, args, kwargs, flat_args, filtered_flat_args, cache_key_context)\u001b[0m\n\u001b[0;32m   3277\u001b[0m           expand_composites=True)\n\u001b[0;32m   3278\u001b[0m \u001b[1;33m\u001b[0m\u001b[0m\n\u001b[1;32m-> 3279\u001b[1;33m     graph_function = self._create_graph_function(\n\u001b[0m\u001b[0;32m   3280\u001b[0m         args, kwargs, override_flat_arg_shapes=relaxed_arg_shapes)\n\u001b[0;32m   3281\u001b[0m     \u001b[0mself\u001b[0m\u001b[1;33m.\u001b[0m\u001b[0m_function_cache\u001b[0m\u001b[1;33m.\u001b[0m\u001b[0marg_relaxed\u001b[0m\u001b[1;33m[\u001b[0m\u001b[0mrank_only_cache_key\u001b[0m\u001b[1;33m]\u001b[0m \u001b[1;33m=\u001b[0m \u001b[0mgraph_function\u001b[0m\u001b[1;33m\u001b[0m\u001b[1;33m\u001b[0m\u001b[0m\n",
      "\u001b[1;32mc:\\python38\\lib\\site-packages\\tensorflow\\python\\eager\\function.py\u001b[0m in \u001b[0;36m_create_graph_function\u001b[1;34m(self, args, kwargs, override_flat_arg_shapes)\u001b[0m\n\u001b[0;32m   3194\u001b[0m     \u001b[0marg_names\u001b[0m \u001b[1;33m=\u001b[0m \u001b[0mbase_arg_names\u001b[0m \u001b[1;33m+\u001b[0m \u001b[0mmissing_arg_names\u001b[0m\u001b[1;33m\u001b[0m\u001b[1;33m\u001b[0m\u001b[0m\n\u001b[0;32m   3195\u001b[0m     graph_function = ConcreteFunction(\n\u001b[1;32m-> 3196\u001b[1;33m         func_graph_module.func_graph_from_py_func(\n\u001b[0m\u001b[0;32m   3197\u001b[0m             \u001b[0mself\u001b[0m\u001b[1;33m.\u001b[0m\u001b[0m_name\u001b[0m\u001b[1;33m,\u001b[0m\u001b[1;33m\u001b[0m\u001b[1;33m\u001b[0m\u001b[0m\n\u001b[0;32m   3198\u001b[0m             \u001b[0mself\u001b[0m\u001b[1;33m.\u001b[0m\u001b[0m_python_function\u001b[0m\u001b[1;33m,\u001b[0m\u001b[1;33m\u001b[0m\u001b[1;33m\u001b[0m\u001b[0m\n",
      "\u001b[1;32mc:\\python38\\lib\\site-packages\\tensorflow\\python\\framework\\func_graph.py\u001b[0m in \u001b[0;36mfunc_graph_from_py_func\u001b[1;34m(name, python_func, args, kwargs, signature, func_graph, autograph, autograph_options, add_control_dependencies, arg_names, op_return_value, collections, capture_by_value, override_flat_arg_shapes)\u001b[0m\n\u001b[0;32m    988\u001b[0m         \u001b[0m_\u001b[0m\u001b[1;33m,\u001b[0m \u001b[0moriginal_func\u001b[0m \u001b[1;33m=\u001b[0m \u001b[0mtf_decorator\u001b[0m\u001b[1;33m.\u001b[0m\u001b[0munwrap\u001b[0m\u001b[1;33m(\u001b[0m\u001b[0mpython_func\u001b[0m\u001b[1;33m)\u001b[0m\u001b[1;33m\u001b[0m\u001b[1;33m\u001b[0m\u001b[0m\n\u001b[0;32m    989\u001b[0m \u001b[1;33m\u001b[0m\u001b[0m\n\u001b[1;32m--> 990\u001b[1;33m       \u001b[0mfunc_outputs\u001b[0m \u001b[1;33m=\u001b[0m \u001b[0mpython_func\u001b[0m\u001b[1;33m(\u001b[0m\u001b[1;33m*\u001b[0m\u001b[0mfunc_args\u001b[0m\u001b[1;33m,\u001b[0m \u001b[1;33m**\u001b[0m\u001b[0mfunc_kwargs\u001b[0m\u001b[1;33m)\u001b[0m\u001b[1;33m\u001b[0m\u001b[1;33m\u001b[0m\u001b[0m\n\u001b[0m\u001b[0;32m    991\u001b[0m \u001b[1;33m\u001b[0m\u001b[0m\n\u001b[0;32m    992\u001b[0m       \u001b[1;31m# invariant: `func_outputs` contains only Tensors, CompositeTensors,\u001b[0m\u001b[1;33m\u001b[0m\u001b[1;33m\u001b[0m\u001b[1;33m\u001b[0m\u001b[0m\n",
      "\u001b[1;32mc:\\python38\\lib\\site-packages\\tensorflow\\python\\eager\\def_function.py\u001b[0m in \u001b[0;36mwrapped_fn\u001b[1;34m(*args, **kwds)\u001b[0m\n\u001b[0;32m    632\u001b[0m             \u001b[0mxla_context\u001b[0m\u001b[1;33m.\u001b[0m\u001b[0mExit\u001b[0m\u001b[1;33m(\u001b[0m\u001b[1;33m)\u001b[0m\u001b[1;33m\u001b[0m\u001b[1;33m\u001b[0m\u001b[0m\n\u001b[0;32m    633\u001b[0m         \u001b[1;32melse\u001b[0m\u001b[1;33m:\u001b[0m\u001b[1;33m\u001b[0m\u001b[1;33m\u001b[0m\u001b[0m\n\u001b[1;32m--> 634\u001b[1;33m           \u001b[0mout\u001b[0m \u001b[1;33m=\u001b[0m \u001b[0mweak_wrapped_fn\u001b[0m\u001b[1;33m(\u001b[0m\u001b[1;33m)\u001b[0m\u001b[1;33m.\u001b[0m\u001b[0m__wrapped__\u001b[0m\u001b[1;33m(\u001b[0m\u001b[1;33m*\u001b[0m\u001b[0margs\u001b[0m\u001b[1;33m,\u001b[0m \u001b[1;33m**\u001b[0m\u001b[0mkwds\u001b[0m\u001b[1;33m)\u001b[0m\u001b[1;33m\u001b[0m\u001b[1;33m\u001b[0m\u001b[0m\n\u001b[0m\u001b[0;32m    635\u001b[0m         \u001b[1;32mreturn\u001b[0m \u001b[0mout\u001b[0m\u001b[1;33m\u001b[0m\u001b[1;33m\u001b[0m\u001b[0m\n\u001b[0;32m    636\u001b[0m \u001b[1;33m\u001b[0m\u001b[0m\n",
      "\u001b[1;32mc:\\python38\\lib\\site-packages\\tensorflow\\python\\framework\\func_graph.py\u001b[0m in \u001b[0;36mwrapper\u001b[1;34m(*args, **kwargs)\u001b[0m\n\u001b[0;32m    975\u001b[0m           \u001b[1;32mexcept\u001b[0m \u001b[0mException\u001b[0m \u001b[1;32mas\u001b[0m \u001b[0me\u001b[0m\u001b[1;33m:\u001b[0m  \u001b[1;31m# pylint:disable=broad-except\u001b[0m\u001b[1;33m\u001b[0m\u001b[1;33m\u001b[0m\u001b[0m\n\u001b[0;32m    976\u001b[0m             \u001b[1;32mif\u001b[0m \u001b[0mhasattr\u001b[0m\u001b[1;33m(\u001b[0m\u001b[0me\u001b[0m\u001b[1;33m,\u001b[0m \u001b[1;34m\"ag_error_metadata\"\u001b[0m\u001b[1;33m)\u001b[0m\u001b[1;33m:\u001b[0m\u001b[1;33m\u001b[0m\u001b[1;33m\u001b[0m\u001b[0m\n\u001b[1;32m--> 977\u001b[1;33m               \u001b[1;32mraise\u001b[0m \u001b[0me\u001b[0m\u001b[1;33m.\u001b[0m\u001b[0mag_error_metadata\u001b[0m\u001b[1;33m.\u001b[0m\u001b[0mto_exception\u001b[0m\u001b[1;33m(\u001b[0m\u001b[0me\u001b[0m\u001b[1;33m)\u001b[0m\u001b[1;33m\u001b[0m\u001b[1;33m\u001b[0m\u001b[0m\n\u001b[0m\u001b[0;32m    978\u001b[0m             \u001b[1;32melse\u001b[0m\u001b[1;33m:\u001b[0m\u001b[1;33m\u001b[0m\u001b[1;33m\u001b[0m\u001b[0m\n\u001b[0;32m    979\u001b[0m               \u001b[1;32mraise\u001b[0m\u001b[1;33m\u001b[0m\u001b[1;33m\u001b[0m\u001b[0m\n",
      "\u001b[1;31mValueError\u001b[0m: in user code:\n\n    c:\\python38\\lib\\site-packages\\tensorflow\\python\\keras\\engine\\training.py:1478 predict_function  *\n        return step_function(self, iterator)\n    c:\\python38\\lib\\site-packages\\tensorflow\\python\\keras\\engine\\training.py:1468 step_function  **\n        outputs = model.distribute_strategy.run(run_step, args=(data,))\n    c:\\python38\\lib\\site-packages\\tensorflow\\python\\distribute\\distribute_lib.py:1259 run\n        return self._extended.call_for_each_replica(fn, args=args, kwargs=kwargs)\n    c:\\python38\\lib\\site-packages\\tensorflow\\python\\distribute\\distribute_lib.py:2730 call_for_each_replica\n        return self._call_for_each_replica(fn, args, kwargs)\n    c:\\python38\\lib\\site-packages\\tensorflow\\python\\distribute\\distribute_lib.py:3417 _call_for_each_replica\n        return fn(*args, **kwargs)\n    c:\\python38\\lib\\site-packages\\tensorflow\\python\\keras\\engine\\training.py:1461 run_step  **\n        outputs = model.predict_step(data)\n    c:\\python38\\lib\\site-packages\\tensorflow\\python\\keras\\engine\\training.py:1434 predict_step\n        return self(x, training=False)\n    c:\\python38\\lib\\site-packages\\tensorflow\\python\\keras\\engine\\base_layer.py:998 __call__\n        input_spec.assert_input_compatibility(self.input_spec, inputs, self.name)\n    c:\\python38\\lib\\site-packages\\tensorflow\\python\\keras\\engine\\input_spec.py:255 assert_input_compatibility\n        raise ValueError(\n\n    ValueError: Input 0 of layer sequential_7 is incompatible with the layer: expected axis -1 of input shape to have value 4 but received input with shape (None, 1)\n"
     ]
    }
   ],
   "source": [
    "predictions = iris_model.predict([6,2,1.8,2])"
   ]
  },
  {
   "cell_type": "code",
   "execution_count": null,
   "metadata": {},
   "outputs": [],
   "source": []
  }
 ],
 "metadata": {
  "kernelspec": {
   "display_name": "Python 3",
   "language": "python",
   "name": "python3"
  },
  "language_info": {
   "codemirror_mode": {
    "name": "ipython",
    "version": 3
   },
   "file_extension": ".py",
   "mimetype": "text/x-python",
   "name": "python",
   "nbconvert_exporter": "python",
   "pygments_lexer": "ipython3",
   "version": "3.9.0-final"
  }
 },
 "nbformat": 4,
 "nbformat_minor": 1
}