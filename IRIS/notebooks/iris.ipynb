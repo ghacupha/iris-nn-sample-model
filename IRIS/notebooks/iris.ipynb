{
 "cells": [
  {
   "cell_type": "code",
   "execution_count": 138,
   "metadata": {
    "pycharm": {
     "is_executing": false
    }
   },
   "outputs": [],
   "source": [
    "import pandas as pd\n",
    "import numpy as np\n",
    "from keras.utils import np_utils"
   ]
  },
  {
   "cell_type": "code",
   "execution_count": 139,
   "metadata": {
    "scrolled": true
   },
   "outputs": [
    {
     "output_type": "execute_result",
     "data": {
      "text/plain": [
       "   sepal_length  sepal_width  petal_length  petal_width species\n",
       "0           5.1          3.5           1.4          0.2  setosa\n",
       "1           4.9          3.0           1.4          0.2  setosa\n",
       "2           4.7          3.2           1.3          0.2  setosa\n",
       "3           4.6          3.1           1.5          0.2  setosa\n",
       "4           5.0          3.6           1.4          0.2  setosa"
      ],
      "text/html": "<div>\n<style scoped>\n    .dataframe tbody tr th:only-of-type {\n        vertical-align: middle;\n    }\n\n    .dataframe tbody tr th {\n        vertical-align: top;\n    }\n\n    .dataframe thead th {\n        text-align: right;\n    }\n</style>\n<table border=\"1\" class=\"dataframe\">\n  <thead>\n    <tr style=\"text-align: right;\">\n      <th></th>\n      <th>sepal_length</th>\n      <th>sepal_width</th>\n      <th>petal_length</th>\n      <th>petal_width</th>\n      <th>species</th>\n    </tr>\n  </thead>\n  <tbody>\n    <tr>\n      <th>0</th>\n      <td>5.1</td>\n      <td>3.5</td>\n      <td>1.4</td>\n      <td>0.2</td>\n      <td>setosa</td>\n    </tr>\n    <tr>\n      <th>1</th>\n      <td>4.9</td>\n      <td>3.0</td>\n      <td>1.4</td>\n      <td>0.2</td>\n      <td>setosa</td>\n    </tr>\n    <tr>\n      <th>2</th>\n      <td>4.7</td>\n      <td>3.2</td>\n      <td>1.3</td>\n      <td>0.2</td>\n      <td>setosa</td>\n    </tr>\n    <tr>\n      <th>3</th>\n      <td>4.6</td>\n      <td>3.1</td>\n      <td>1.5</td>\n      <td>0.2</td>\n      <td>setosa</td>\n    </tr>\n    <tr>\n      <th>4</th>\n      <td>5.0</td>\n      <td>3.6</td>\n      <td>1.4</td>\n      <td>0.2</td>\n      <td>setosa</td>\n    </tr>\n  </tbody>\n</table>\n</div>"
     },
     "metadata": {},
     "execution_count": 139
    }
   ],
   "source": [
    "df = pd.read_csv(\"iris.csv\")\n",
    "df.head()"
   ]
  },
  {
   "cell_type": "code",
   "execution_count": 140,
   "metadata": {},
   "outputs": [
    {
     "output_type": "execute_result",
     "data": {
      "text/plain": [
       "       sepal_length  sepal_width  petal_length  petal_width\n",
       "count    150.000000   150.000000    150.000000   150.000000\n",
       "mean       5.843333     3.054000      3.758667     1.198667\n",
       "std        0.828066     0.433594      1.764420     0.763161\n",
       "min        4.300000     2.000000      1.000000     0.100000\n",
       "25%        5.100000     2.800000      1.600000     0.300000\n",
       "50%        5.800000     3.000000      4.350000     1.300000\n",
       "75%        6.400000     3.300000      5.100000     1.800000\n",
       "max        7.900000     4.400000      6.900000     2.500000"
      ],
      "text/html": "<div>\n<style scoped>\n    .dataframe tbody tr th:only-of-type {\n        vertical-align: middle;\n    }\n\n    .dataframe tbody tr th {\n        vertical-align: top;\n    }\n\n    .dataframe thead th {\n        text-align: right;\n    }\n</style>\n<table border=\"1\" class=\"dataframe\">\n  <thead>\n    <tr style=\"text-align: right;\">\n      <th></th>\n      <th>sepal_length</th>\n      <th>sepal_width</th>\n      <th>petal_length</th>\n      <th>petal_width</th>\n    </tr>\n  </thead>\n  <tbody>\n    <tr>\n      <th>count</th>\n      <td>150.000000</td>\n      <td>150.000000</td>\n      <td>150.000000</td>\n      <td>150.000000</td>\n    </tr>\n    <tr>\n      <th>mean</th>\n      <td>5.843333</td>\n      <td>3.054000</td>\n      <td>3.758667</td>\n      <td>1.198667</td>\n    </tr>\n    <tr>\n      <th>std</th>\n      <td>0.828066</td>\n      <td>0.433594</td>\n      <td>1.764420</td>\n      <td>0.763161</td>\n    </tr>\n    <tr>\n      <th>min</th>\n      <td>4.300000</td>\n      <td>2.000000</td>\n      <td>1.000000</td>\n      <td>0.100000</td>\n    </tr>\n    <tr>\n      <th>25%</th>\n      <td>5.100000</td>\n      <td>2.800000</td>\n      <td>1.600000</td>\n      <td>0.300000</td>\n    </tr>\n    <tr>\n      <th>50%</th>\n      <td>5.800000</td>\n      <td>3.000000</td>\n      <td>4.350000</td>\n      <td>1.300000</td>\n    </tr>\n    <tr>\n      <th>75%</th>\n      <td>6.400000</td>\n      <td>3.300000</td>\n      <td>5.100000</td>\n      <td>1.800000</td>\n    </tr>\n    <tr>\n      <th>max</th>\n      <td>7.900000</td>\n      <td>4.400000</td>\n      <td>6.900000</td>\n      <td>2.500000</td>\n    </tr>\n  </tbody>\n</table>\n</div>"
     },
     "metadata": {},
     "execution_count": 140
    }
   ],
   "source": [
    "df.describe()"
   ]
  },
  {
   "cell_type": "code",
   "execution_count": 141,
   "metadata": {},
   "outputs": [
    {
     "output_type": "stream",
     "name": "stdout",
     "text": [
      "   sepal_length  sepal_width  petal_length  petal_width\n0           5.1          3.5           1.4          0.2\n1           4.9          3.0           1.4          0.2\n2           4.7          3.2           1.3          0.2\n3           4.6          3.1           1.5          0.2\n4           5.0          3.6           1.4          0.2\n"
     ]
    }
   ],
   "source": [
    "features = list(df.columns[:4])\n",
    "\n",
    "x = df[features]\n",
    "print(x.head())\n",
    "\n",
    "x = np.array(x)\n",
    "\n",
    "\n",
    "y = list(df['species'])\n",
    "\n",
    "y = np.array(y)"
   ]
  },
  {
   "source": [
    "### Label encoding\n",
    "\n",
    "The labels vector contains labels for the flowers in a single dimension. Using the LabelEncoder we convert that to 3 dimensions each  with 1 or 0 according to whether or not they fall into any of the 3 types"
   ],
   "cell_type": "markdown",
   "metadata": {}
  },
  {
   "cell_type": "code",
   "execution_count": 142,
   "metadata": {},
   "outputs": [
    {
     "output_type": "stream",
     "name": "stdout",
     "text": [
      "[[1 0 0]\n [1 0 0]\n [1 0 0]\n [1 0 0]\n [1 0 0]]\n"
     ]
    }
   ],
   "source": [
    "from sklearn.preprocessing import LabelEncoder\n",
    "\n",
    "encoder = LabelEncoder()\n",
    "y1 = encoder.fit_transform(y)\n",
    "y = pd.get_dummies(y1).values\n",
    "\n",
    "# Alternative for checking the head in ndarray\n",
    "print(y[:5])"
   ]
  },
  {
   "source": [
    "### Train/Test Split\n",
    "\n",
    "We us the train_test_split function in the model_selction module to split the data as follows:\n",
    "\n",
    " - 30% test data\n",
    " - 70% training data"
   ],
   "cell_type": "markdown",
   "metadata": {}
  },
  {
   "cell_type": "code",
   "execution_count": 143,
   "metadata": {},
   "outputs": [],
   "source": [
    "from sklearn.model_selection import train_test_split\n",
    "\n",
    "x_train, x_test, y_train, y_test = train_test_split(x,y, test_size=0.30, random_state=0)"
   ]
  },
  {
   "source": [
    "### Neural Network Architecture\n",
    "\n",
    "Below we are going to define using keras a neural network model with the following layers\n",
    "\n",
    " - Layer 1: Input layer with 4 units (feature matrix has 4 dimensions) RELU activation\n",
    " - Layer 2: Inner layer with 5 units RELU activation\n",
    " - Layer 3: Output layer with 3 units SOFTMAX activation\n",
    "\n",
    "This is Sequential model is created incrementally via the add() method. "
   ],
   "cell_type": "markdown",
   "metadata": {}
  },
  {
   "cell_type": "code",
   "execution_count": 144,
   "metadata": {
    "tags": [
     "outputPrepend"
    ]
   },
   "outputs": [
    {
     "output_type": "stream",
     "name": "stdout",
     "text": [
      "curacy: 0.4168\n",
      "Epoch 6/200\n",
      "21/21 [==============================] - 0s 652us/step - loss: 1.0203 - accuracy: 0.3537\n",
      "Epoch 7/200\n",
      "21/21 [==============================] - 0s 650us/step - loss: 1.0185 - accuracy: 0.3266\n",
      "Epoch 8/200\n",
      "21/21 [==============================] - 0s 649us/step - loss: 0.9893 - accuracy: 0.3954\n",
      "Epoch 9/200\n",
      "21/21 [==============================] - 0s 601us/step - loss: 0.9772 - accuracy: 0.4534\n",
      "Epoch 10/200\n",
      "21/21 [==============================] - 0s 700us/step - loss: 0.9549 - accuracy: 0.5903\n",
      "Epoch 11/200\n",
      "21/21 [==============================] - 0s 600us/step - loss: 0.8790 - accuracy: 0.7065\n",
      "Epoch 12/200\n",
      "21/21 [==============================] - 0s 650us/step - loss: 0.9440 - accuracy: 0.6521\n",
      "Epoch 13/200\n",
      "21/21 [==============================] - 0s 650us/step - loss: 0.9107 - accuracy: 0.7355\n",
      "Epoch 14/200\n",
      "21/21 [==============================] - 0s 700us/step - loss: 0.8805 - accuracy: 0.6377\n",
      "Epoch 15/200\n",
      "21/21 [==============================] - 0s 600us/step - loss: 0.8816 - accuracy: 0.6568\n",
      "Epoch 16/200\n",
      "21/21 [==============================] - 0s 600us/step - loss: 0.8238 - accuracy: 0.7294\n",
      "Epoch 17/200\n",
      "21/21 [==============================] - 0s 600us/step - loss: 0.8050 - accuracy: 0.7396\n",
      "Epoch 18/200\n",
      "21/21 [==============================] - 0s 600us/step - loss: 0.8145 - accuracy: 0.7053\n",
      "Epoch 19/200\n",
      "21/21 [==============================] - 0s 650us/step - loss: 0.7951 - accuracy: 0.7076\n",
      "Epoch 20/200\n",
      "21/21 [==============================] - 0s 600us/step - loss: 0.7685 - accuracy: 0.6990\n",
      "Epoch 21/200\n",
      "21/21 [==============================] - 0s 650us/step - loss: 0.7560 - accuracy: 0.7317\n",
      "Epoch 22/200\n",
      "21/21 [==============================] - 0s 601us/step - loss: 0.7604 - accuracy: 0.6983\n",
      "Epoch 23/200\n",
      "21/21 [==============================] - 0s 650us/step - loss: 0.7598 - accuracy: 0.7137\n",
      "Epoch 24/200\n",
      "21/21 [==============================] - 0s 598us/step - loss: 0.7766 - accuracy: 0.6526\n",
      "Epoch 25/200\n",
      "21/21 [==============================] - 0s 599us/step - loss: 0.7497 - accuracy: 0.6721\n",
      "Epoch 26/200\n",
      "21/21 [==============================] - 0s 600us/step - loss: 0.7108 - accuracy: 0.6815\n",
      "Epoch 27/200\n",
      "21/21 [==============================] - 0s 700us/step - loss: 0.6897 - accuracy: 0.6843\n",
      "Epoch 28/200\n",
      "21/21 [==============================] - 0s 650us/step - loss: 0.6952 - accuracy: 0.6902\n",
      "Epoch 29/200\n",
      "21/21 [==============================] - 0s 650us/step - loss: 0.6871 - accuracy: 0.6880\n",
      "Epoch 30/200\n",
      "21/21 [==============================] - 0s 600us/step - loss: 0.6876 - accuracy: 0.6972\n",
      "Epoch 31/200\n",
      "21/21 [==============================] - 0s 650us/step - loss: 0.6304 - accuracy: 0.7867\n",
      "Epoch 32/200\n",
      "21/21 [==============================] - 0s 650us/step - loss: 0.6125 - accuracy: 0.7868\n",
      "Epoch 33/200\n",
      "21/21 [==============================] - 0s 600us/step - loss: 0.6219 - accuracy: 0.7425\n",
      "Epoch 34/200\n",
      "21/21 [==============================] - 0s 550us/step - loss: 0.5657 - accuracy: 0.8405\n",
      "Epoch 35/200\n",
      "21/21 [==============================] - 0s 650us/step - loss: 0.6002 - accuracy: 0.8517\n",
      "Epoch 36/200\n",
      "21/21 [==============================] - 0s 600us/step - loss: 0.6502 - accuracy: 0.7695\n",
      "Epoch 37/200\n",
      "21/21 [==============================] - 0s 750us/step - loss: 0.6336 - accuracy: 0.7603\n",
      "Epoch 38/200\n",
      "21/21 [==============================] - 0s 750us/step - loss: 0.6629 - accuracy: 0.7571\n",
      "Epoch 39/200\n",
      "21/21 [==============================] - 0s 600us/step - loss: 0.5940 - accuracy: 0.8058\n",
      "Epoch 40/200\n",
      "21/21 [==============================] - 0s 600us/step - loss: 0.6464 - accuracy: 0.7597\n",
      "Epoch 41/200\n",
      "21/21 [==============================] - 0s 600us/step - loss: 0.6095 - accuracy: 0.8332\n",
      "Epoch 42/200\n",
      "21/21 [==============================] - 0s 600us/step - loss: 0.6406 - accuracy: 0.8001\n",
      "Epoch 43/200\n",
      "21/21 [==============================] - 0s 650us/step - loss: 0.6197 - accuracy: 0.8212\n",
      "Epoch 44/200\n",
      "21/21 [==============================] - 0s 600us/step - loss: 0.5606 - accuracy: 0.8691\n",
      "Epoch 45/200\n",
      "21/21 [==============================] - 0s 600us/step - loss: 0.6282 - accuracy: 0.8401\n",
      "Epoch 46/200\n",
      "21/21 [==============================] - 0s 652us/step - loss: 0.5295 - accuracy: 0.9262\n",
      "Epoch 47/200\n",
      "21/21 [==============================] - 0s 650us/step - loss: 0.6283 - accuracy: 0.8438\n",
      "Epoch 48/200\n",
      "21/21 [==============================] - 0s 650us/step - loss: 0.5359 - accuracy: 0.9083\n",
      "Epoch 49/200\n",
      "21/21 [==============================] - 0s 651us/step - loss: 0.6297 - accuracy: 0.8484\n",
      "Epoch 50/200\n",
      "21/21 [==============================] - 0s 650us/step - loss: 0.5043 - accuracy: 0.9428\n",
      "Epoch 51/200\n",
      "21/21 [==============================] - 0s 650us/step - loss: 0.5349 - accuracy: 0.9288\n",
      "Epoch 52/200\n",
      "21/21 [==============================] - 0s 700us/step - loss: 0.5410 - accuracy: 0.9220\n",
      "Epoch 53/200\n",
      "21/21 [==============================] - 0s 650us/step - loss: 0.5284 - accuracy: 0.9410\n",
      "Epoch 54/200\n",
      "21/21 [==============================] - 0s 650us/step - loss: 0.4756 - accuracy: 0.9428\n",
      "Epoch 55/200\n",
      "21/21 [==============================] - 0s 600us/step - loss: 0.5705 - accuracy: 0.9587\n",
      "Epoch 56/200\n",
      "21/21 [==============================] - 0s 600us/step - loss: 0.5266 - accuracy: 0.9361\n",
      "Epoch 57/200\n",
      "21/21 [==============================] - 0s 650us/step - loss: 0.4848 - accuracy: 0.9345\n",
      "Epoch 58/200\n",
      "21/21 [==============================] - 0s 600us/step - loss: 0.5534 - accuracy: 0.9371\n",
      "Epoch 59/200\n",
      "21/21 [==============================] - 0s 650us/step - loss: 0.5247 - accuracy: 0.9765\n",
      "Epoch 60/200\n",
      "21/21 [==============================] - 0s 600us/step - loss: 0.4828 - accuracy: 0.9373\n",
      "Epoch 61/200\n",
      "21/21 [==============================] - 0s 548us/step - loss: 0.4453 - accuracy: 0.9533\n",
      "Epoch 62/200\n",
      "21/21 [==============================] - 0s 549us/step - loss: 0.4621 - accuracy: 0.9348\n",
      "Epoch 63/200\n",
      "21/21 [==============================] - 0s 601us/step - loss: 0.4861 - accuracy: 0.9360\n",
      "Epoch 64/200\n",
      "21/21 [==============================] - 0s 648us/step - loss: 0.4461 - accuracy: 0.9409\n",
      "Epoch 65/200\n",
      "21/21 [==============================] - 0s 600us/step - loss: 0.4374 - accuracy: 0.9643\n",
      "Epoch 66/200\n",
      "21/21 [==============================] - 0s 651us/step - loss: 0.4364 - accuracy: 0.9578\n",
      "Epoch 67/200\n",
      "21/21 [==============================] - 0s 648us/step - loss: 0.3870 - accuracy: 0.9696\n",
      "Epoch 68/200\n",
      "21/21 [==============================] - 0s 600us/step - loss: 0.3444 - accuracy: 0.9649\n",
      "Epoch 69/200\n",
      "21/21 [==============================] - 0s 650us/step - loss: 0.3748 - accuracy: 0.9592\n",
      "Epoch 70/200\n",
      "21/21 [==============================] - 0s 600us/step - loss: 0.3847 - accuracy: 0.9320\n",
      "Epoch 71/200\n",
      "21/21 [==============================] - 0s 550us/step - loss: 0.3530 - accuracy: 0.9531\n",
      "Epoch 72/200\n",
      "21/21 [==============================] - 0s 650us/step - loss: 0.4038 - accuracy: 0.9111\n",
      "Epoch 73/200\n",
      "21/21 [==============================] - 0s 600us/step - loss: 0.3433 - accuracy: 0.9132\n",
      "Epoch 74/200\n",
      "21/21 [==============================] - 0s 600us/step - loss: 0.3558 - accuracy: 0.9377\n",
      "Epoch 75/200\n",
      "21/21 [==============================] - 0s 600us/step - loss: 0.3896 - accuracy: 0.9024\n",
      "Epoch 76/200\n",
      "21/21 [==============================] - 0s 600us/step - loss: 0.3220 - accuracy: 0.9620\n",
      "Epoch 77/200\n",
      "21/21 [==============================] - 0s 600us/step - loss: 0.3124 - accuracy: 0.9430\n",
      "Epoch 78/200\n",
      "21/21 [==============================] - 0s 599us/step - loss: 0.2908 - accuracy: 0.9783\n",
      "Epoch 79/200\n",
      "21/21 [==============================] - 0s 600us/step - loss: 0.3592 - accuracy: 0.9096\n",
      "Epoch 80/200\n",
      "21/21 [==============================] - 0s 600us/step - loss: 0.3216 - accuracy: 0.9410\n",
      "Epoch 81/200\n",
      "21/21 [==============================] - 0s 650us/step - loss: 0.2871 - accuracy: 0.9257\n",
      "Epoch 82/200\n",
      "21/21 [==============================] - 0s 601us/step - loss: 0.2995 - accuracy: 0.9447\n",
      "Epoch 83/200\n",
      "21/21 [==============================] - 0s 650us/step - loss: 0.2723 - accuracy: 0.9739\n",
      "Epoch 84/200\n",
      "21/21 [==============================] - 0s 601us/step - loss: 0.2771 - accuracy: 0.9478\n",
      "Epoch 85/200\n",
      "21/21 [==============================] - 0s 600us/step - loss: 0.2747 - accuracy: 0.9509\n",
      "Epoch 86/200\n",
      "21/21 [==============================] - 0s 650us/step - loss: 0.2616 - accuracy: 0.9432\n",
      "Epoch 87/200\n",
      "21/21 [==============================] - 0s 650us/step - loss: 0.2648 - accuracy: 0.9444\n",
      "Epoch 88/200\n",
      "21/21 [==============================] - 0s 600us/step - loss: 0.2694 - accuracy: 0.9200\n",
      "Epoch 89/200\n",
      "21/21 [==============================] - 0s 650us/step - loss: 0.2553 - accuracy: 0.9539\n",
      "Epoch 90/200\n",
      "21/21 [==============================] - 0s 600us/step - loss: 0.2139 - accuracy: 0.9736\n",
      "Epoch 91/200\n",
      "21/21 [==============================] - 0s 750us/step - loss: 0.2690 - accuracy: 0.9409\n",
      "Epoch 92/200\n",
      "21/21 [==============================] - 0s 751us/step - loss: 0.2362 - accuracy: 0.9213\n",
      "Epoch 93/200\n",
      "21/21 [==============================] - 0s 700us/step - loss: 0.2530 - accuracy: 0.9450\n",
      "Epoch 94/200\n",
      "21/21 [==============================] - 0s 1ms/step - loss: 0.2597 - accuracy: 0.8980\n",
      "Epoch 95/200\n",
      "21/21 [==============================] - 0s 550us/step - loss: 0.2388 - accuracy: 0.9247\n",
      "Epoch 96/200\n",
      "21/21 [==============================] - 0s 600us/step - loss: 0.1826 - accuracy: 0.9697\n",
      "Epoch 97/200\n",
      "21/21 [==============================] - 0s 650us/step - loss: 0.2311 - accuracy: 0.9467\n",
      "Epoch 98/200\n",
      "21/21 [==============================] - 0s 550us/step - loss: 0.1880 - accuracy: 0.9763\n",
      "Epoch 99/200\n",
      "21/21 [==============================] - 0s 600us/step - loss: 0.2343 - accuracy: 0.9258\n",
      "Epoch 100/200\n",
      "21/21 [==============================] - 0s 850us/step - loss: 0.1916 - accuracy: 0.9623\n",
      "Epoch 101/200\n",
      "21/21 [==============================] - 0s 750us/step - loss: 0.1891 - accuracy: 0.9771\n",
      "Epoch 102/200\n",
      "21/21 [==============================] - 0s 650us/step - loss: 0.2448 - accuracy: 0.9318\n",
      "Epoch 103/200\n",
      "21/21 [==============================] - 0s 550us/step - loss: 0.1652 - accuracy: 0.9640\n",
      "Epoch 104/200\n",
      "21/21 [==============================] - 0s 550us/step - loss: 0.2465 - accuracy: 0.9078\n",
      "Epoch 105/200\n",
      "21/21 [==============================] - 0s 600us/step - loss: 0.1793 - accuracy: 0.9705\n",
      "Epoch 106/200\n",
      "21/21 [==============================] - 0s 550us/step - loss: 0.1831 - accuracy: 0.9627\n",
      "Epoch 107/200\n",
      "21/21 [==============================] - 0s 550us/step - loss: 0.1980 - accuracy: 0.9565\n",
      "Epoch 108/200\n",
      "21/21 [==============================] - 0s 600us/step - loss: 0.1720 - accuracy: 0.9633\n",
      "Epoch 109/200\n",
      "21/21 [==============================] - 0s 650us/step - loss: 0.1681 - accuracy: 0.9655\n",
      "Epoch 110/200\n",
      "21/21 [==============================] - 0s 600us/step - loss: 0.2138 - accuracy: 0.9450\n",
      "Epoch 111/200\n",
      "21/21 [==============================] - 0s 600us/step - loss: 0.1499 - accuracy: 0.9690\n",
      "Epoch 112/200\n",
      "21/21 [==============================] - 0s 600us/step - loss: 0.1470 - accuracy: 0.9806\n",
      "Epoch 113/200\n",
      "21/21 [==============================] - 0s 600us/step - loss: 0.1627 - accuracy: 0.9597\n",
      "Epoch 114/200\n",
      "21/21 [==============================] - 0s 550us/step - loss: 0.1763 - accuracy: 0.9630\n",
      "Epoch 115/200\n",
      "21/21 [==============================] - 0s 601us/step - loss: 0.1581 - accuracy: 0.9715\n",
      "Epoch 116/200\n",
      "21/21 [==============================] - 0s 750us/step - loss: 0.1683 - accuracy: 0.9578\n",
      "Epoch 117/200\n",
      "21/21 [==============================] - 0s 650us/step - loss: 0.1509 - accuracy: 0.9691\n",
      "Epoch 118/200\n",
      "21/21 [==============================] - 0s 550us/step - loss: 0.1605 - accuracy: 0.9672\n",
      "Epoch 119/200\n",
      "21/21 [==============================] - 0s 601us/step - loss: 0.1989 - accuracy: 0.9208\n",
      "Epoch 120/200\n",
      "21/21 [==============================] - 0s 650us/step - loss: 0.1569 - accuracy: 0.9559\n",
      "Epoch 121/200\n",
      "21/21 [==============================] - 0s 649us/step - loss: 0.1282 - accuracy: 0.9852\n",
      "Epoch 122/200\n",
      "21/21 [==============================] - 0s 650us/step - loss: 0.1422 - accuracy: 0.9762\n",
      "Epoch 123/200\n",
      "21/21 [==============================] - 0s 549us/step - loss: 0.1335 - accuracy: 0.9960\n",
      "Epoch 124/200\n",
      "21/21 [==============================] - 0s 600us/step - loss: 0.1378 - accuracy: 0.9630\n",
      "Epoch 125/200\n",
      "21/21 [==============================] - 0s 550us/step - loss: 0.1841 - accuracy: 0.9255\n",
      "Epoch 126/200\n",
      "21/21 [==============================] - 0s 600us/step - loss: 0.1663 - accuracy: 0.9570\n",
      "Epoch 127/200\n",
      "21/21 [==============================] - 0s 650us/step - loss: 0.1455 - accuracy: 0.9445\n",
      "Epoch 128/200\n",
      "21/21 [==============================] - 0s 600us/step - loss: 0.1787 - accuracy: 0.9278\n",
      "Epoch 129/200\n",
      "21/21 [==============================] - 0s 700us/step - loss: 0.1501 - accuracy: 0.9734\n",
      "Epoch 130/200\n",
      "21/21 [==============================] - 0s 600us/step - loss: 0.1242 - accuracy: 0.9781\n",
      "Epoch 131/200\n",
      "21/21 [==============================] - 0s 649us/step - loss: 0.1154 - accuracy: 0.9723\n",
      "Epoch 132/200\n",
      "21/21 [==============================] - 0s 550us/step - loss: 0.1609 - accuracy: 0.9395\n",
      "Epoch 133/200\n",
      "21/21 [==============================] - 0s 599us/step - loss: 0.1427 - accuracy: 0.9808\n",
      "Epoch 134/200\n",
      "21/21 [==============================] - 0s 600us/step - loss: 0.1975 - accuracy: 0.9212\n",
      "Epoch 135/200\n",
      "21/21 [==============================] - 0s 600us/step - loss: 0.1941 - accuracy: 0.9259\n",
      "Epoch 136/200\n",
      "21/21 [==============================] - 0s 650us/step - loss: 0.1159 - accuracy: 0.9782\n",
      "Epoch 137/200\n",
      "21/21 [==============================] - 0s 600us/step - loss: 0.1634 - accuracy: 0.9518\n",
      "Epoch 138/200\n",
      "21/21 [==============================] - 0s 650us/step - loss: 0.1131 - accuracy: 0.9771\n",
      "Epoch 139/200\n",
      "21/21 [==============================] - 0s 650us/step - loss: 0.1860 - accuracy: 0.9467\n",
      "Epoch 140/200\n",
      "21/21 [==============================] - 0s 650us/step - loss: 0.1122 - accuracy: 0.9897\n",
      "Epoch 141/200\n",
      "21/21 [==============================] - 0s 601us/step - loss: 0.1398 - accuracy: 0.9664\n",
      "Epoch 142/200\n",
      "21/21 [==============================] - 0s 700us/step - loss: 0.1089 - accuracy: 0.9896\n",
      "Epoch 143/200\n",
      "21/21 [==============================] - 0s 650us/step - loss: 0.1595 - accuracy: 0.9501\n",
      "Epoch 144/200\n",
      "21/21 [==============================] - 0s 601us/step - loss: 0.1549 - accuracy: 0.9442\n",
      "Epoch 145/200\n",
      "21/21 [==============================] - 0s 550us/step - loss: 0.1262 - accuracy: 0.9791\n",
      "Epoch 146/200\n",
      "21/21 [==============================] - 0s 652us/step - loss: 0.1631 - accuracy: 0.9445\n",
      "Epoch 147/200\n",
      "21/21 [==============================] - 0s 600us/step - loss: 0.1497 - accuracy: 0.9429\n",
      "Epoch 148/200\n",
      "21/21 [==============================] - 0s 650us/step - loss: 0.1407 - accuracy: 0.9573\n",
      "Epoch 149/200\n",
      "21/21 [==============================] - 0s 650us/step - loss: 0.1325 - accuracy: 0.9607\n",
      "Epoch 150/200\n",
      "21/21 [==============================] - 0s 650us/step - loss: 0.1027 - accuracy: 0.9901\n",
      "Epoch 151/200\n",
      "21/21 [==============================] - 0s 650us/step - loss: 0.0906 - accuracy: 0.9828\n",
      "Epoch 152/200\n",
      "21/21 [==============================] - 0s 600us/step - loss: 0.1677 - accuracy: 0.9431\n",
      "Epoch 153/200\n",
      "21/21 [==============================] - 0s 600us/step - loss: 0.1298 - accuracy: 0.9629\n",
      "Epoch 154/200\n",
      "21/21 [==============================] - 0s 649us/step - loss: 0.1033 - accuracy: 0.9720\n",
      "Epoch 155/200\n",
      "21/21 [==============================] - 0s 998us/step - loss: 0.1255 - accuracy: 0.9409\n",
      "Epoch 156/200\n",
      "21/21 [==============================] - 0s 650us/step - loss: 0.1303 - accuracy: 0.9573\n",
      "Epoch 157/200\n",
      "21/21 [==============================] - 0s 600us/step - loss: 0.0919 - accuracy: 0.9831\n",
      "Epoch 158/200\n",
      "21/21 [==============================] - 0s 650us/step - loss: 0.0830 - accuracy: 0.9908\n",
      "Epoch 159/200\n",
      "21/21 [==============================] - 0s 600us/step - loss: 0.0994 - accuracy: 0.9850\n",
      "Epoch 160/200\n",
      "21/21 [==============================] - 0s 550us/step - loss: 0.1063 - accuracy: 0.9741\n",
      "Epoch 161/200\n",
      "21/21 [==============================] - 0s 600us/step - loss: 0.0919 - accuracy: 0.9877\n",
      "Epoch 162/200\n",
      "21/21 [==============================] - 0s 600us/step - loss: 0.1669 - accuracy: 0.9482\n",
      "Epoch 163/200\n",
      "21/21 [==============================] - 0s 652us/step - loss: 0.0943 - accuracy: 0.9875\n",
      "Epoch 164/200\n",
      "21/21 [==============================] - 0s 650us/step - loss: 0.0994 - accuracy: 0.9761\n",
      "Epoch 165/200\n",
      "21/21 [==============================] - 0s 600us/step - loss: 0.1032 - accuracy: 0.9723\n",
      "Epoch 166/200\n",
      "21/21 [==============================] - 0s 649us/step - loss: 0.1090 - accuracy: 0.9745\n",
      "Epoch 167/200\n",
      "21/21 [==============================] - 0s 599us/step - loss: 0.0849 - accuracy: 0.9827\n",
      "Epoch 168/200\n",
      "21/21 [==============================] - 0s 651us/step - loss: 0.0839 - accuracy: 0.9894\n",
      "Epoch 169/200\n",
      "21/21 [==============================] - 0s 599us/step - loss: 0.0914 - accuracy: 0.9822\n",
      "Epoch 170/200\n",
      "21/21 [==============================] - 0s 600us/step - loss: 0.1086 - accuracy: 0.9822\n",
      "Epoch 171/200\n",
      "21/21 [==============================] - 0s 550us/step - loss: 0.1014 - accuracy: 0.9754\n",
      "Epoch 172/200\n",
      "21/21 [==============================] - 0s 601us/step - loss: 0.0843 - accuracy: 0.9842\n",
      "Epoch 173/200\n",
      "21/21 [==============================] - 0s 600us/step - loss: 0.1004 - accuracy: 0.9779\n",
      "Epoch 174/200\n",
      "21/21 [==============================] - 0s 600us/step - loss: 0.0721 - accuracy: 0.9926\n",
      "Epoch 175/200\n",
      "21/21 [==============================] - 0s 600us/step - loss: 0.0906 - accuracy: 0.9802\n",
      "Epoch 176/200\n",
      "21/21 [==============================] - 0s 600us/step - loss: 0.0935 - accuracy: 0.9792\n",
      "Epoch 177/200\n",
      "21/21 [==============================] - 0s 550us/step - loss: 0.1066 - accuracy: 0.9818\n",
      "Epoch 178/200\n",
      "21/21 [==============================] - 0s 600us/step - loss: 0.1092 - accuracy: 0.9931\n",
      "Epoch 179/200\n",
      "21/21 [==============================] - 0s 550us/step - loss: 0.0939 - accuracy: 0.9774\n",
      "Epoch 180/200\n",
      "21/21 [==============================] - 0s 600us/step - loss: 0.1041 - accuracy: 0.9747\n",
      "Epoch 181/200\n",
      "21/21 [==============================] - 0s 602us/step - loss: 0.1024 - accuracy: 0.9688\n",
      "Epoch 182/200\n",
      "21/21 [==============================] - 0s 600us/step - loss: 0.1208 - accuracy: 0.9742\n",
      "Epoch 183/200\n",
      "21/21 [==============================] - 0s 600us/step - loss: 0.0955 - accuracy: 0.9836\n",
      "Epoch 184/200\n",
      "21/21 [==============================] - 0s 550us/step - loss: 0.1704 - accuracy: 0.9326\n",
      "Epoch 185/200\n",
      "21/21 [==============================] - 0s 650us/step - loss: 0.1446 - accuracy: 0.9319\n",
      "Epoch 186/200\n",
      "21/21 [==============================] - 0s 650us/step - loss: 0.1038 - accuracy: 0.9732\n",
      "Epoch 187/200\n",
      "21/21 [==============================] - 0s 600us/step - loss: 0.0854 - accuracy: 0.9826\n",
      "Epoch 188/200\n",
      "21/21 [==============================] - 0s 600us/step - loss: 0.0813 - accuracy: 0.9849\n",
      "Epoch 189/200\n",
      "21/21 [==============================] - 0s 950us/step - loss: 0.1028 - accuracy: 0.9860\n",
      "Epoch 190/200\n",
      "21/21 [==============================] - 0s 750us/step - loss: 0.1270 - accuracy: 0.9686\n",
      "Epoch 191/200\n",
      "21/21 [==============================] - 0s 550us/step - loss: 0.1086 - accuracy: 0.9686\n",
      "Epoch 192/200\n",
      "21/21 [==============================] - 0s 600us/step - loss: 0.0676 - accuracy: 0.9948\n",
      "Epoch 193/200\n",
      "21/21 [==============================] - 0s 600us/step - loss: 0.0932 - accuracy: 0.9770\n",
      "Epoch 194/200\n",
      "21/21 [==============================] - 0s 650us/step - loss: 0.1010 - accuracy: 0.9702\n",
      "Epoch 195/200\n",
      "21/21 [==============================] - 0s 599us/step - loss: 0.0921 - accuracy: 0.9833\n",
      "Epoch 196/200\n",
      "21/21 [==============================] - 0s 700us/step - loss: 0.0662 - accuracy: 0.9931\n",
      "Epoch 197/200\n",
      "21/21 [==============================] - 0s 600us/step - loss: 0.0923 - accuracy: 0.9798\n",
      "Epoch 198/200\n",
      "21/21 [==============================] - 0s 650us/step - loss: 0.1094 - accuracy: 0.9761\n",
      "Epoch 199/200\n",
      "21/21 [==============================] - 0s 650us/step - loss: 0.0772 - accuracy: 0.9840\n",
      "Epoch 200/200\n",
      "21/21 [==============================] - 0s 600us/step - loss: 0.1197 - accuracy: 0.9703\n"
     ]
    },
    {
     "output_type": "execute_result",
     "data": {
      "text/plain": [
       "<tensorflow.python.keras.callbacks.History at 0x21406eae820>"
      ]
     },
     "metadata": {},
     "execution_count": 144
    }
   ],
   "source": [
    "import keras\n",
    "\n",
    "# Define model with keras_Squential\n",
    "model = keras.Sequential()\n",
    "\n",
    "# Using 4 units at input as the feature matrix has 4 dimensions\n",
    "model.add(Dense(units = 4, activation = 'relu'))\n",
    "\n",
    "# Inner layer defined with 5 units\n",
    "model.add(Dense(units = 5, activation = 'relu'))\n",
    "\n",
    "# Using 3 output units as the label matrix has 3 dimensions\n",
    "model.add(Dense(units = 3, activation = 'softmax'))\n",
    "\n",
    "model.compile(optimizer = 'adam', loss='categorical_crossentropy', metrics=['accuracy'])\n",
    "\n",
    "model.fit(x_train, y_train, epochs=200, batch_size=5, shuffle=True)\n"
   ]
  },
  {
   "cell_type": "code",
   "execution_count": 145,
   "metadata": {},
   "outputs": [
    {
     "output_type": "stream",
     "name": "stdout",
     "text": [
      "Model: \"sequential_15\"\n",
      "_________________________________________________________________\n",
      "Layer (type)                 Output Shape              Param #   \n",
      "=================================================================\n",
      "dense_45 (Dense)             (5, 4)                    20        \n",
      "_________________________________________________________________\n",
      "dense_46 (Dense)             (5, 5)                    25        \n",
      "_________________________________________________________________\n",
      "dense_47 (Dense)             (5, 3)                    18        \n",
      "=================================================================\n",
      "Total params: 63\n",
      "Trainable params: 63\n",
      "Non-trainable params: 0\n",
      "_________________________________________________________________\n"
     ]
    }
   ],
   "source": [
    "model.summary()"
   ]
  },
  {
   "cell_type": "code",
   "execution_count": 146,
   "metadata": {},
   "outputs": [
    {
     "output_type": "stream",
     "name": "stdout",
     "text": [
      "WARNING:tensorflow:5 out of the last 11 calls to <function Model.make_test_function.<locals>.test_function at 0x00000214089AE940> triggered tf.function retracing. Tracing is expensive and the excessive number of tracings could be due to (1) creating @tf.function repeatedly in a loop, (2) passing tensors with different shapes, (3) passing Python objects instead of tensors. For (1), please define your @tf.function outside of the loop. For (2), @tf.function has experimental_relax_shapes=True option that relaxes argument shapes that can avoid unnecessary retracing. For (3), please refer to https://www.tensorflow.org/guide/function#controlling_retracing and https://www.tensorflow.org/api_docs/python/tf/function for  more details.\n",
      "2/2 [==============================] - 0s 1ms/step - loss: 0.1231 - accuracy: 0.9778\n",
      "\n",
      "Accuracy: 97.78%\n"
     ]
    }
   ],
   "source": [
    "scores = model.evaluate(x_test, y_test)\n",
    "print(\"\\nAccuracy: %.2f%%\" % (scores[1]*100))"
   ]
  },
  {
   "source": [
    "### Testing predictions\n",
    "\n",
    "The following statement will create a vector of all predictions for x_test matrix using the newly trained model"
   ],
   "cell_type": "markdown",
   "metadata": {}
  },
  {
   "cell_type": "code",
   "execution_count": 147,
   "metadata": {},
   "outputs": [],
   "source": [
    "y_pred = model.predict(x_test)"
   ]
  },
  {
   "source": [
    "### Prediction sample\n",
    "\n",
    "The following shows the probabilities computed for the first row of the x_train matrix"
   ],
   "cell_type": "markdown",
   "metadata": {}
  },
  {
   "cell_type": "code",
   "execution_count": 148,
   "metadata": {},
   "outputs": [
    {
     "output_type": "execute_result",
     "data": {
      "text/plain": [
       "(array([6. , 2.2, 4. , 1. ]),\n",
       " array([0.00956219, 0.96322066, 0.02721713], dtype=float32))"
      ]
     },
     "metadata": {},
     "execution_count": 148
    }
   ],
   "source": [
    "x_test[1,:],y_pred[1]"
   ]
  },
  {
   "source": [
    "### Interpretation of prediction\n",
    "\n",
    "There are 3 classes\n",
    " - Setosha(class 0)\n",
    " - Versicolor (class 1)\n",
    " - Virginica (class 2)\n",
    "\n",
    "So we would like to pick a class based on the y_pred row picked above (0.003, 0.99, 0.004) which shows that the highest probability of classification is in favor of versicolor, i.e class 1\n",
    "\n",
    "So to interpret the output layer we'll simply pick the highest probability and return the index as the classification, using numpy_argmax() function"
   ],
   "cell_type": "markdown",
   "metadata": {}
  },
  {
   "cell_type": "code",
   "execution_count": 149,
   "metadata": {},
   "outputs": [
    {
     "output_type": "stream",
     "name": "stdout",
     "text": [
      "1\n"
     ]
    }
   ],
   "source": [
    "y_pred_class = np.argmax(y_pred[1])\n",
    "print(y_pred_class)"
   ]
  },
  {
   "source": [
    "#### Save the model to the file system\n",
    "\n",
    "Now we use keras to save the model to the file system for future use"
   ],
   "cell_type": "markdown",
   "metadata": {}
  },
  {
   "cell_type": "code",
   "execution_count": 150,
   "metadata": {},
   "outputs": [
    {
     "output_type": "stream",
     "name": "stdout",
     "text": [
      "INFO:tensorflow:Assets written to: model_file.iris\\assets\n"
     ]
    }
   ],
   "source": [
    "model.save('model_file.iris')"
   ]
  },
  {
   "source": [
    "## Prediction from saved model\n",
    "\n",
    "\n",
    "Now we load the saved model from the file system and use it to run some predictions from saved data"
   ],
   "cell_type": "markdown",
   "metadata": {}
  },
  {
   "cell_type": "code",
   "execution_count": 151,
   "metadata": {},
   "outputs": [],
   "source": [
    "import numpy as np \n",
    "from keras.models import load_model\n",
    "\n",
    "iris_model = load_model('model_file.iris')"
   ]
  },
  {
   "source": [
    "Create input values with which to test the model"
   ],
   "cell_type": "markdown",
   "metadata": {}
  },
  {
   "cell_type": "code",
   "execution_count": 152,
   "metadata": {},
   "outputs": [
    {
     "output_type": "stream",
     "name": "stdout",
     "text": [
      "(1, 4)\n"
     ]
    }
   ],
   "source": [
    "data = np.array([[4.9, 3.0, 1.4, 0.9]])\n",
    "print(data.shape)\n"
   ]
  },
  {
   "cell_type": "code",
   "execution_count": 167,
   "metadata": {},
   "outputs": [
    {
     "output_type": "stream",
     "name": "stdout",
     "text": [
      "[[0.966116 0.033884 0.      ]]\n\nPrediction 1 class : 0\n"
     ]
    }
   ],
   "source": [
    "predictions_1 = iris_model.predict(data)\n",
    "\n",
    "# Set 6 decimal positions inorder for the output probability to be human readable\n",
    "np.set_printoptions(precision=6, suppress=True)\n",
    "\n",
    "print(predictions_1)\n",
    "\n",
    "print(\"\\nPrediction 1 class : %i\" % np.argmax(predictions_1))"
   ]
  },
  {
   "cell_type": "code",
   "execution_count": 168,
   "metadata": {},
   "outputs": [
    {
     "output_type": "stream",
     "name": "stdout",
     "text": [
      "[[0.213423 0.786559 0.000018]]\n\nPrediction 2 class : 1\n"
     ]
    }
   ],
   "source": [
    "predictions_2 = iris_model.predict(np.array([[6,2,1.8,2]]))\n",
    "\n",
    "print(predictions_2)\n",
    "\n",
    "print(\"\\nPrediction 2 class : %i\" % np.argmax(predictions_2))"
   ]
  },
  {
   "cell_type": "code",
   "execution_count": null,
   "metadata": {},
   "outputs": [],
   "source": []
  }
 ],
 "metadata": {
  "kernelspec": {
   "display_name": "Python 3",
   "language": "python",
   "name": "python3"
  },
  "language_info": {
   "codemirror_mode": {
    "name": "ipython",
    "version": 3
   },
   "file_extension": ".py",
   "mimetype": "text/x-python",
   "name": "python",
   "nbconvert_exporter": "python",
   "pygments_lexer": "ipython3",
   "version": "3.9.0-final"
  }
 },
 "nbformat": 4,
 "nbformat_minor": 1
}